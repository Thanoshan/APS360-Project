{
  "nbformat": 4,
  "nbformat_minor": 0,
  "metadata": {
    "colab": {
      "name": "Single_Char_Classifier.ipynb",
      "provenance": [],
      "collapsed_sections": []
    },
    "kernelspec": {
      "name": "python3",
      "display_name": "Python 3"
    },
    "language_info": {
      "name": "python"
    },
    "accelerator": "GPU"
  },
  "cells": [
    {
      "cell_type": "markdown",
      "source": [
        "# **Milestone 1: Single Character Classifier**"
      ],
      "metadata": {
        "id": "HnRf9dgQpuaW"
      }
    },
    {
      "cell_type": "markdown",
      "source": [
        "This is the notebook of our prototype single character classifier. This is the first milestone in our project, because being able to identify single characters is a prerequisite to identifying the characters used in the captcha "
      ],
      "metadata": {
        "id": "W_iga_UVpW4t"
      }
    },
    {
      "cell_type": "code",
      "source": [
        "#modules\n",
        "import numpy as np\n",
        "import matplotlib.pyplot as plt\n",
        "import time\n",
        "import torch\n",
        "import torch.nn as nn\n",
        "import torch.nn.functional as F\n",
        "import torch.optim as optim\n",
        "import torchvision\n",
        "from torch.utils.data.sampler import SubsetRandomSampler\n",
        "import torchvision.transforms as transforms\n",
        "from PIL import *\n",
        "from tqdm import tqdm\n",
        "\n",
        "\n",
        "use_cuda = True"
      ],
      "metadata": {
        "id": "77OpI8V5sW-Q"
      },
      "execution_count": null,
      "outputs": []
    },
    {
      "cell_type": "code",
      "source": [
        ""
      ],
      "metadata": {
        "id": "sEi7zy2NVW8w"
      },
      "execution_count": null,
      "outputs": []
    },
    {
      "cell_type": "code",
      "source": [
        ""
      ],
      "metadata": {
        "id": "_igzMjdwSwYe"
      },
      "execution_count": null,
      "outputs": []
    },
    {
      "cell_type": "code",
      "source": [
        "\n"
      ],
      "metadata": {
        "id": "4Rji7rEkHA7d"
      },
      "execution_count": null,
      "outputs": []
    },
    {
      "cell_type": "markdown",
      "source": [
        "# **Data Loading**"
      ],
      "metadata": {
        "id": "N-t_27UVp3OH"
      }
    },
    {
      "cell_type": "code",
      "source": [
        "from google.colab import drive\n",
        "drive.mount('/content/gdrive')"
      ],
      "metadata": {
        "id": "nPYMd8gHqTBr",
        "colab": {
          "base_uri": "https://localhost:8080/"
        },
        "outputId": "77d94be5-ec1a-4564-aaff-0fd171f5d538"
      },
      "execution_count": null,
      "outputs": [
        {
          "output_type": "stream",
          "name": "stdout",
          "text": [
            "Mounted at /content/gdrive\n"
          ]
        }
      ]
    },
    {
      "cell_type": "code",
      "source": [
        "cd /content"
      ],
      "metadata": {
        "colab": {
          "base_uri": "https://localhost:8080/"
        },
        "id": "VLce-xRkOnNr",
        "outputId": "e4591df1-068b-46f5-a8e4-557e0b4ef283"
      },
      "execution_count": null,
      "outputs": [
        {
          "output_type": "stream",
          "name": "stdout",
          "text": [
            "/content\n"
          ]
        }
      ]
    },
    {
      "cell_type": "code",
      "source": [
        "ls"
      ],
      "metadata": {
        "colab": {
          "base_uri": "https://localhost:8080/"
        },
        "id": "li5bnMWFyt4w",
        "outputId": "a7464da5-9599-4727-852f-3eebe09bafc6"
      },
      "execution_count": null,
      "outputs": [
        {
          "output_type": "stream",
          "name": "stdout",
          "text": [
            "chars.zip  \u001b[0m\u001b[01;34mgdrive\u001b[0m/  \u001b[01;34msample_data\u001b[0m/  val.zip\n"
          ]
        }
      ]
    },
    {
      "cell_type": "code",
      "source": [
        "!unzip val.zip \n"
      ],
      "metadata": {
        "colab": {
          "base_uri": "https://localhost:8080/"
        },
        "id": "lt3_dzA7OwN2",
        "outputId": "e6118ae7-3591-4c7a-9627-7a343a70d1e9"
      },
      "execution_count": null,
      "outputs": [
        {
          "output_type": "stream",
          "name": "stdout",
          "text": [
            "Archive:  val.zip\n",
            "   creating: val/\n",
            "   creating: val/0/\n",
            " extracting: val/0/0-1.png           \n",
            " extracting: val/0/0-10.png          \n",
            " extracting: val/0/0-11.png          \n",
            " extracting: val/0/0-12.png          \n",
            " extracting: val/0/0-13.png          \n",
            " extracting: val/0/0-14.png          \n",
            " extracting: val/0/0-15.png          \n",
            " extracting: val/0/0-16.png          \n",
            " extracting: val/0/0-17.png          \n",
            " extracting: val/0/0-18.png          \n",
            " extracting: val/0/0-19.png          \n",
            " extracting: val/0/0-2.png           \n",
            " extracting: val/0/0-20.png          \n",
            " extracting: val/0/0-21.png          \n",
            " extracting: val/0/0-22.png          \n",
            " extracting: val/0/0-23.png          \n",
            " extracting: val/0/0-24.png          \n",
            " extracting: val/0/0-25.png          \n",
            " extracting: val/0/0-26.png          \n",
            " extracting: val/0/0-27.png          \n",
            " extracting: val/0/0-28.png          \n",
            " extracting: val/0/0-29.png          \n",
            " extracting: val/0/0-3.png           \n",
            " extracting: val/0/0-30.png          \n",
            " extracting: val/0/0-31.png          \n",
            " extracting: val/0/0-32.png          \n",
            " extracting: val/0/0-33.png          \n",
            " extracting: val/0/0-34.png          \n",
            " extracting: val/0/0-35.png          \n",
            " extracting: val/0/0-36.png          \n",
            " extracting: val/0/0-37.png          \n",
            " extracting: val/0/0-38.png          \n",
            " extracting: val/0/0-39.png          \n",
            " extracting: val/0/0-4.png           \n",
            " extracting: val/0/0-40.png          \n",
            " extracting: val/0/0-41.png          \n",
            " extracting: val/0/0-42.png          \n",
            " extracting: val/0/0-43.png          \n",
            " extracting: val/0/0-44.png          \n",
            " extracting: val/0/0-45.png          \n",
            " extracting: val/0/0-46.png          \n",
            " extracting: val/0/0-47.png          \n",
            " extracting: val/0/0-48.png          \n",
            " extracting: val/0/0-49.png          \n",
            " extracting: val/0/0-5.png           \n",
            " extracting: val/0/0-50.png          \n",
            " extracting: val/0/0-51.png          \n",
            " extracting: val/0/0-52.png          \n",
            " extracting: val/0/0-53.png          \n",
            " extracting: val/0/0-54.png          \n",
            " extracting: val/0/0-55.png          \n",
            " extracting: val/0/0-56.png          \n",
            " extracting: val/0/0-57.png          \n",
            " extracting: val/0/0-58.png          \n",
            " extracting: val/0/0-59.png          \n",
            " extracting: val/0/0-6.png           \n",
            " extracting: val/0/0-60.png          \n",
            " extracting: val/0/0-61.png          \n",
            " extracting: val/0/0-62.png          \n",
            " extracting: val/0/0-63.png          \n",
            " extracting: val/0/0-64.png          \n",
            " extracting: val/0/0-7.png           \n",
            " extracting: val/0/0-8.png           \n",
            " extracting: val/0/0-9.png           \n",
            "   creating: val/1/\n",
            " extracting: val/1/1-1.png           \n",
            " extracting: val/1/1-10.png          \n",
            " extracting: val/1/1-11.png          \n",
            " extracting: val/1/1-12.png          \n",
            " extracting: val/1/1-13.png          \n",
            " extracting: val/1/1-14.png          \n",
            " extracting: val/1/1-15.png          \n",
            " extracting: val/1/1-16.png          \n",
            " extracting: val/1/1-17.png          \n",
            " extracting: val/1/1-18.png          \n",
            " extracting: val/1/1-19.png          \n",
            " extracting: val/1/1-2.png           \n",
            " extracting: val/1/1-20.png          \n",
            " extracting: val/1/1-21.png          \n",
            " extracting: val/1/1-22.png          \n",
            " extracting: val/1/1-23.png          \n",
            " extracting: val/1/1-24.png          \n",
            " extracting: val/1/1-25.png          \n",
            " extracting: val/1/1-26.png          \n",
            " extracting: val/1/1-27.png          \n",
            " extracting: val/1/1-28.png          \n",
            " extracting: val/1/1-29.png          \n",
            " extracting: val/1/1-3.png           \n",
            " extracting: val/1/1-30.png          \n",
            " extracting: val/1/1-31.png          \n",
            " extracting: val/1/1-32.png          \n",
            " extracting: val/1/1-33.png          \n",
            " extracting: val/1/1-34.png          \n",
            " extracting: val/1/1-35.png          \n",
            " extracting: val/1/1-36.png          \n",
            " extracting: val/1/1-37.png          \n",
            " extracting: val/1/1-38.png          \n",
            " extracting: val/1/1-39.png          \n",
            " extracting: val/1/1-4.png           \n",
            " extracting: val/1/1-40.png          \n",
            " extracting: val/1/1-41.png          \n",
            " extracting: val/1/1-42.png          \n",
            " extracting: val/1/1-43.png          \n",
            " extracting: val/1/1-44.png          \n",
            " extracting: val/1/1-45.png          \n",
            " extracting: val/1/1-46.png          \n",
            " extracting: val/1/1-47.png          \n",
            " extracting: val/1/1-48.png          \n",
            " extracting: val/1/1-49.png          \n",
            " extracting: val/1/1-5.png           \n",
            " extracting: val/1/1-50.png          \n",
            " extracting: val/1/1-51.png          \n",
            " extracting: val/1/1-52.png          \n",
            " extracting: val/1/1-53.png          \n",
            " extracting: val/1/1-54.png          \n",
            " extracting: val/1/1-55.png          \n",
            " extracting: val/1/1-56.png          \n",
            " extracting: val/1/1-57.png          \n",
            " extracting: val/1/1-58.png          \n",
            " extracting: val/1/1-59.png          \n",
            " extracting: val/1/1-6.png           \n",
            " extracting: val/1/1-60.png          \n",
            " extracting: val/1/1-61.png          \n",
            " extracting: val/1/1-62.png          \n",
            " extracting: val/1/1-63.png          \n",
            " extracting: val/1/1-64.png          \n",
            " extracting: val/1/1-7.png           \n",
            " extracting: val/1/1-8.png           \n",
            " extracting: val/1/1-9.png           \n",
            "   creating: val/2/\n",
            " extracting: val/2/2-1.png           \n",
            " extracting: val/2/2-10.png          \n",
            " extracting: val/2/2-11.png          \n",
            " extracting: val/2/2-12.png          \n",
            " extracting: val/2/2-13.png          \n",
            " extracting: val/2/2-14.png          \n",
            " extracting: val/2/2-15.png          \n",
            " extracting: val/2/2-16.png          \n",
            " extracting: val/2/2-17.png          \n",
            " extracting: val/2/2-18.png          \n",
            " extracting: val/2/2-19.png          \n",
            " extracting: val/2/2-2.png           \n",
            " extracting: val/2/2-20.png          \n",
            " extracting: val/2/2-21.png          \n",
            " extracting: val/2/2-22.png          \n",
            " extracting: val/2/2-23.png          \n",
            " extracting: val/2/2-24.png          \n",
            " extracting: val/2/2-25.png          \n",
            " extracting: val/2/2-26.png          \n",
            " extracting: val/2/2-27.png          \n",
            " extracting: val/2/2-28.png          \n",
            " extracting: val/2/2-29.png          \n",
            " extracting: val/2/2-3.png           \n",
            " extracting: val/2/2-30.png          \n",
            " extracting: val/2/2-31.png          \n",
            " extracting: val/2/2-32.png          \n",
            " extracting: val/2/2-33.png          \n",
            " extracting: val/2/2-34.png          \n",
            " extracting: val/2/2-35.png          \n",
            " extracting: val/2/2-36.png          \n",
            " extracting: val/2/2-37.png          \n",
            " extracting: val/2/2-38.png          \n",
            " extracting: val/2/2-39.png          \n",
            " extracting: val/2/2-4.png           \n",
            " extracting: val/2/2-40.png          \n",
            " extracting: val/2/2-41.png          \n",
            " extracting: val/2/2-42.png          \n",
            " extracting: val/2/2-43.png          \n",
            " extracting: val/2/2-44.png          \n",
            " extracting: val/2/2-45.png          \n",
            " extracting: val/2/2-46.png          \n",
            " extracting: val/2/2-47.png          \n",
            " extracting: val/2/2-48.png          \n",
            " extracting: val/2/2-49.png          \n",
            " extracting: val/2/2-5.png           \n",
            " extracting: val/2/2-50.png          \n",
            " extracting: val/2/2-51.png          \n",
            " extracting: val/2/2-52.png          \n",
            " extracting: val/2/2-53.png          \n",
            " extracting: val/2/2-54.png          \n",
            " extracting: val/2/2-55.png          \n",
            " extracting: val/2/2-56.png          \n",
            " extracting: val/2/2-57.png          \n",
            " extracting: val/2/2-58.png          \n",
            " extracting: val/2/2-59.png          \n",
            " extracting: val/2/2-6.png           \n",
            " extracting: val/2/2-60.png          \n",
            " extracting: val/2/2-61.png          \n",
            " extracting: val/2/2-62.png          \n",
            " extracting: val/2/2-63.png          \n",
            " extracting: val/2/2-64.png          \n",
            " extracting: val/2/2-7.png           \n",
            " extracting: val/2/2-8.png           \n",
            " extracting: val/2/2-9.png           \n",
            "   creating: val/3/\n",
            " extracting: val/3/3-1.png           \n",
            " extracting: val/3/3-10.png          \n",
            " extracting: val/3/3-11.png          \n",
            " extracting: val/3/3-12.png          \n",
            " extracting: val/3/3-13.png          \n",
            " extracting: val/3/3-14.png          \n",
            " extracting: val/3/3-15.png          \n",
            " extracting: val/3/3-16.png          \n",
            " extracting: val/3/3-17.png          \n",
            " extracting: val/3/3-18.png          \n",
            " extracting: val/3/3-19.png          \n",
            " extracting: val/3/3-2.png           \n",
            " extracting: val/3/3-20.png          \n",
            " extracting: val/3/3-21.png          \n",
            " extracting: val/3/3-22.png          \n",
            " extracting: val/3/3-23.png          \n",
            " extracting: val/3/3-24.png          \n",
            " extracting: val/3/3-25.png          \n",
            " extracting: val/3/3-26.png          \n",
            " extracting: val/3/3-27.png          \n",
            " extracting: val/3/3-28.png          \n",
            " extracting: val/3/3-29.png          \n",
            " extracting: val/3/3-3.png           \n",
            " extracting: val/3/3-30.png          \n",
            " extracting: val/3/3-31.png          \n",
            " extracting: val/3/3-32.png          \n",
            " extracting: val/3/3-33.png          \n",
            " extracting: val/3/3-34.png          \n",
            " extracting: val/3/3-35.png          \n",
            " extracting: val/3/3-36.png          \n",
            " extracting: val/3/3-37.png          \n",
            " extracting: val/3/3-38.png          \n",
            " extracting: val/3/3-39.png          \n",
            " extracting: val/3/3-4.png           \n",
            " extracting: val/3/3-40.png          \n",
            " extracting: val/3/3-41.png          \n",
            " extracting: val/3/3-42.png          \n",
            " extracting: val/3/3-43.png          \n",
            " extracting: val/3/3-44.png          \n",
            " extracting: val/3/3-45.png          \n",
            " extracting: val/3/3-46.png          \n",
            " extracting: val/3/3-47.png          \n",
            " extracting: val/3/3-48.png          \n",
            " extracting: val/3/3-49.png          \n",
            " extracting: val/3/3-5.png           \n",
            " extracting: val/3/3-50.png          \n",
            " extracting: val/3/3-51.png          \n",
            " extracting: val/3/3-52.png          \n",
            " extracting: val/3/3-53.png          \n",
            " extracting: val/3/3-54.png          \n",
            " extracting: val/3/3-55.png          \n",
            " extracting: val/3/3-56.png          \n",
            " extracting: val/3/3-57.png          \n",
            " extracting: val/3/3-58.png          \n",
            " extracting: val/3/3-59.png          \n",
            " extracting: val/3/3-6.png           \n",
            " extracting: val/3/3-60.png          \n",
            " extracting: val/3/3-61.png          \n",
            " extracting: val/3/3-62.png          \n",
            " extracting: val/3/3-63.png          \n",
            " extracting: val/3/3-64.png          \n",
            " extracting: val/3/3-7.png           \n",
            " extracting: val/3/3-8.png           \n",
            " extracting: val/3/3-9.png           \n",
            "   creating: val/4/\n",
            " extracting: val/4/4-1.png           \n",
            " extracting: val/4/4-10.png          \n",
            " extracting: val/4/4-11.png          \n",
            " extracting: val/4/4-12.png          \n",
            " extracting: val/4/4-13.png          \n",
            " extracting: val/4/4-14.png          \n",
            " extracting: val/4/4-15.png          \n",
            " extracting: val/4/4-16.png          \n",
            " extracting: val/4/4-17.png          \n",
            " extracting: val/4/4-18.png          \n",
            " extracting: val/4/4-19.png          \n",
            " extracting: val/4/4-2.png           \n",
            " extracting: val/4/4-20.png          \n",
            " extracting: val/4/4-21.png          \n",
            " extracting: val/4/4-22.png          \n",
            " extracting: val/4/4-23.png          \n",
            " extracting: val/4/4-24.png          \n",
            " extracting: val/4/4-25.png          \n",
            " extracting: val/4/4-26.png          \n",
            " extracting: val/4/4-27.png          \n",
            " extracting: val/4/4-28.png          \n",
            " extracting: val/4/4-29.png          \n",
            " extracting: val/4/4-3.png           \n",
            " extracting: val/4/4-30.png          \n",
            " extracting: val/4/4-31.png          \n",
            " extracting: val/4/4-32.png          \n",
            " extracting: val/4/4-33.png          \n",
            " extracting: val/4/4-34.png          \n",
            " extracting: val/4/4-35.png          \n",
            " extracting: val/4/4-36.png          \n",
            " extracting: val/4/4-37.png          \n",
            " extracting: val/4/4-38.png          \n",
            " extracting: val/4/4-39.png          \n",
            " extracting: val/4/4-4.png           \n",
            " extracting: val/4/4-40.png          \n",
            " extracting: val/4/4-41.png          \n",
            " extracting: val/4/4-42.png          \n",
            " extracting: val/4/4-43.png          \n",
            " extracting: val/4/4-44.png          \n",
            " extracting: val/4/4-45.png          \n",
            " extracting: val/4/4-46.png          \n",
            " extracting: val/4/4-47.png          \n",
            " extracting: val/4/4-48.png          \n",
            " extracting: val/4/4-49.png          \n",
            " extracting: val/4/4-5.png           \n",
            " extracting: val/4/4-50.png          \n",
            " extracting: val/4/4-51.png          \n",
            " extracting: val/4/4-52.png          \n",
            " extracting: val/4/4-53.png          \n",
            " extracting: val/4/4-54.png          \n",
            " extracting: val/4/4-55.png          \n",
            " extracting: val/4/4-56.png          \n",
            " extracting: val/4/4-57.png          \n",
            " extracting: val/4/4-58.png          \n",
            " extracting: val/4/4-59.png          \n",
            " extracting: val/4/4-6.png           \n",
            " extracting: val/4/4-60.png          \n",
            " extracting: val/4/4-61.png          \n",
            " extracting: val/4/4-62.png          \n",
            " extracting: val/4/4-63.png          \n",
            " extracting: val/4/4-64.png          \n",
            " extracting: val/4/4-7.png           \n",
            " extracting: val/4/4-8.png           \n",
            " extracting: val/4/4-9.png           \n",
            "   creating: val/5/\n",
            " extracting: val/5/5-1.png           \n",
            " extracting: val/5/5-10.png          \n",
            " extracting: val/5/5-11.png          \n",
            " extracting: val/5/5-12.png          \n",
            " extracting: val/5/5-13.png          \n",
            " extracting: val/5/5-14.png          \n",
            " extracting: val/5/5-15.png          \n",
            " extracting: val/5/5-16.png          \n",
            " extracting: val/5/5-17.png          \n",
            " extracting: val/5/5-18.png          \n",
            " extracting: val/5/5-19.png          \n",
            " extracting: val/5/5-2.png           \n",
            " extracting: val/5/5-20.png          \n",
            " extracting: val/5/5-21.png          \n",
            " extracting: val/5/5-22.png          \n",
            " extracting: val/5/5-23.png          \n",
            " extracting: val/5/5-24.png          \n",
            " extracting: val/5/5-25.png          \n",
            " extracting: val/5/5-26.png          \n",
            " extracting: val/5/5-27.png          \n",
            " extracting: val/5/5-28.png          \n",
            " extracting: val/5/5-29.png          \n",
            " extracting: val/5/5-3.png           \n",
            " extracting: val/5/5-30.png          \n",
            " extracting: val/5/5-31.png          \n",
            " extracting: val/5/5-32.png          \n",
            " extracting: val/5/5-33.png          \n",
            " extracting: val/5/5-34.png          \n",
            " extracting: val/5/5-35.png          \n",
            " extracting: val/5/5-36.png          \n",
            " extracting: val/5/5-37.png          \n",
            " extracting: val/5/5-38.png          \n",
            " extracting: val/5/5-39.png          \n",
            " extracting: val/5/5-4.png           \n",
            " extracting: val/5/5-40.png          \n",
            " extracting: val/5/5-41.png          \n",
            " extracting: val/5/5-42.png          \n",
            " extracting: val/5/5-43.png          \n",
            " extracting: val/5/5-44.png          \n",
            " extracting: val/5/5-45.png          \n",
            " extracting: val/5/5-46.png          \n",
            " extracting: val/5/5-47.png          \n",
            " extracting: val/5/5-48.png          \n",
            " extracting: val/5/5-49.png          \n",
            " extracting: val/5/5-5.png           \n",
            " extracting: val/5/5-50.png          \n",
            " extracting: val/5/5-51.png          \n",
            " extracting: val/5/5-52.png          \n",
            " extracting: val/5/5-53.png          \n",
            " extracting: val/5/5-54.png          \n",
            " extracting: val/5/5-55.png          \n",
            " extracting: val/5/5-56.png          \n",
            " extracting: val/5/5-57.png          \n",
            " extracting: val/5/5-58.png          \n",
            " extracting: val/5/5-59.png          \n",
            " extracting: val/5/5-6.png           \n",
            " extracting: val/5/5-60.png          \n",
            " extracting: val/5/5-61.png          \n",
            " extracting: val/5/5-62.png          \n",
            " extracting: val/5/5-63.png          \n",
            " extracting: val/5/5-64.png          \n",
            " extracting: val/5/5-7.png           \n",
            " extracting: val/5/5-8.png           \n",
            " extracting: val/5/5-9.png           \n",
            "   creating: val/6/\n",
            " extracting: val/6/6-1.png           \n",
            " extracting: val/6/6-10.png          \n",
            " extracting: val/6/6-11.png          \n",
            " extracting: val/6/6-12.png          \n",
            " extracting: val/6/6-13.png          \n",
            " extracting: val/6/6-14.png          \n",
            " extracting: val/6/6-15.png          \n",
            " extracting: val/6/6-16.png          \n",
            " extracting: val/6/6-17.png          \n",
            " extracting: val/6/6-18.png          \n",
            " extracting: val/6/6-19.png          \n",
            " extracting: val/6/6-2.png           \n",
            " extracting: val/6/6-20.png          \n",
            " extracting: val/6/6-21.png          \n",
            " extracting: val/6/6-22.png          \n",
            " extracting: val/6/6-23.png          \n",
            " extracting: val/6/6-24.png          \n",
            " extracting: val/6/6-25.png          \n",
            " extracting: val/6/6-26.png          \n",
            " extracting: val/6/6-27.png          \n",
            " extracting: val/6/6-28.png          \n",
            " extracting: val/6/6-29.png          \n",
            " extracting: val/6/6-3.png           \n",
            " extracting: val/6/6-30.png          \n",
            " extracting: val/6/6-31.png          \n",
            " extracting: val/6/6-32.png          \n",
            " extracting: val/6/6-33.png          \n",
            " extracting: val/6/6-34.png          \n",
            " extracting: val/6/6-35.png          \n",
            " extracting: val/6/6-36.png          \n",
            " extracting: val/6/6-37.png          \n",
            " extracting: val/6/6-38.png          \n",
            " extracting: val/6/6-39.png          \n",
            " extracting: val/6/6-4.png           \n",
            " extracting: val/6/6-40.png          \n",
            " extracting: val/6/6-41.png          \n",
            " extracting: val/6/6-42.png          \n",
            " extracting: val/6/6-43.png          \n",
            " extracting: val/6/6-44.png          \n",
            " extracting: val/6/6-45.png          \n",
            " extracting: val/6/6-46.png          \n",
            " extracting: val/6/6-47.png          \n",
            " extracting: val/6/6-48.png          \n",
            " extracting: val/6/6-49.png          \n",
            " extracting: val/6/6-5.png           \n",
            " extracting: val/6/6-50.png          \n",
            " extracting: val/6/6-51.png          \n",
            " extracting: val/6/6-52.png          \n",
            " extracting: val/6/6-53.png          \n",
            " extracting: val/6/6-54.png          \n",
            " extracting: val/6/6-55.png          \n",
            " extracting: val/6/6-56.png          \n",
            " extracting: val/6/6-57.png          \n",
            " extracting: val/6/6-58.png          \n",
            " extracting: val/6/6-59.png          \n",
            " extracting: val/6/6-6.png           \n",
            " extracting: val/6/6-60.png          \n",
            " extracting: val/6/6-61.png          \n",
            " extracting: val/6/6-62.png          \n",
            " extracting: val/6/6-63.png          \n",
            " extracting: val/6/6-64.png          \n",
            " extracting: val/6/6-7.png           \n",
            " extracting: val/6/6-8.png           \n",
            " extracting: val/6/6-9.png           \n",
            "   creating: val/7/\n",
            " extracting: val/7/7-1.png           \n",
            " extracting: val/7/7-10.png          \n",
            " extracting: val/7/7-11.png          \n",
            " extracting: val/7/7-12.png          \n",
            " extracting: val/7/7-13.png          \n",
            " extracting: val/7/7-14.png          \n",
            " extracting: val/7/7-15.png          \n",
            " extracting: val/7/7-16.png          \n",
            " extracting: val/7/7-17.png          \n",
            " extracting: val/7/7-18.png          \n",
            " extracting: val/7/7-19.png          \n",
            " extracting: val/7/7-2.png           \n",
            " extracting: val/7/7-20.png          \n",
            " extracting: val/7/7-21.png          \n",
            " extracting: val/7/7-22.png          \n",
            " extracting: val/7/7-23.png          \n",
            " extracting: val/7/7-24.png          \n",
            " extracting: val/7/7-25.png          \n",
            " extracting: val/7/7-26.png          \n",
            " extracting: val/7/7-27.png          \n",
            " extracting: val/7/7-28.png          \n",
            " extracting: val/7/7-29.png          \n",
            " extracting: val/7/7-3.png           \n",
            " extracting: val/7/7-30.png          \n",
            " extracting: val/7/7-31.png          \n",
            " extracting: val/7/7-32.png          \n",
            " extracting: val/7/7-33.png          \n",
            " extracting: val/7/7-34.png          \n",
            " extracting: val/7/7-35.png          \n",
            " extracting: val/7/7-36.png          \n",
            " extracting: val/7/7-37.png          \n",
            " extracting: val/7/7-38.png          \n",
            " extracting: val/7/7-39.png          \n",
            " extracting: val/7/7-4.png           \n",
            " extracting: val/7/7-40.png          \n",
            " extracting: val/7/7-41.png          \n",
            " extracting: val/7/7-42.png          \n",
            " extracting: val/7/7-43.png          \n",
            " extracting: val/7/7-44.png          \n",
            " extracting: val/7/7-45.png          \n",
            " extracting: val/7/7-46.png          \n",
            " extracting: val/7/7-47.png          \n",
            " extracting: val/7/7-48.png          \n",
            " extracting: val/7/7-49.png          \n",
            " extracting: val/7/7-5.png           \n",
            " extracting: val/7/7-50.png          \n",
            " extracting: val/7/7-51.png          \n",
            " extracting: val/7/7-52.png          \n",
            " extracting: val/7/7-53.png          \n",
            " extracting: val/7/7-54.png          \n",
            " extracting: val/7/7-55.png          \n",
            " extracting: val/7/7-56.png          \n",
            " extracting: val/7/7-57.png          \n",
            " extracting: val/7/7-58.png          \n",
            " extracting: val/7/7-59.png          \n",
            " extracting: val/7/7-6.png           \n",
            " extracting: val/7/7-60.png          \n",
            " extracting: val/7/7-61.png          \n",
            " extracting: val/7/7-62.png          \n",
            " extracting: val/7/7-63.png          \n",
            " extracting: val/7/7-64.png          \n",
            " extracting: val/7/7-7.png           \n",
            " extracting: val/7/7-8.png           \n",
            " extracting: val/7/7-9.png           \n",
            "   creating: val/8/\n",
            " extracting: val/8/8-1.png           \n",
            " extracting: val/8/8-10.png          \n",
            " extracting: val/8/8-11.png          \n",
            " extracting: val/8/8-12.png          \n",
            " extracting: val/8/8-13.png          \n",
            " extracting: val/8/8-14.png          \n",
            " extracting: val/8/8-15.png          \n",
            " extracting: val/8/8-16.png          \n",
            " extracting: val/8/8-17.png          \n",
            " extracting: val/8/8-18.png          \n",
            " extracting: val/8/8-19.png          \n",
            " extracting: val/8/8-2.png           \n",
            " extracting: val/8/8-20.png          \n",
            " extracting: val/8/8-21.png          \n",
            " extracting: val/8/8-22.png          \n",
            " extracting: val/8/8-23.png          \n",
            " extracting: val/8/8-24.png          \n",
            " extracting: val/8/8-25.png          \n",
            " extracting: val/8/8-26.png          \n",
            " extracting: val/8/8-27.png          \n",
            " extracting: val/8/8-28.png          \n",
            " extracting: val/8/8-29.png          \n",
            " extracting: val/8/8-3.png           \n",
            " extracting: val/8/8-30.png          \n",
            " extracting: val/8/8-31.png          \n",
            " extracting: val/8/8-32.png          \n",
            " extracting: val/8/8-33.png          \n",
            " extracting: val/8/8-34.png          \n",
            " extracting: val/8/8-35.png          \n",
            " extracting: val/8/8-36.png          \n",
            " extracting: val/8/8-37.png          \n",
            " extracting: val/8/8-38.png          \n",
            " extracting: val/8/8-39.png          \n",
            " extracting: val/8/8-4.png           \n",
            " extracting: val/8/8-40.png          \n",
            " extracting: val/8/8-41.png          \n",
            " extracting: val/8/8-42.png          \n",
            " extracting: val/8/8-43.png          \n",
            " extracting: val/8/8-44.png          \n",
            " extracting: val/8/8-45.png          \n",
            " extracting: val/8/8-46.png          \n",
            " extracting: val/8/8-47.png          \n",
            " extracting: val/8/8-48.png          \n",
            " extracting: val/8/8-49.png          \n",
            " extracting: val/8/8-5.png           \n",
            " extracting: val/8/8-50.png          \n",
            " extracting: val/8/8-51.png          \n",
            " extracting: val/8/8-52.png          \n",
            " extracting: val/8/8-53.png          \n",
            " extracting: val/8/8-54.png          \n",
            " extracting: val/8/8-55.png          \n",
            " extracting: val/8/8-56.png          \n",
            " extracting: val/8/8-57.png          \n",
            " extracting: val/8/8-58.png          \n",
            " extracting: val/8/8-59.png          \n",
            " extracting: val/8/8-6.png           \n",
            " extracting: val/8/8-60.png          \n",
            " extracting: val/8/8-61.png          \n",
            " extracting: val/8/8-62.png          \n",
            " extracting: val/8/8-63.png          \n",
            " extracting: val/8/8-64.png          \n",
            " extracting: val/8/8-7.png           \n",
            " extracting: val/8/8-8.png           \n",
            " extracting: val/8/8-9.png           \n",
            "   creating: val/9/\n",
            " extracting: val/9/9-1.png           \n",
            " extracting: val/9/9-10.png          \n",
            " extracting: val/9/9-11.png          \n",
            " extracting: val/9/9-12.png          \n",
            " extracting: val/9/9-13.png          \n",
            " extracting: val/9/9-14.png          \n",
            " extracting: val/9/9-15.png          \n",
            " extracting: val/9/9-16.png          \n",
            " extracting: val/9/9-17.png          \n",
            " extracting: val/9/9-18.png          \n",
            " extracting: val/9/9-19.png          \n",
            " extracting: val/9/9-2.png           \n",
            " extracting: val/9/9-20.png          \n",
            " extracting: val/9/9-21.png          \n",
            " extracting: val/9/9-22.png          \n",
            " extracting: val/9/9-23.png          \n",
            " extracting: val/9/9-24.png          \n",
            " extracting: val/9/9-25.png          \n",
            " extracting: val/9/9-26.png          \n",
            " extracting: val/9/9-27.png          \n",
            " extracting: val/9/9-28.png          \n",
            " extracting: val/9/9-29.png          \n",
            " extracting: val/9/9-3.png           \n",
            " extracting: val/9/9-30.png          \n",
            " extracting: val/9/9-31.png          \n",
            " extracting: val/9/9-32.png          \n",
            " extracting: val/9/9-33.png          \n",
            " extracting: val/9/9-34.png          \n",
            " extracting: val/9/9-35.png          \n",
            " extracting: val/9/9-36.png          \n",
            " extracting: val/9/9-37.png          \n",
            " extracting: val/9/9-38.png          \n",
            " extracting: val/9/9-39.png          \n",
            " extracting: val/9/9-4.png           \n",
            " extracting: val/9/9-40.png          \n",
            " extracting: val/9/9-41.png          \n",
            " extracting: val/9/9-42.png          \n",
            " extracting: val/9/9-43.png          \n",
            " extracting: val/9/9-44.png          \n",
            " extracting: val/9/9-45.png          \n",
            " extracting: val/9/9-46.png          \n",
            " extracting: val/9/9-47.png          \n",
            " extracting: val/9/9-48.png          \n",
            " extracting: val/9/9-49.png          \n",
            " extracting: val/9/9-5.png           \n",
            " extracting: val/9/9-50.png          \n",
            " extracting: val/9/9-51.png          \n",
            " extracting: val/9/9-52.png          \n",
            " extracting: val/9/9-53.png          \n",
            " extracting: val/9/9-54.png          \n",
            " extracting: val/9/9-55.png          \n",
            " extracting: val/9/9-56.png          \n",
            " extracting: val/9/9-57.png          \n",
            " extracting: val/9/9-58.png          \n",
            " extracting: val/9/9-59.png          \n",
            " extracting: val/9/9-6.png           \n",
            " extracting: val/9/9-60.png          \n",
            " extracting: val/9/9-61.png          \n",
            " extracting: val/9/9-62.png          \n",
            " extracting: val/9/9-63.png          \n",
            " extracting: val/9/9-64.png          \n",
            " extracting: val/9/9-7.png           \n",
            " extracting: val/9/9-8.png           \n",
            " extracting: val/9/9-9.png           \n",
            "   creating: val/a/\n",
            " extracting: val/a/a-1.png           \n",
            " extracting: val/a/a-10.png          \n",
            " extracting: val/a/a-11.png          \n",
            " extracting: val/a/a-12.png          \n",
            " extracting: val/a/a-13.png          \n",
            " extracting: val/a/a-14.png          \n",
            " extracting: val/a/a-15.png          \n",
            " extracting: val/a/a-16.png          \n",
            " extracting: val/a/a-17.png          \n",
            " extracting: val/a/a-18.png          \n",
            " extracting: val/a/a-19.png          \n",
            " extracting: val/a/a-2.png           \n",
            " extracting: val/a/a-20.png          \n",
            " extracting: val/a/a-21.png          \n",
            " extracting: val/a/a-22.png          \n",
            " extracting: val/a/a-23.png          \n",
            " extracting: val/a/a-24.png          \n",
            " extracting: val/a/a-25.png          \n",
            " extracting: val/a/a-26.png          \n",
            " extracting: val/a/a-27.png          \n",
            " extracting: val/a/a-28.png          \n",
            " extracting: val/a/a-29.png          \n",
            " extracting: val/a/a-3.png           \n",
            " extracting: val/a/a-30.png          \n",
            " extracting: val/a/a-31.png          \n",
            " extracting: val/a/a-32.png          \n",
            " extracting: val/a/a-33.png          \n",
            " extracting: val/a/a-34.png          \n",
            " extracting: val/a/a-35.png          \n",
            " extracting: val/a/a-36.png          \n",
            " extracting: val/a/a-37.png          \n",
            " extracting: val/a/a-38.png          \n",
            " extracting: val/a/a-39.png          \n",
            " extracting: val/a/a-4.png           \n",
            " extracting: val/a/a-40.png          \n",
            " extracting: val/a/a-41.png          \n",
            " extracting: val/a/a-42.png          \n",
            " extracting: val/a/a-43.png          \n",
            " extracting: val/a/a-44.png          \n",
            " extracting: val/a/a-45.png          \n",
            " extracting: val/a/a-46.png          \n",
            " extracting: val/a/a-47.png          \n",
            " extracting: val/a/a-48.png          \n",
            " extracting: val/a/a-49.png          \n",
            " extracting: val/a/a-5.png           \n",
            " extracting: val/a/a-50.png          \n",
            " extracting: val/a/a-51.png          \n",
            " extracting: val/a/a-52.png          \n",
            " extracting: val/a/a-53.png          \n",
            " extracting: val/a/a-54.png          \n",
            " extracting: val/a/a-55.png          \n",
            " extracting: val/a/a-56.png          \n",
            " extracting: val/a/a-57.png          \n",
            " extracting: val/a/a-58.png          \n",
            " extracting: val/a/a-59.png          \n",
            " extracting: val/a/a-6.png           \n",
            " extracting: val/a/a-60.png          \n",
            " extracting: val/a/a-61.png          \n",
            " extracting: val/a/a-62.png          \n",
            " extracting: val/a/a-63.png          \n",
            " extracting: val/a/a-64.png          \n",
            " extracting: val/a/a-7.png           \n",
            " extracting: val/a/a-8.png           \n",
            " extracting: val/a/a-9.png           \n",
            "   creating: val/b/\n",
            " extracting: val/b/b-1.png           \n",
            " extracting: val/b/b-10.png          \n",
            " extracting: val/b/b-11.png          \n",
            " extracting: val/b/b-12.png          \n",
            " extracting: val/b/b-13.png          \n",
            " extracting: val/b/b-14.png          \n",
            " extracting: val/b/b-15.png          \n",
            " extracting: val/b/b-16.png          \n",
            " extracting: val/b/b-17.png          \n",
            " extracting: val/b/b-18.png          \n",
            " extracting: val/b/b-19.png          \n",
            " extracting: val/b/b-2.png           \n",
            " extracting: val/b/b-20.png          \n",
            " extracting: val/b/b-21.png          \n",
            " extracting: val/b/b-22.png          \n",
            " extracting: val/b/b-23.png          \n",
            " extracting: val/b/b-24.png          \n",
            " extracting: val/b/b-25.png          \n",
            " extracting: val/b/b-26.png          \n",
            " extracting: val/b/b-27.png          \n",
            " extracting: val/b/b-28.png          \n",
            " extracting: val/b/b-29.png          \n",
            " extracting: val/b/b-3.png           \n",
            " extracting: val/b/b-30.png          \n",
            " extracting: val/b/b-31.png          \n",
            " extracting: val/b/b-32.png          \n",
            " extracting: val/b/b-33.png          \n",
            " extracting: val/b/b-34.png          \n",
            " extracting: val/b/b-35.png          \n",
            " extracting: val/b/b-36.png          \n",
            " extracting: val/b/b-37.png          \n",
            " extracting: val/b/b-38.png          \n",
            " extracting: val/b/b-39.png          \n",
            " extracting: val/b/b-4.png           \n",
            " extracting: val/b/b-40.png          \n",
            " extracting: val/b/b-41.png          \n",
            " extracting: val/b/b-42.png          \n",
            " extracting: val/b/b-43.png          \n",
            " extracting: val/b/b-44.png          \n",
            " extracting: val/b/b-45.png          \n",
            " extracting: val/b/b-46.png          \n",
            " extracting: val/b/b-47.png          \n",
            " extracting: val/b/b-48.png          \n",
            " extracting: val/b/b-49.png          \n",
            " extracting: val/b/b-5.png           \n",
            " extracting: val/b/b-50.png          \n",
            " extracting: val/b/b-51.png          \n",
            " extracting: val/b/b-52.png          \n",
            " extracting: val/b/b-53.png          \n",
            " extracting: val/b/b-54.png          \n",
            " extracting: val/b/b-55.png          \n",
            " extracting: val/b/b-56.png          \n",
            " extracting: val/b/b-57.png          \n",
            " extracting: val/b/b-58.png          \n",
            " extracting: val/b/b-59.png          \n",
            " extracting: val/b/b-6.png           \n",
            " extracting: val/b/b-60.png          \n",
            " extracting: val/b/b-61.png          \n",
            " extracting: val/b/b-62.png          \n",
            " extracting: val/b/b-63.png          \n",
            " extracting: val/b/b-64.png          \n",
            " extracting: val/b/b-7.png           \n",
            " extracting: val/b/b-8.png           \n",
            " extracting: val/b/b-9.png           \n",
            "   creating: val/c/\n",
            " extracting: val/c/c-1.png           \n",
            " extracting: val/c/c-10.png          \n",
            " extracting: val/c/c-11.png          \n",
            " extracting: val/c/c-12.png          \n",
            " extracting: val/c/c-13.png          \n",
            " extracting: val/c/c-14.png          \n",
            " extracting: val/c/c-15.png          \n",
            " extracting: val/c/c-16.png          \n",
            " extracting: val/c/c-17.png          \n",
            " extracting: val/c/c-18.png          \n",
            " extracting: val/c/c-19.png          \n",
            " extracting: val/c/c-2.png           \n",
            " extracting: val/c/c-20.png          \n",
            " extracting: val/c/c-21.png          \n",
            " extracting: val/c/c-22.png          \n",
            " extracting: val/c/c-23.png          \n",
            " extracting: val/c/c-24.png          \n",
            " extracting: val/c/c-25.png          \n",
            " extracting: val/c/c-26.png          \n",
            " extracting: val/c/c-27.png          \n",
            " extracting: val/c/c-28.png          \n",
            " extracting: val/c/c-29.png          \n",
            " extracting: val/c/c-3.png           \n",
            " extracting: val/c/c-30.png          \n",
            " extracting: val/c/c-31.png          \n",
            " extracting: val/c/c-32.png          \n",
            " extracting: val/c/c-33.png          \n",
            " extracting: val/c/c-34.png          \n",
            " extracting: val/c/c-35.png          \n",
            " extracting: val/c/c-36.png          \n",
            " extracting: val/c/c-37.png          \n",
            " extracting: val/c/c-38.png          \n",
            " extracting: val/c/c-39.png          \n",
            " extracting: val/c/c-4.png           \n",
            " extracting: val/c/c-40.png          \n",
            " extracting: val/c/c-41.png          \n",
            " extracting: val/c/c-42.png          \n",
            " extracting: val/c/c-43.png          \n",
            " extracting: val/c/c-44.png          \n",
            " extracting: val/c/c-45.png          \n",
            " extracting: val/c/c-46.png          \n",
            " extracting: val/c/c-47.png          \n",
            " extracting: val/c/c-48.png          \n",
            " extracting: val/c/c-49.png          \n",
            " extracting: val/c/c-5.png           \n",
            " extracting: val/c/c-50.png          \n",
            " extracting: val/c/c-51.png          \n",
            " extracting: val/c/c-52.png          \n",
            " extracting: val/c/c-53.png          \n",
            " extracting: val/c/c-54.png          \n",
            " extracting: val/c/c-55.png          \n",
            " extracting: val/c/c-56.png          \n",
            " extracting: val/c/c-57.png          \n",
            " extracting: val/c/c-58.png          \n",
            " extracting: val/c/c-59.png          \n",
            " extracting: val/c/c-6.png           \n",
            " extracting: val/c/c-60.png          \n",
            " extracting: val/c/c-61.png          \n",
            " extracting: val/c/c-62.png          \n",
            " extracting: val/c/c-63.png          \n",
            " extracting: val/c/c-64.png          \n",
            " extracting: val/c/c-7.png           \n",
            " extracting: val/c/c-8.png           \n",
            " extracting: val/c/c-9.png           \n",
            "   creating: val/d/\n",
            " extracting: val/d/d-1.png           \n",
            " extracting: val/d/d-10.png          \n",
            " extracting: val/d/d-11.png          \n",
            " extracting: val/d/d-12.png          \n",
            " extracting: val/d/d-13.png          \n",
            " extracting: val/d/d-14.png          \n",
            " extracting: val/d/d-15.png          \n",
            " extracting: val/d/d-16.png          \n",
            " extracting: val/d/d-17.png          \n",
            " extracting: val/d/d-18.png          \n",
            " extracting: val/d/d-19.png          \n",
            " extracting: val/d/d-2.png           \n",
            " extracting: val/d/d-20.png          \n",
            " extracting: val/d/d-21.png          \n",
            " extracting: val/d/d-22.png          \n",
            " extracting: val/d/d-23.png          \n",
            " extracting: val/d/d-24.png          \n",
            " extracting: val/d/d-25.png          \n",
            " extracting: val/d/d-26.png          \n",
            " extracting: val/d/d-27.png          \n",
            " extracting: val/d/d-28.png          \n",
            " extracting: val/d/d-29.png          \n",
            " extracting: val/d/d-3.png           \n",
            " extracting: val/d/d-30.png          \n",
            " extracting: val/d/d-31.png          \n",
            " extracting: val/d/d-32.png          \n",
            " extracting: val/d/d-33.png          \n",
            " extracting: val/d/d-34.png          \n",
            " extracting: val/d/d-35.png          \n",
            " extracting: val/d/d-36.png          \n",
            " extracting: val/d/d-37.png          \n",
            " extracting: val/d/d-38.png          \n",
            " extracting: val/d/d-39.png          \n",
            " extracting: val/d/d-4.png           \n",
            " extracting: val/d/d-40.png          \n",
            " extracting: val/d/d-41.png          \n",
            " extracting: val/d/d-42.png          \n",
            " extracting: val/d/d-43.png          \n",
            " extracting: val/d/d-44.png          \n",
            " extracting: val/d/d-45.png          \n",
            " extracting: val/d/d-46.png          \n",
            " extracting: val/d/d-47.png          \n",
            " extracting: val/d/d-48.png          \n",
            " extracting: val/d/d-49.png          \n",
            " extracting: val/d/d-5.png           \n",
            " extracting: val/d/d-50.png          \n",
            " extracting: val/d/d-51.png          \n",
            " extracting: val/d/d-52.png          \n",
            " extracting: val/d/d-53.png          \n",
            " extracting: val/d/d-54.png          \n",
            " extracting: val/d/d-55.png          \n",
            " extracting: val/d/d-56.png          \n",
            " extracting: val/d/d-57.png          \n",
            " extracting: val/d/d-58.png          \n",
            " extracting: val/d/d-59.png          \n",
            " extracting: val/d/d-6.png           \n",
            " extracting: val/d/d-60.png          \n",
            " extracting: val/d/d-61.png          \n",
            " extracting: val/d/d-62.png          \n",
            " extracting: val/d/d-63.png          \n",
            " extracting: val/d/d-64.png          \n",
            " extracting: val/d/d-7.png           \n",
            " extracting: val/d/d-8.png           \n",
            " extracting: val/d/d-9.png           \n",
            "   creating: val/e/\n",
            " extracting: val/e/e-1.png           \n",
            " extracting: val/e/e-10.png          \n",
            " extracting: val/e/e-11.png          \n",
            " extracting: val/e/e-12.png          \n",
            " extracting: val/e/e-13.png          \n",
            " extracting: val/e/e-14.png          \n",
            " extracting: val/e/e-15.png          \n",
            " extracting: val/e/e-16.png          \n",
            " extracting: val/e/e-17.png          \n",
            " extracting: val/e/e-18.png          \n",
            " extracting: val/e/e-19.png          \n",
            " extracting: val/e/e-2.png           \n",
            " extracting: val/e/e-20.png          \n",
            " extracting: val/e/e-21.png          \n",
            " extracting: val/e/e-22.png          \n",
            " extracting: val/e/e-23.png          \n",
            " extracting: val/e/e-24.png          \n",
            " extracting: val/e/e-25.png          \n",
            " extracting: val/e/e-26.png          \n",
            " extracting: val/e/e-27.png          \n",
            " extracting: val/e/e-28.png          \n",
            " extracting: val/e/e-29.png          \n",
            " extracting: val/e/e-3.png           \n",
            " extracting: val/e/e-30.png          \n",
            " extracting: val/e/e-31.png          \n",
            " extracting: val/e/e-32.png          \n",
            " extracting: val/e/e-33.png          \n",
            " extracting: val/e/e-34.png          \n",
            " extracting: val/e/e-35.png          \n",
            " extracting: val/e/e-36.png          \n",
            " extracting: val/e/e-37.png          \n",
            " extracting: val/e/e-38.png          \n",
            " extracting: val/e/e-39.png          \n",
            " extracting: val/e/e-4.png           \n",
            " extracting: val/e/e-40.png          \n",
            " extracting: val/e/e-41.png          \n",
            " extracting: val/e/e-42.png          \n",
            " extracting: val/e/e-43.png          \n",
            " extracting: val/e/e-44.png          \n",
            " extracting: val/e/e-45.png          \n",
            " extracting: val/e/e-46.png          \n",
            " extracting: val/e/e-47.png          \n",
            " extracting: val/e/e-48.png          \n",
            " extracting: val/e/e-49.png          \n",
            " extracting: val/e/e-5.png           \n",
            " extracting: val/e/e-50.png          \n",
            " extracting: val/e/e-51.png          \n",
            " extracting: val/e/e-52.png          \n",
            " extracting: val/e/e-53.png          \n",
            " extracting: val/e/e-54.png          \n",
            " extracting: val/e/e-55.png          \n",
            " extracting: val/e/e-56.png          \n",
            " extracting: val/e/e-57.png          \n",
            " extracting: val/e/e-58.png          \n",
            " extracting: val/e/e-59.png          \n",
            " extracting: val/e/e-6.png           \n",
            " extracting: val/e/e-60.png          \n",
            " extracting: val/e/e-61.png          \n",
            " extracting: val/e/e-62.png          \n",
            " extracting: val/e/e-63.png          \n",
            " extracting: val/e/e-64.png          \n",
            " extracting: val/e/e-7.png           \n",
            " extracting: val/e/e-8.png           \n",
            " extracting: val/e/e-9.png           \n",
            "   creating: val/f/\n",
            " extracting: val/f/f-1.png           \n",
            " extracting: val/f/f-10.png          \n",
            " extracting: val/f/f-11.png          \n",
            " extracting: val/f/f-12.png          \n",
            " extracting: val/f/f-13.png          \n",
            " extracting: val/f/f-14.png          \n",
            " extracting: val/f/f-15.png          \n",
            " extracting: val/f/f-16.png          \n",
            " extracting: val/f/f-17.png          \n",
            " extracting: val/f/f-18.png          \n",
            " extracting: val/f/f-19.png          \n",
            " extracting: val/f/f-2.png           \n",
            " extracting: val/f/f-20.png          \n",
            " extracting: val/f/f-21.png          \n",
            " extracting: val/f/f-22.png          \n",
            " extracting: val/f/f-23.png          \n",
            " extracting: val/f/f-24.png          \n",
            " extracting: val/f/f-25.png          \n",
            " extracting: val/f/f-26.png          \n",
            " extracting: val/f/f-27.png          \n",
            " extracting: val/f/f-28.png          \n",
            " extracting: val/f/f-29.png          \n",
            " extracting: val/f/f-3.png           \n",
            " extracting: val/f/f-30.png          \n",
            " extracting: val/f/f-31.png          \n",
            " extracting: val/f/f-32.png          \n",
            " extracting: val/f/f-33.png          \n",
            " extracting: val/f/f-34.png          \n",
            " extracting: val/f/f-35.png          \n",
            " extracting: val/f/f-36.png          \n",
            " extracting: val/f/f-37.png          \n",
            " extracting: val/f/f-38.png          \n",
            " extracting: val/f/f-39.png          \n",
            " extracting: val/f/f-4.png           \n",
            " extracting: val/f/f-40.png          \n",
            " extracting: val/f/f-41.png          \n",
            " extracting: val/f/f-42.png          \n",
            " extracting: val/f/f-43.png          \n",
            " extracting: val/f/f-44.png          \n",
            " extracting: val/f/f-45.png          \n",
            " extracting: val/f/f-46.png          \n",
            " extracting: val/f/f-47.png          \n",
            " extracting: val/f/f-48.png          \n",
            " extracting: val/f/f-49.png          \n",
            " extracting: val/f/f-5.png           \n",
            " extracting: val/f/f-50.png          \n",
            " extracting: val/f/f-51.png          \n",
            " extracting: val/f/f-52.png          \n",
            " extracting: val/f/f-53.png          \n",
            " extracting: val/f/f-54.png          \n",
            " extracting: val/f/f-55.png          \n",
            " extracting: val/f/f-56.png          \n",
            " extracting: val/f/f-57.png          \n",
            " extracting: val/f/f-58.png          \n",
            " extracting: val/f/f-59.png          \n",
            " extracting: val/f/f-6.png           \n",
            " extracting: val/f/f-60.png          \n",
            " extracting: val/f/f-61.png          \n",
            " extracting: val/f/f-62.png          \n",
            " extracting: val/f/f-63.png          \n",
            " extracting: val/f/f-64.png          \n",
            " extracting: val/f/f-7.png           \n",
            " extracting: val/f/f-8.png           \n",
            " extracting: val/f/f-9.png           \n",
            "   creating: val/g/\n",
            " extracting: val/g/g-1.png           \n",
            " extracting: val/g/g-10.png          \n",
            " extracting: val/g/g-11.png          \n",
            " extracting: val/g/g-12.png          \n",
            " extracting: val/g/g-13.png          \n",
            " extracting: val/g/g-14.png          \n",
            " extracting: val/g/g-15.png          \n",
            " extracting: val/g/g-16.png          \n",
            " extracting: val/g/g-17.png          \n",
            " extracting: val/g/g-18.png          \n",
            " extracting: val/g/g-19.png          \n",
            " extracting: val/g/g-2.png           \n",
            " extracting: val/g/g-20.png          \n",
            " extracting: val/g/g-21.png          \n",
            " extracting: val/g/g-22.png          \n",
            " extracting: val/g/g-23.png          \n",
            " extracting: val/g/g-24.png          \n",
            " extracting: val/g/g-25.png          \n",
            " extracting: val/g/g-26.png          \n",
            " extracting: val/g/g-27.png          \n",
            " extracting: val/g/g-28.png          \n",
            " extracting: val/g/g-29.png          \n",
            " extracting: val/g/g-3.png           \n",
            " extracting: val/g/g-30.png          \n",
            " extracting: val/g/g-31.png          \n",
            " extracting: val/g/g-32.png          \n",
            " extracting: val/g/g-33.png          \n",
            " extracting: val/g/g-34.png          \n",
            " extracting: val/g/g-35.png          \n",
            " extracting: val/g/g-36.png          \n",
            " extracting: val/g/g-37.png          \n",
            " extracting: val/g/g-38.png          \n",
            " extracting: val/g/g-39.png          \n",
            " extracting: val/g/g-4.png           \n",
            " extracting: val/g/g-40.png          \n",
            " extracting: val/g/g-41.png          \n",
            " extracting: val/g/g-42.png          \n",
            " extracting: val/g/g-43.png          \n",
            " extracting: val/g/g-44.png          \n",
            " extracting: val/g/g-45.png          \n",
            " extracting: val/g/g-46.png          \n",
            " extracting: val/g/g-47.png          \n",
            " extracting: val/g/g-48.png          \n",
            " extracting: val/g/g-49.png          \n",
            " extracting: val/g/g-5.png           \n",
            " extracting: val/g/g-50.png          \n",
            " extracting: val/g/g-51.png          \n",
            " extracting: val/g/g-52.png          \n",
            " extracting: val/g/g-53.png          \n",
            " extracting: val/g/g-54.png          \n",
            " extracting: val/g/g-55.png          \n",
            " extracting: val/g/g-56.png          \n",
            " extracting: val/g/g-57.png          \n",
            " extracting: val/g/g-58.png          \n",
            " extracting: val/g/g-59.png          \n",
            " extracting: val/g/g-6.png           \n",
            " extracting: val/g/g-60.png          \n",
            " extracting: val/g/g-61.png          \n",
            " extracting: val/g/g-62.png          \n",
            " extracting: val/g/g-63.png          \n",
            " extracting: val/g/g-64.png          \n",
            " extracting: val/g/g-7.png           \n",
            " extracting: val/g/g-8.png           \n",
            " extracting: val/g/g-9.png           \n",
            "   creating: val/h/\n",
            " extracting: val/h/h-1.png           \n",
            " extracting: val/h/h-10.png          \n",
            " extracting: val/h/h-11.png          \n",
            " extracting: val/h/h-12.png          \n",
            " extracting: val/h/h-13.png          \n",
            " extracting: val/h/h-14.png          \n",
            " extracting: val/h/h-15.png          \n",
            " extracting: val/h/h-16.png          \n",
            " extracting: val/h/h-17.png          \n",
            " extracting: val/h/h-18.png          \n",
            " extracting: val/h/h-19.png          \n",
            " extracting: val/h/h-2.png           \n",
            " extracting: val/h/h-20.png          \n",
            " extracting: val/h/h-21.png          \n",
            " extracting: val/h/h-22.png          \n",
            " extracting: val/h/h-23.png          \n",
            " extracting: val/h/h-24.png          \n",
            " extracting: val/h/h-25.png          \n",
            " extracting: val/h/h-26.png          \n",
            " extracting: val/h/h-27.png          \n",
            " extracting: val/h/h-28.png          \n",
            " extracting: val/h/h-29.png          \n",
            " extracting: val/h/h-3.png           \n",
            " extracting: val/h/h-30.png          \n",
            " extracting: val/h/h-31.png          \n",
            " extracting: val/h/h-32.png          \n",
            " extracting: val/h/h-33.png          \n",
            " extracting: val/h/h-34.png          \n",
            " extracting: val/h/h-35.png          \n",
            " extracting: val/h/h-36.png          \n",
            " extracting: val/h/h-37.png          \n",
            " extracting: val/h/h-38.png          \n",
            " extracting: val/h/h-39.png          \n",
            " extracting: val/h/h-4.png           \n",
            " extracting: val/h/h-40.png          \n",
            " extracting: val/h/h-41.png          \n",
            " extracting: val/h/h-42.png          \n",
            " extracting: val/h/h-43.png          \n",
            " extracting: val/h/h-44.png          \n",
            " extracting: val/h/h-45.png          \n",
            " extracting: val/h/h-46.png          \n",
            " extracting: val/h/h-47.png          \n",
            " extracting: val/h/h-48.png          \n",
            " extracting: val/h/h-49.png          \n",
            " extracting: val/h/h-5.png           \n",
            " extracting: val/h/h-50.png          \n",
            " extracting: val/h/h-51.png          \n",
            " extracting: val/h/h-52.png          \n",
            " extracting: val/h/h-53.png          \n",
            " extracting: val/h/h-54.png          \n",
            " extracting: val/h/h-55.png          \n",
            " extracting: val/h/h-56.png          \n",
            " extracting: val/h/h-57.png          \n",
            " extracting: val/h/h-58.png          \n",
            " extracting: val/h/h-59.png          \n",
            " extracting: val/h/h-6.png           \n",
            " extracting: val/h/h-60.png          \n",
            " extracting: val/h/h-61.png          \n",
            " extracting: val/h/h-62.png          \n",
            " extracting: val/h/h-63.png          \n",
            " extracting: val/h/h-64.png          \n",
            " extracting: val/h/h-7.png           \n",
            " extracting: val/h/h-8.png           \n",
            " extracting: val/h/h-9.png           \n",
            "   creating: val/i/\n",
            " extracting: val/i/i-1.png           \n",
            " extracting: val/i/i-10.png          \n",
            " extracting: val/i/i-11.png          \n",
            " extracting: val/i/i-12.png          \n",
            " extracting: val/i/i-13.png          \n",
            " extracting: val/i/i-14.png          \n",
            " extracting: val/i/i-15.png          \n",
            " extracting: val/i/i-16.png          \n",
            " extracting: val/i/i-17.png          \n",
            " extracting: val/i/i-18.png          \n",
            " extracting: val/i/i-19.png          \n",
            " extracting: val/i/i-2.png           \n",
            " extracting: val/i/i-20.png          \n",
            " extracting: val/i/i-21.png          \n",
            " extracting: val/i/i-22.png          \n",
            " extracting: val/i/i-23.png          \n",
            " extracting: val/i/i-24.png          \n",
            " extracting: val/i/i-25.png          \n",
            " extracting: val/i/i-26.png          \n",
            " extracting: val/i/i-27.png          \n",
            " extracting: val/i/i-28.png          \n",
            " extracting: val/i/i-29.png          \n",
            " extracting: val/i/i-3.png           \n",
            " extracting: val/i/i-30.png          \n",
            " extracting: val/i/i-31.png          \n",
            " extracting: val/i/i-32.png          \n",
            " extracting: val/i/i-33.png          \n",
            " extracting: val/i/i-34.png          \n",
            " extracting: val/i/i-35.png          \n",
            " extracting: val/i/i-36.png          \n",
            " extracting: val/i/i-37.png          \n",
            " extracting: val/i/i-38.png          \n",
            " extracting: val/i/i-39.png          \n",
            " extracting: val/i/i-4.png           \n",
            " extracting: val/i/i-40.png          \n",
            " extracting: val/i/i-41.png          \n",
            " extracting: val/i/i-42.png          \n",
            " extracting: val/i/i-43.png          \n",
            " extracting: val/i/i-44.png          \n",
            " extracting: val/i/i-45.png          \n",
            " extracting: val/i/i-46.png          \n",
            " extracting: val/i/i-47.png          \n",
            " extracting: val/i/i-48.png          \n",
            " extracting: val/i/i-49.png          \n",
            " extracting: val/i/i-5.png           \n",
            " extracting: val/i/i-50.png          \n",
            " extracting: val/i/i-51.png          \n",
            " extracting: val/i/i-52.png          \n",
            " extracting: val/i/i-53.png          \n",
            " extracting: val/i/i-54.png          \n",
            " extracting: val/i/i-55.png          \n",
            " extracting: val/i/i-56.png          \n",
            " extracting: val/i/i-57.png          \n",
            " extracting: val/i/i-58.png          \n",
            " extracting: val/i/i-59.png          \n",
            " extracting: val/i/i-6.png           \n",
            " extracting: val/i/i-60.png          \n",
            " extracting: val/i/i-61.png          \n",
            " extracting: val/i/i-62.png          \n",
            " extracting: val/i/i-63.png          \n",
            " extracting: val/i/i-64.png          \n",
            " extracting: val/i/i-7.png           \n",
            " extracting: val/i/i-8.png           \n",
            " extracting: val/i/i-9.png           \n",
            "   creating: val/j/\n",
            " extracting: val/j/j-1.png           \n",
            " extracting: val/j/j-10.png          \n",
            " extracting: val/j/j-11.png          \n",
            " extracting: val/j/j-12.png          \n",
            " extracting: val/j/j-13.png          \n",
            " extracting: val/j/j-14.png          \n",
            " extracting: val/j/j-15.png          \n",
            " extracting: val/j/j-16.png          \n",
            " extracting: val/j/j-17.png          \n",
            " extracting: val/j/j-18.png          \n",
            " extracting: val/j/j-19.png          \n",
            " extracting: val/j/j-2.png           \n",
            " extracting: val/j/j-20.png          \n",
            " extracting: val/j/j-21.png          \n",
            " extracting: val/j/j-22.png          \n",
            " extracting: val/j/j-23.png          \n",
            " extracting: val/j/j-24.png          \n",
            " extracting: val/j/j-25.png          \n",
            " extracting: val/j/j-26.png          \n",
            " extracting: val/j/j-27.png          \n",
            " extracting: val/j/j-28.png          \n",
            " extracting: val/j/j-29.png          \n",
            " extracting: val/j/j-3.png           \n",
            " extracting: val/j/j-30.png          \n",
            " extracting: val/j/j-31.png          \n",
            " extracting: val/j/j-32.png          \n",
            " extracting: val/j/j-33.png          \n",
            " extracting: val/j/j-34.png          \n",
            " extracting: val/j/j-35.png          \n",
            " extracting: val/j/j-36.png          \n",
            " extracting: val/j/j-37.png          \n",
            " extracting: val/j/j-38.png          \n",
            " extracting: val/j/j-39.png          \n",
            " extracting: val/j/j-4.png           \n",
            " extracting: val/j/j-40.png          \n",
            " extracting: val/j/j-41.png          \n",
            " extracting: val/j/j-42.png          \n",
            " extracting: val/j/j-43.png          \n",
            " extracting: val/j/j-44.png          \n",
            " extracting: val/j/j-45.png          \n",
            " extracting: val/j/j-46.png          \n",
            " extracting: val/j/j-47.png          \n",
            " extracting: val/j/j-48.png          \n",
            " extracting: val/j/j-49.png          \n",
            " extracting: val/j/j-5.png           \n",
            " extracting: val/j/j-50.png          \n",
            " extracting: val/j/j-51.png          \n",
            " extracting: val/j/j-52.png          \n",
            " extracting: val/j/j-53.png          \n",
            " extracting: val/j/j-54.png          \n",
            " extracting: val/j/j-55.png          \n",
            " extracting: val/j/j-56.png          \n",
            " extracting: val/j/j-57.png          \n",
            " extracting: val/j/j-58.png          \n",
            " extracting: val/j/j-59.png          \n",
            " extracting: val/j/j-6.png           \n",
            " extracting: val/j/j-60.png          \n",
            " extracting: val/j/j-61.png          \n",
            " extracting: val/j/j-62.png          \n",
            " extracting: val/j/j-63.png          \n",
            " extracting: val/j/j-64.png          \n",
            " extracting: val/j/j-7.png           \n",
            " extracting: val/j/j-8.png           \n",
            " extracting: val/j/j-9.png           \n",
            "   creating: val/k/\n",
            " extracting: val/k/k-1.png           \n",
            " extracting: val/k/k-10.png          \n",
            " extracting: val/k/k-11.png          \n",
            " extracting: val/k/k-12.png          \n",
            " extracting: val/k/k-13.png          \n",
            " extracting: val/k/k-14.png          \n",
            " extracting: val/k/k-15.png          \n",
            " extracting: val/k/k-16.png          \n",
            " extracting: val/k/k-17.png          \n",
            " extracting: val/k/k-18.png          \n",
            " extracting: val/k/k-19.png          \n",
            " extracting: val/k/k-2.png           \n",
            " extracting: val/k/k-20.png          \n",
            " extracting: val/k/k-21.png          \n",
            " extracting: val/k/k-22.png          \n",
            " extracting: val/k/k-23.png          \n",
            " extracting: val/k/k-24.png          \n",
            " extracting: val/k/k-25.png          \n",
            " extracting: val/k/k-26.png          \n",
            " extracting: val/k/k-27.png          \n",
            " extracting: val/k/k-28.png          \n",
            " extracting: val/k/k-29.png          \n",
            " extracting: val/k/k-3.png           \n",
            " extracting: val/k/k-30.png          \n",
            " extracting: val/k/k-31.png          \n",
            " extracting: val/k/k-32.png          \n",
            " extracting: val/k/k-33.png          \n",
            " extracting: val/k/k-34.png          \n",
            " extracting: val/k/k-35.png          \n",
            " extracting: val/k/k-36.png          \n",
            " extracting: val/k/k-37.png          \n",
            " extracting: val/k/k-38.png          \n",
            " extracting: val/k/k-39.png          \n",
            " extracting: val/k/k-4.png           \n",
            " extracting: val/k/k-40.png          \n",
            " extracting: val/k/k-41.png          \n",
            " extracting: val/k/k-42.png          \n",
            " extracting: val/k/k-43.png          \n",
            " extracting: val/k/k-44.png          \n",
            " extracting: val/k/k-45.png          \n",
            " extracting: val/k/k-46.png          \n",
            " extracting: val/k/k-47.png          \n",
            " extracting: val/k/k-48.png          \n",
            " extracting: val/k/k-49.png          \n",
            " extracting: val/k/k-5.png           \n",
            " extracting: val/k/k-50.png          \n",
            " extracting: val/k/k-51.png          \n",
            " extracting: val/k/k-52.png          \n",
            " extracting: val/k/k-53.png          \n",
            " extracting: val/k/k-54.png          \n",
            " extracting: val/k/k-55.png          \n",
            " extracting: val/k/k-56.png          \n",
            " extracting: val/k/k-57.png          \n",
            " extracting: val/k/k-58.png          \n",
            " extracting: val/k/k-59.png          \n",
            " extracting: val/k/k-6.png           \n",
            " extracting: val/k/k-60.png          \n",
            " extracting: val/k/k-61.png          \n",
            " extracting: val/k/k-62.png          \n",
            " extracting: val/k/k-63.png          \n",
            " extracting: val/k/k-64.png          \n",
            " extracting: val/k/k-7.png           \n",
            " extracting: val/k/k-8.png           \n",
            " extracting: val/k/k-9.png           \n",
            "   creating: val/l/\n",
            " extracting: val/l/l-1.png           \n",
            " extracting: val/l/l-10.png          \n",
            " extracting: val/l/l-11.png          \n",
            " extracting: val/l/l-12.png          \n",
            " extracting: val/l/l-13.png          \n",
            " extracting: val/l/l-14.png          \n",
            " extracting: val/l/l-15.png          \n",
            " extracting: val/l/l-16.png          \n",
            " extracting: val/l/l-17.png          \n",
            " extracting: val/l/l-18.png          \n",
            " extracting: val/l/l-19.png          \n",
            " extracting: val/l/l-2.png           \n",
            " extracting: val/l/l-20.png          \n",
            " extracting: val/l/l-21.png          \n",
            " extracting: val/l/l-22.png          \n",
            " extracting: val/l/l-23.png          \n",
            " extracting: val/l/l-24.png          \n",
            " extracting: val/l/l-25.png          \n",
            " extracting: val/l/l-26.png          \n",
            " extracting: val/l/l-27.png          \n",
            " extracting: val/l/l-28.png          \n",
            " extracting: val/l/l-29.png          \n",
            " extracting: val/l/l-3.png           \n",
            " extracting: val/l/l-30.png          \n",
            " extracting: val/l/l-31.png          \n",
            " extracting: val/l/l-32.png          \n",
            " extracting: val/l/l-33.png          \n",
            " extracting: val/l/l-34.png          \n",
            " extracting: val/l/l-35.png          \n",
            " extracting: val/l/l-36.png          \n",
            " extracting: val/l/l-37.png          \n",
            " extracting: val/l/l-38.png          \n",
            " extracting: val/l/l-39.png          \n",
            " extracting: val/l/l-4.png           \n",
            " extracting: val/l/l-40.png          \n",
            " extracting: val/l/l-41.png          \n",
            " extracting: val/l/l-42.png          \n",
            " extracting: val/l/l-43.png          \n",
            " extracting: val/l/l-44.png          \n",
            " extracting: val/l/l-45.png          \n",
            " extracting: val/l/l-46.png          \n",
            " extracting: val/l/l-47.png          \n",
            " extracting: val/l/l-48.png          \n",
            " extracting: val/l/l-49.png          \n",
            " extracting: val/l/l-5.png           \n",
            " extracting: val/l/l-50.png          \n",
            " extracting: val/l/l-51.png          \n",
            " extracting: val/l/l-52.png          \n",
            " extracting: val/l/l-53.png          \n",
            " extracting: val/l/l-54.png          \n",
            " extracting: val/l/l-55.png          \n",
            " extracting: val/l/l-56.png          \n",
            " extracting: val/l/l-57.png          \n",
            " extracting: val/l/l-58.png          \n",
            " extracting: val/l/l-59.png          \n",
            " extracting: val/l/l-6.png           \n",
            " extracting: val/l/l-60.png          \n",
            " extracting: val/l/l-61.png          \n",
            " extracting: val/l/l-62.png          \n",
            " extracting: val/l/l-63.png          \n",
            " extracting: val/l/l-64.png          \n",
            " extracting: val/l/l-7.png           \n",
            " extracting: val/l/l-8.png           \n",
            " extracting: val/l/l-9.png           \n",
            "   creating: val/m/\n",
            " extracting: val/m/m-1.png           \n",
            " extracting: val/m/m-10.png          \n",
            " extracting: val/m/m-11.png          \n",
            " extracting: val/m/m-12.png          \n",
            " extracting: val/m/m-13.png          \n",
            " extracting: val/m/m-14.png          \n",
            " extracting: val/m/m-15.png          \n",
            " extracting: val/m/m-16.png          \n",
            " extracting: val/m/m-17.png          \n",
            " extracting: val/m/m-18.png          \n",
            " extracting: val/m/m-19.png          \n",
            " extracting: val/m/m-2.png           \n",
            " extracting: val/m/m-20.png          \n",
            " extracting: val/m/m-21.png          \n",
            " extracting: val/m/m-22.png          \n",
            " extracting: val/m/m-23.png          \n",
            " extracting: val/m/m-24.png          \n",
            " extracting: val/m/m-25.png          \n",
            " extracting: val/m/m-26.png          \n",
            " extracting: val/m/m-27.png          \n",
            " extracting: val/m/m-28.png          \n",
            " extracting: val/m/m-29.png          \n",
            " extracting: val/m/m-3.png           \n",
            " extracting: val/m/m-30.png          \n",
            " extracting: val/m/m-31.png          \n",
            " extracting: val/m/m-32.png          \n",
            " extracting: val/m/m-33.png          \n",
            " extracting: val/m/m-34.png          \n",
            " extracting: val/m/m-35.png          \n",
            " extracting: val/m/m-36.png          \n",
            " extracting: val/m/m-37.png          \n",
            " extracting: val/m/m-38.png          \n",
            " extracting: val/m/m-39.png          \n",
            " extracting: val/m/m-4.png           \n",
            " extracting: val/m/m-40.png          \n",
            " extracting: val/m/m-41.png          \n",
            " extracting: val/m/m-42.png          \n",
            " extracting: val/m/m-43.png          \n",
            " extracting: val/m/m-44.png          \n",
            " extracting: val/m/m-45.png          \n",
            " extracting: val/m/m-46.png          \n",
            " extracting: val/m/m-47.png          \n",
            " extracting: val/m/m-48.png          \n",
            " extracting: val/m/m-49.png          \n",
            " extracting: val/m/m-5.png           \n",
            " extracting: val/m/m-50.png          \n",
            " extracting: val/m/m-51.png          \n",
            " extracting: val/m/m-52.png          \n",
            " extracting: val/m/m-53.png          \n",
            " extracting: val/m/m-54.png          \n",
            " extracting: val/m/m-55.png          \n",
            " extracting: val/m/m-56.png          \n",
            " extracting: val/m/m-57.png          \n",
            " extracting: val/m/m-58.png          \n",
            " extracting: val/m/m-59.png          \n",
            " extracting: val/m/m-6.png           \n",
            " extracting: val/m/m-60.png          \n",
            " extracting: val/m/m-61.png          \n",
            " extracting: val/m/m-62.png          \n",
            " extracting: val/m/m-63.png          \n",
            " extracting: val/m/m-64.png          \n",
            " extracting: val/m/m-7.png           \n",
            " extracting: val/m/m-8.png           \n",
            " extracting: val/m/m-9.png           \n",
            "   creating: val/n/\n",
            " extracting: val/n/n-1.png           \n",
            " extracting: val/n/n-10.png          \n",
            " extracting: val/n/n-11.png          \n",
            " extracting: val/n/n-12.png          \n",
            " extracting: val/n/n-13.png          \n",
            " extracting: val/n/n-14.png          \n",
            " extracting: val/n/n-15.png          \n",
            " extracting: val/n/n-16.png          \n",
            " extracting: val/n/n-17.png          \n",
            " extracting: val/n/n-18.png          \n",
            " extracting: val/n/n-19.png          \n",
            " extracting: val/n/n-2.png           \n",
            " extracting: val/n/n-20.png          \n",
            " extracting: val/n/n-21.png          \n",
            " extracting: val/n/n-22.png          \n",
            " extracting: val/n/n-23.png          \n",
            " extracting: val/n/n-24.png          \n",
            " extracting: val/n/n-25.png          \n",
            " extracting: val/n/n-26.png          \n",
            " extracting: val/n/n-27.png          \n",
            " extracting: val/n/n-28.png          \n",
            " extracting: val/n/n-29.png          \n",
            " extracting: val/n/n-3.png           \n",
            " extracting: val/n/n-30.png          \n",
            " extracting: val/n/n-31.png          \n",
            " extracting: val/n/n-32.png          \n",
            " extracting: val/n/n-33.png          \n",
            " extracting: val/n/n-34.png          \n",
            " extracting: val/n/n-35.png          \n",
            " extracting: val/n/n-36.png          \n",
            " extracting: val/n/n-37.png          \n",
            " extracting: val/n/n-38.png          \n",
            " extracting: val/n/n-39.png          \n",
            " extracting: val/n/n-4.png           \n",
            " extracting: val/n/n-40.png          \n",
            " extracting: val/n/n-41.png          \n",
            " extracting: val/n/n-42.png          \n",
            " extracting: val/n/n-43.png          \n",
            " extracting: val/n/n-44.png          \n",
            " extracting: val/n/n-45.png          \n",
            " extracting: val/n/n-46.png          \n",
            " extracting: val/n/n-47.png          \n",
            " extracting: val/n/n-48.png          \n",
            " extracting: val/n/n-49.png          \n",
            " extracting: val/n/n-5.png           \n",
            " extracting: val/n/n-50.png          \n",
            " extracting: val/n/n-51.png          \n",
            " extracting: val/n/n-52.png          \n",
            " extracting: val/n/n-53.png          \n",
            " extracting: val/n/n-54.png          \n",
            " extracting: val/n/n-55.png          \n",
            " extracting: val/n/n-56.png          \n",
            " extracting: val/n/n-57.png          \n",
            " extracting: val/n/n-58.png          \n",
            " extracting: val/n/n-59.png          \n",
            " extracting: val/n/n-6.png           \n",
            " extracting: val/n/n-60.png          \n",
            " extracting: val/n/n-61.png          \n",
            " extracting: val/n/n-62.png          \n",
            " extracting: val/n/n-63.png          \n",
            " extracting: val/n/n-64.png          \n",
            " extracting: val/n/n-7.png           \n",
            " extracting: val/n/n-8.png           \n",
            " extracting: val/n/n-9.png           \n",
            "   creating: val/o/\n",
            " extracting: val/o/o-1.png           \n",
            " extracting: val/o/o-10.png          \n",
            " extracting: val/o/o-11.png          \n",
            " extracting: val/o/o-12.png          \n",
            " extracting: val/o/o-13.png          \n",
            " extracting: val/o/o-14.png          \n",
            " extracting: val/o/o-15.png          \n",
            " extracting: val/o/o-16.png          \n",
            " extracting: val/o/o-17.png          \n",
            " extracting: val/o/o-18.png          \n",
            " extracting: val/o/o-19.png          \n",
            " extracting: val/o/o-2.png           \n",
            " extracting: val/o/o-20.png          \n",
            " extracting: val/o/o-21.png          \n",
            " extracting: val/o/o-22.png          \n",
            " extracting: val/o/o-23.png          \n",
            " extracting: val/o/o-24.png          \n",
            " extracting: val/o/o-25.png          \n",
            " extracting: val/o/o-26.png          \n",
            " extracting: val/o/o-27.png          \n",
            " extracting: val/o/o-28.png          \n",
            " extracting: val/o/o-29.png          \n",
            " extracting: val/o/o-3.png           \n",
            " extracting: val/o/o-30.png          \n",
            " extracting: val/o/o-31.png          \n",
            " extracting: val/o/o-32.png          \n",
            " extracting: val/o/o-33.png          \n",
            " extracting: val/o/o-34.png          \n",
            " extracting: val/o/o-35.png          \n",
            " extracting: val/o/o-36.png          \n",
            " extracting: val/o/o-37.png          \n",
            " extracting: val/o/o-38.png          \n",
            " extracting: val/o/o-39.png          \n",
            " extracting: val/o/o-4.png           \n",
            " extracting: val/o/o-40.png          \n",
            " extracting: val/o/o-41.png          \n",
            " extracting: val/o/o-42.png          \n",
            " extracting: val/o/o-43.png          \n",
            " extracting: val/o/o-44.png          \n",
            " extracting: val/o/o-45.png          \n",
            " extracting: val/o/o-46.png          \n",
            " extracting: val/o/o-47.png          \n",
            " extracting: val/o/o-48.png          \n",
            " extracting: val/o/o-49.png          \n",
            " extracting: val/o/o-5.png           \n",
            " extracting: val/o/o-50.png          \n",
            " extracting: val/o/o-51.png          \n",
            " extracting: val/o/o-52.png          \n",
            " extracting: val/o/o-53.png          \n",
            " extracting: val/o/o-54.png          \n",
            " extracting: val/o/o-55.png          \n",
            " extracting: val/o/o-56.png          \n",
            " extracting: val/o/o-57.png          \n",
            " extracting: val/o/o-58.png          \n",
            " extracting: val/o/o-59.png          \n",
            " extracting: val/o/o-6.png           \n",
            " extracting: val/o/o-60.png          \n",
            " extracting: val/o/o-61.png          \n",
            " extracting: val/o/o-62.png          \n",
            " extracting: val/o/o-63.png          \n",
            " extracting: val/o/o-64.png          \n",
            " extracting: val/o/o-7.png           \n",
            " extracting: val/o/o-8.png           \n",
            " extracting: val/o/o-9.png           \n",
            "   creating: val/p/\n",
            " extracting: val/p/p-1.png           \n",
            " extracting: val/p/p-10.png          \n",
            " extracting: val/p/p-11.png          \n",
            " extracting: val/p/p-12.png          \n",
            " extracting: val/p/p-13.png          \n",
            " extracting: val/p/p-14.png          \n",
            " extracting: val/p/p-15.png          \n",
            " extracting: val/p/p-16.png          \n",
            " extracting: val/p/p-17.png          \n",
            " extracting: val/p/p-18.png          \n",
            " extracting: val/p/p-19.png          \n",
            " extracting: val/p/p-2.png           \n",
            " extracting: val/p/p-20.png          \n",
            " extracting: val/p/p-21.png          \n",
            " extracting: val/p/p-22.png          \n",
            " extracting: val/p/p-23.png          \n",
            " extracting: val/p/p-24.png          \n",
            " extracting: val/p/p-25.png          \n",
            " extracting: val/p/p-26.png          \n",
            " extracting: val/p/p-27.png          \n",
            " extracting: val/p/p-28.png          \n",
            " extracting: val/p/p-29.png          \n",
            " extracting: val/p/p-3.png           \n",
            " extracting: val/p/p-30.png          \n",
            " extracting: val/p/p-31.png          \n",
            " extracting: val/p/p-32.png          \n",
            " extracting: val/p/p-33.png          \n",
            " extracting: val/p/p-34.png          \n",
            " extracting: val/p/p-35.png          \n",
            " extracting: val/p/p-36.png          \n",
            " extracting: val/p/p-37.png          \n",
            " extracting: val/p/p-38.png          \n",
            " extracting: val/p/p-39.png          \n",
            " extracting: val/p/p-4.png           \n",
            " extracting: val/p/p-40.png          \n",
            " extracting: val/p/p-41.png          \n",
            " extracting: val/p/p-42.png          \n",
            " extracting: val/p/p-43.png          \n",
            " extracting: val/p/p-44.png          \n",
            " extracting: val/p/p-45.png          \n",
            " extracting: val/p/p-46.png          \n",
            " extracting: val/p/p-47.png          \n",
            " extracting: val/p/p-48.png          \n",
            " extracting: val/p/p-49.png          \n",
            " extracting: val/p/p-5.png           \n",
            " extracting: val/p/p-50.png          \n",
            " extracting: val/p/p-51.png          \n",
            " extracting: val/p/p-52.png          \n",
            " extracting: val/p/p-53.png          \n",
            " extracting: val/p/p-54.png          \n",
            " extracting: val/p/p-55.png          \n",
            " extracting: val/p/p-56.png          \n",
            " extracting: val/p/p-57.png          \n",
            " extracting: val/p/p-58.png          \n",
            " extracting: val/p/p-59.png          \n",
            " extracting: val/p/p-6.png           \n",
            " extracting: val/p/p-60.png          \n",
            " extracting: val/p/p-61.png          \n",
            " extracting: val/p/p-62.png          \n",
            " extracting: val/p/p-63.png          \n",
            " extracting: val/p/p-64.png          \n",
            " extracting: val/p/p-7.png           \n",
            " extracting: val/p/p-8.png           \n",
            " extracting: val/p/p-9.png           \n",
            "   creating: val/q/\n",
            " extracting: val/q/q-1.png           \n",
            " extracting: val/q/q-10.png          \n",
            " extracting: val/q/q-11.png          \n",
            " extracting: val/q/q-12.png          \n",
            " extracting: val/q/q-13.png          \n",
            " extracting: val/q/q-14.png          \n",
            " extracting: val/q/q-15.png          \n",
            " extracting: val/q/q-16.png          \n",
            " extracting: val/q/q-17.png          \n",
            " extracting: val/q/q-18.png          \n",
            " extracting: val/q/q-19.png          \n",
            " extracting: val/q/q-2.png           \n",
            " extracting: val/q/q-20.png          \n",
            " extracting: val/q/q-21.png          \n",
            " extracting: val/q/q-22.png          \n",
            " extracting: val/q/q-23.png          \n",
            " extracting: val/q/q-24.png          \n",
            " extracting: val/q/q-25.png          \n",
            " extracting: val/q/q-26.png          \n",
            " extracting: val/q/q-27.png          \n",
            " extracting: val/q/q-28.png          \n",
            " extracting: val/q/q-29.png          \n",
            " extracting: val/q/q-3.png           \n",
            " extracting: val/q/q-30.png          \n",
            " extracting: val/q/q-31.png          \n",
            " extracting: val/q/q-32.png          \n",
            " extracting: val/q/q-33.png          \n",
            " extracting: val/q/q-34.png          \n",
            " extracting: val/q/q-35.png          \n",
            " extracting: val/q/q-36.png          \n",
            " extracting: val/q/q-37.png          \n",
            " extracting: val/q/q-38.png          \n",
            " extracting: val/q/q-39.png          \n",
            " extracting: val/q/q-4.png           \n",
            " extracting: val/q/q-40.png          \n",
            " extracting: val/q/q-41.png          \n",
            " extracting: val/q/q-42.png          \n",
            " extracting: val/q/q-43.png          \n",
            " extracting: val/q/q-44.png          \n",
            " extracting: val/q/q-45.png          \n",
            " extracting: val/q/q-46.png          \n",
            " extracting: val/q/q-47.png          \n",
            " extracting: val/q/q-48.png          \n",
            " extracting: val/q/q-49.png          \n",
            " extracting: val/q/q-5.png           \n",
            " extracting: val/q/q-50.png          \n",
            " extracting: val/q/q-51.png          \n",
            " extracting: val/q/q-52.png          \n",
            " extracting: val/q/q-53.png          \n",
            " extracting: val/q/q-54.png          \n",
            " extracting: val/q/q-55.png          \n",
            " extracting: val/q/q-56.png          \n",
            " extracting: val/q/q-57.png          \n",
            " extracting: val/q/q-58.png          \n",
            " extracting: val/q/q-59.png          \n",
            " extracting: val/q/q-6.png           \n",
            " extracting: val/q/q-60.png          \n",
            " extracting: val/q/q-61.png          \n",
            " extracting: val/q/q-62.png          \n",
            " extracting: val/q/q-63.png          \n",
            " extracting: val/q/q-64.png          \n",
            " extracting: val/q/q-7.png           \n",
            " extracting: val/q/q-8.png           \n",
            " extracting: val/q/q-9.png           \n",
            "   creating: val/r/\n",
            " extracting: val/r/r-1.png           \n",
            " extracting: val/r/r-10.png          \n",
            " extracting: val/r/r-11.png          \n",
            " extracting: val/r/r-12.png          \n",
            " extracting: val/r/r-13.png          \n",
            " extracting: val/r/r-14.png          \n",
            " extracting: val/r/r-15.png          \n",
            " extracting: val/r/r-16.png          \n",
            " extracting: val/r/r-17.png          \n",
            " extracting: val/r/r-18.png          \n",
            " extracting: val/r/r-19.png          \n",
            " extracting: val/r/r-2.png           \n",
            " extracting: val/r/r-20.png          \n",
            " extracting: val/r/r-21.png          \n",
            " extracting: val/r/r-22.png          \n",
            " extracting: val/r/r-23.png          \n",
            " extracting: val/r/r-24.png          \n",
            " extracting: val/r/r-25.png          \n",
            " extracting: val/r/r-26.png          \n",
            " extracting: val/r/r-27.png          \n",
            " extracting: val/r/r-28.png          \n",
            " extracting: val/r/r-29.png          \n",
            " extracting: val/r/r-3.png           \n",
            " extracting: val/r/r-30.png          \n",
            " extracting: val/r/r-31.png          \n",
            " extracting: val/r/r-32.png          \n",
            " extracting: val/r/r-33.png          \n",
            " extracting: val/r/r-34.png          \n",
            " extracting: val/r/r-35.png          \n",
            " extracting: val/r/r-36.png          \n",
            " extracting: val/r/r-37.png          \n",
            " extracting: val/r/r-38.png          \n",
            " extracting: val/r/r-39.png          \n",
            " extracting: val/r/r-4.png           \n",
            " extracting: val/r/r-40.png          \n",
            " extracting: val/r/r-41.png          \n",
            " extracting: val/r/r-42.png          \n",
            " extracting: val/r/r-43.png          \n",
            " extracting: val/r/r-44.png          \n",
            " extracting: val/r/r-45.png          \n",
            " extracting: val/r/r-46.png          \n",
            " extracting: val/r/r-47.png          \n",
            " extracting: val/r/r-48.png          \n",
            " extracting: val/r/r-49.png          \n",
            " extracting: val/r/r-5.png           \n",
            " extracting: val/r/r-50.png          \n",
            " extracting: val/r/r-51.png          \n",
            " extracting: val/r/r-52.png          \n",
            " extracting: val/r/r-53.png          \n",
            " extracting: val/r/r-54.png          \n",
            " extracting: val/r/r-55.png          \n",
            " extracting: val/r/r-56.png          \n",
            " extracting: val/r/r-57.png          \n",
            " extracting: val/r/r-58.png          \n",
            " extracting: val/r/r-59.png          \n",
            " extracting: val/r/r-6.png           \n",
            " extracting: val/r/r-60.png          \n",
            " extracting: val/r/r-61.png          \n",
            " extracting: val/r/r-62.png          \n",
            " extracting: val/r/r-63.png          \n",
            " extracting: val/r/r-64.png          \n",
            " extracting: val/r/r-7.png           \n",
            " extracting: val/r/r-8.png           \n",
            " extracting: val/r/r-9.png           \n",
            "   creating: val/s/\n",
            " extracting: val/s/s-1.png           \n",
            " extracting: val/s/s-10.png          \n",
            " extracting: val/s/s-11.png          \n",
            " extracting: val/s/s-12.png          \n",
            " extracting: val/s/s-13.png          \n",
            " extracting: val/s/s-14.png          \n",
            " extracting: val/s/s-15.png          \n",
            " extracting: val/s/s-16.png          \n",
            " extracting: val/s/s-17.png          \n",
            " extracting: val/s/s-18.png          \n",
            " extracting: val/s/s-19.png          \n",
            " extracting: val/s/s-2.png           \n",
            " extracting: val/s/s-20.png          \n",
            " extracting: val/s/s-21.png          \n",
            " extracting: val/s/s-22.png          \n",
            " extracting: val/s/s-23.png          \n",
            " extracting: val/s/s-24.png          \n",
            " extracting: val/s/s-25.png          \n",
            " extracting: val/s/s-26.png          \n",
            " extracting: val/s/s-27.png          \n",
            " extracting: val/s/s-28.png          \n",
            " extracting: val/s/s-29.png          \n",
            " extracting: val/s/s-3.png           \n",
            " extracting: val/s/s-30.png          \n",
            " extracting: val/s/s-31.png          \n",
            " extracting: val/s/s-32.png          \n",
            " extracting: val/s/s-33.png          \n",
            " extracting: val/s/s-34.png          \n",
            " extracting: val/s/s-35.png          \n",
            " extracting: val/s/s-36.png          \n",
            " extracting: val/s/s-37.png          \n",
            " extracting: val/s/s-38.png          \n",
            " extracting: val/s/s-39.png          \n",
            " extracting: val/s/s-4.png           \n",
            " extracting: val/s/s-40.png          \n",
            " extracting: val/s/s-41.png          \n",
            " extracting: val/s/s-42.png          \n",
            " extracting: val/s/s-43.png          \n",
            " extracting: val/s/s-44.png          \n",
            " extracting: val/s/s-45.png          \n",
            " extracting: val/s/s-46.png          \n",
            " extracting: val/s/s-47.png          \n",
            " extracting: val/s/s-48.png          \n",
            " extracting: val/s/s-49.png          \n",
            " extracting: val/s/s-5.png           \n",
            " extracting: val/s/s-50.png          \n",
            " extracting: val/s/s-51.png          \n",
            " extracting: val/s/s-52.png          \n",
            " extracting: val/s/s-53.png          \n",
            " extracting: val/s/s-54.png          \n",
            " extracting: val/s/s-55.png          \n",
            " extracting: val/s/s-56.png          \n",
            " extracting: val/s/s-57.png          \n",
            " extracting: val/s/s-58.png          \n",
            " extracting: val/s/s-59.png          \n",
            " extracting: val/s/s-6.png           \n",
            " extracting: val/s/s-60.png          \n",
            " extracting: val/s/s-61.png          \n",
            " extracting: val/s/s-62.png          \n",
            " extracting: val/s/s-63.png          \n",
            " extracting: val/s/s-64.png          \n",
            " extracting: val/s/s-7.png           \n",
            " extracting: val/s/s-8.png           \n",
            " extracting: val/s/s-9.png           \n",
            "   creating: val/t/\n",
            " extracting: val/t/t-1.png           \n",
            " extracting: val/t/t-10.png          \n",
            " extracting: val/t/t-11.png          \n",
            " extracting: val/t/t-12.png          \n",
            " extracting: val/t/t-13.png          \n",
            " extracting: val/t/t-14.png          \n",
            " extracting: val/t/t-15.png          \n",
            " extracting: val/t/t-16.png          \n",
            " extracting: val/t/t-17.png          \n",
            " extracting: val/t/t-18.png          \n",
            " extracting: val/t/t-19.png          \n",
            " extracting: val/t/t-2.png           \n",
            " extracting: val/t/t-20.png          \n",
            " extracting: val/t/t-21.png          \n",
            " extracting: val/t/t-22.png          \n",
            " extracting: val/t/t-23.png          \n",
            " extracting: val/t/t-24.png          \n",
            " extracting: val/t/t-25.png          \n",
            " extracting: val/t/t-26.png          \n",
            " extracting: val/t/t-27.png          \n",
            " extracting: val/t/t-28.png          \n",
            " extracting: val/t/t-29.png          \n",
            " extracting: val/t/t-3.png           \n",
            " extracting: val/t/t-30.png          \n",
            " extracting: val/t/t-31.png          \n",
            " extracting: val/t/t-32.png          \n",
            " extracting: val/t/t-33.png          \n",
            " extracting: val/t/t-34.png          \n",
            " extracting: val/t/t-35.png          \n",
            " extracting: val/t/t-36.png          \n",
            " extracting: val/t/t-37.png          \n",
            " extracting: val/t/t-38.png          \n",
            " extracting: val/t/t-39.png          \n",
            " extracting: val/t/t-4.png           \n",
            " extracting: val/t/t-40.png          \n",
            " extracting: val/t/t-41.png          \n",
            " extracting: val/t/t-42.png          \n",
            " extracting: val/t/t-43.png          \n",
            " extracting: val/t/t-44.png          \n",
            " extracting: val/t/t-45.png          \n",
            " extracting: val/t/t-46.png          \n",
            " extracting: val/t/t-47.png          \n",
            " extracting: val/t/t-48.png          \n",
            " extracting: val/t/t-49.png          \n",
            " extracting: val/t/t-5.png           \n",
            " extracting: val/t/t-50.png          \n",
            " extracting: val/t/t-51.png          \n",
            " extracting: val/t/t-52.png          \n",
            " extracting: val/t/t-53.png          \n",
            " extracting: val/t/t-54.png          \n",
            " extracting: val/t/t-55.png          \n",
            " extracting: val/t/t-56.png          \n",
            " extracting: val/t/t-57.png          \n",
            " extracting: val/t/t-58.png          \n",
            " extracting: val/t/t-59.png          \n",
            " extracting: val/t/t-6.png           \n",
            " extracting: val/t/t-60.png          \n",
            " extracting: val/t/t-61.png          \n",
            " extracting: val/t/t-62.png          \n",
            " extracting: val/t/t-63.png          \n",
            " extracting: val/t/t-64.png          \n",
            " extracting: val/t/t-7.png           \n",
            " extracting: val/t/t-8.png           \n",
            " extracting: val/t/t-9.png           \n",
            "   creating: val/u/\n",
            " extracting: val/u/u-1.png           \n",
            " extracting: val/u/u-10.png          \n",
            " extracting: val/u/u-11.png          \n",
            " extracting: val/u/u-12.png          \n",
            " extracting: val/u/u-13.png          \n",
            " extracting: val/u/u-14.png          \n",
            " extracting: val/u/u-15.png          \n",
            " extracting: val/u/u-16.png          \n",
            " extracting: val/u/u-17.png          \n",
            " extracting: val/u/u-18.png          \n",
            " extracting: val/u/u-19.png          \n",
            " extracting: val/u/u-2.png           \n",
            " extracting: val/u/u-20.png          \n",
            " extracting: val/u/u-21.png          \n",
            " extracting: val/u/u-22.png          \n",
            " extracting: val/u/u-23.png          \n",
            " extracting: val/u/u-24.png          \n",
            " extracting: val/u/u-25.png          \n",
            " extracting: val/u/u-26.png          \n",
            " extracting: val/u/u-27.png          \n",
            " extracting: val/u/u-28.png          \n",
            " extracting: val/u/u-29.png          \n",
            " extracting: val/u/u-3.png           \n",
            " extracting: val/u/u-30.png          \n",
            " extracting: val/u/u-31.png          \n",
            " extracting: val/u/u-32.png          \n",
            " extracting: val/u/u-33.png          \n",
            " extracting: val/u/u-34.png          \n",
            " extracting: val/u/u-35.png          \n",
            " extracting: val/u/u-36.png          \n",
            " extracting: val/u/u-37.png          \n",
            " extracting: val/u/u-38.png          \n",
            " extracting: val/u/u-39.png          \n",
            " extracting: val/u/u-4.png           \n",
            " extracting: val/u/u-40.png          \n",
            " extracting: val/u/u-41.png          \n",
            " extracting: val/u/u-42.png          \n",
            " extracting: val/u/u-43.png          \n",
            " extracting: val/u/u-44.png          \n",
            " extracting: val/u/u-45.png          \n",
            " extracting: val/u/u-46.png          \n",
            " extracting: val/u/u-47.png          \n",
            " extracting: val/u/u-48.png          \n",
            " extracting: val/u/u-49.png          \n",
            " extracting: val/u/u-5.png           \n",
            " extracting: val/u/u-50.png          \n",
            " extracting: val/u/u-51.png          \n",
            " extracting: val/u/u-52.png          \n",
            " extracting: val/u/u-53.png          \n",
            " extracting: val/u/u-54.png          \n",
            " extracting: val/u/u-55.png          \n",
            " extracting: val/u/u-56.png          \n",
            " extracting: val/u/u-57.png          \n",
            " extracting: val/u/u-58.png          \n",
            " extracting: val/u/u-59.png          \n",
            " extracting: val/u/u-6.png           \n",
            " extracting: val/u/u-60.png          \n",
            " extracting: val/u/u-61.png          \n",
            " extracting: val/u/u-62.png          \n",
            " extracting: val/u/u-63.png          \n",
            " extracting: val/u/u-64.png          \n",
            " extracting: val/u/u-7.png           \n",
            " extracting: val/u/u-8.png           \n",
            " extracting: val/u/u-9.png           \n",
            "   creating: val/v/\n",
            " extracting: val/v/v-1.png           \n",
            " extracting: val/v/v-10.png          \n",
            " extracting: val/v/v-11.png          \n",
            " extracting: val/v/v-12.png          \n",
            " extracting: val/v/v-13.png          \n",
            " extracting: val/v/v-14.png          \n",
            " extracting: val/v/v-15.png          \n",
            " extracting: val/v/v-16.png          \n",
            " extracting: val/v/v-17.png          \n",
            " extracting: val/v/v-18.png          \n",
            " extracting: val/v/v-19.png          \n",
            " extracting: val/v/v-2.png           \n",
            " extracting: val/v/v-20.png          \n",
            " extracting: val/v/v-21.png          \n",
            " extracting: val/v/v-22.png          \n",
            " extracting: val/v/v-23.png          \n",
            " extracting: val/v/v-24.png          \n",
            " extracting: val/v/v-25.png          \n",
            " extracting: val/v/v-26.png          \n",
            " extracting: val/v/v-27.png          \n",
            " extracting: val/v/v-28.png          \n",
            " extracting: val/v/v-29.png          \n",
            " extracting: val/v/v-3.png           \n",
            " extracting: val/v/v-30.png          \n",
            " extracting: val/v/v-31.png          \n",
            " extracting: val/v/v-32.png          \n",
            " extracting: val/v/v-33.png          \n",
            " extracting: val/v/v-34.png          \n",
            " extracting: val/v/v-35.png          \n",
            " extracting: val/v/v-36.png          \n",
            " extracting: val/v/v-37.png          \n",
            " extracting: val/v/v-38.png          \n",
            " extracting: val/v/v-39.png          \n",
            " extracting: val/v/v-4.png           \n",
            " extracting: val/v/v-40.png          \n",
            " extracting: val/v/v-41.png          \n",
            " extracting: val/v/v-42.png          \n",
            " extracting: val/v/v-43.png          \n",
            " extracting: val/v/v-44.png          \n",
            " extracting: val/v/v-45.png          \n",
            " extracting: val/v/v-46.png          \n",
            " extracting: val/v/v-47.png          \n",
            " extracting: val/v/v-48.png          \n",
            " extracting: val/v/v-49.png          \n",
            " extracting: val/v/v-5.png           \n",
            " extracting: val/v/v-50.png          \n",
            " extracting: val/v/v-51.png          \n",
            " extracting: val/v/v-52.png          \n",
            " extracting: val/v/v-53.png          \n",
            " extracting: val/v/v-54.png          \n",
            " extracting: val/v/v-55.png          \n",
            " extracting: val/v/v-56.png          \n",
            " extracting: val/v/v-57.png          \n",
            " extracting: val/v/v-58.png          \n",
            " extracting: val/v/v-59.png          \n",
            " extracting: val/v/v-6.png           \n",
            " extracting: val/v/v-60.png          \n",
            " extracting: val/v/v-61.png          \n",
            " extracting: val/v/v-62.png          \n",
            " extracting: val/v/v-63.png          \n",
            " extracting: val/v/v-64.png          \n",
            " extracting: val/v/v-7.png           \n",
            " extracting: val/v/v-8.png           \n",
            " extracting: val/v/v-9.png           \n",
            "   creating: val/w/\n",
            " extracting: val/w/w-1.png           \n",
            " extracting: val/w/w-10.png          \n",
            " extracting: val/w/w-11.png          \n",
            " extracting: val/w/w-12.png          \n",
            " extracting: val/w/w-13.png          \n",
            " extracting: val/w/w-14.png          \n",
            " extracting: val/w/w-15.png          \n",
            " extracting: val/w/w-16.png          \n",
            " extracting: val/w/w-17.png          \n",
            " extracting: val/w/w-18.png          \n",
            " extracting: val/w/w-19.png          \n",
            " extracting: val/w/w-2.png           \n",
            " extracting: val/w/w-20.png          \n",
            " extracting: val/w/w-21.png          \n",
            " extracting: val/w/w-22.png          \n",
            " extracting: val/w/w-23.png          \n",
            " extracting: val/w/w-24.png          \n",
            " extracting: val/w/w-25.png          \n",
            " extracting: val/w/w-26.png          \n",
            " extracting: val/w/w-27.png          \n",
            " extracting: val/w/w-28.png          \n",
            " extracting: val/w/w-29.png          \n",
            " extracting: val/w/w-3.png           \n",
            " extracting: val/w/w-30.png          \n",
            " extracting: val/w/w-31.png          \n",
            " extracting: val/w/w-32.png          \n",
            " extracting: val/w/w-33.png          \n",
            " extracting: val/w/w-34.png          \n",
            " extracting: val/w/w-35.png          \n",
            " extracting: val/w/w-36.png          \n",
            " extracting: val/w/w-37.png          \n",
            " extracting: val/w/w-38.png          \n",
            " extracting: val/w/w-39.png          \n",
            " extracting: val/w/w-4.png           \n",
            " extracting: val/w/w-40.png          \n",
            " extracting: val/w/w-41.png          \n",
            " extracting: val/w/w-42.png          \n",
            " extracting: val/w/w-43.png          \n",
            " extracting: val/w/w-44.png          \n",
            " extracting: val/w/w-45.png          \n",
            " extracting: val/w/w-46.png          \n",
            " extracting: val/w/w-47.png          \n",
            " extracting: val/w/w-48.png          \n",
            " extracting: val/w/w-49.png          \n",
            " extracting: val/w/w-5.png           \n",
            " extracting: val/w/w-50.png          \n",
            " extracting: val/w/w-51.png          \n",
            " extracting: val/w/w-52.png          \n",
            " extracting: val/w/w-53.png          \n",
            " extracting: val/w/w-54.png          \n",
            " extracting: val/w/w-55.png          \n",
            " extracting: val/w/w-56.png          \n",
            " extracting: val/w/w-57.png          \n",
            " extracting: val/w/w-58.png          \n",
            " extracting: val/w/w-59.png          \n",
            " extracting: val/w/w-6.png           \n",
            " extracting: val/w/w-60.png          \n",
            " extracting: val/w/w-61.png          \n",
            " extracting: val/w/w-62.png          \n",
            " extracting: val/w/w-63.png          \n",
            " extracting: val/w/w-64.png          \n",
            " extracting: val/w/w-7.png           \n",
            " extracting: val/w/w-8.png           \n",
            " extracting: val/w/w-9.png           \n",
            "   creating: val/x/\n",
            " extracting: val/x/x-1.png           \n",
            " extracting: val/x/x-10.png          \n",
            " extracting: val/x/x-11.png          \n",
            " extracting: val/x/x-12.png          \n",
            " extracting: val/x/x-13.png          \n",
            " extracting: val/x/x-14.png          \n",
            " extracting: val/x/x-15.png          \n",
            " extracting: val/x/x-16.png          \n",
            " extracting: val/x/x-17.png          \n",
            " extracting: val/x/x-18.png          \n",
            " extracting: val/x/x-19.png          \n",
            " extracting: val/x/x-2.png           \n",
            " extracting: val/x/x-20.png          \n",
            " extracting: val/x/x-21.png          \n",
            " extracting: val/x/x-22.png          \n",
            " extracting: val/x/x-23.png          \n",
            " extracting: val/x/x-24.png          \n",
            " extracting: val/x/x-25.png          \n",
            " extracting: val/x/x-26.png          \n",
            " extracting: val/x/x-27.png          \n",
            " extracting: val/x/x-28.png          \n",
            " extracting: val/x/x-29.png          \n",
            " extracting: val/x/x-3.png           \n",
            " extracting: val/x/x-30.png          \n",
            " extracting: val/x/x-31.png          \n",
            " extracting: val/x/x-32.png          \n",
            " extracting: val/x/x-33.png          \n",
            " extracting: val/x/x-34.png          \n",
            " extracting: val/x/x-35.png          \n",
            " extracting: val/x/x-36.png          \n",
            " extracting: val/x/x-37.png          \n",
            " extracting: val/x/x-38.png          \n",
            " extracting: val/x/x-39.png          \n",
            " extracting: val/x/x-4.png           \n",
            " extracting: val/x/x-40.png          \n",
            " extracting: val/x/x-41.png          \n",
            " extracting: val/x/x-42.png          \n",
            " extracting: val/x/x-43.png          \n",
            " extracting: val/x/x-44.png          \n",
            " extracting: val/x/x-45.png          \n",
            " extracting: val/x/x-46.png          \n",
            " extracting: val/x/x-47.png          \n",
            " extracting: val/x/x-48.png          \n",
            " extracting: val/x/x-49.png          \n",
            " extracting: val/x/x-5.png           \n",
            " extracting: val/x/x-50.png          \n",
            " extracting: val/x/x-51.png          \n",
            " extracting: val/x/x-52.png          \n",
            " extracting: val/x/x-53.png          \n",
            " extracting: val/x/x-54.png          \n",
            " extracting: val/x/x-55.png          \n",
            " extracting: val/x/x-56.png          \n",
            " extracting: val/x/x-57.png          \n",
            " extracting: val/x/x-58.png          \n",
            " extracting: val/x/x-59.png          \n",
            " extracting: val/x/x-6.png           \n",
            " extracting: val/x/x-60.png          \n",
            " extracting: val/x/x-61.png          \n",
            " extracting: val/x/x-62.png          \n",
            " extracting: val/x/x-63.png          \n",
            " extracting: val/x/x-64.png          \n",
            " extracting: val/x/x-7.png           \n",
            " extracting: val/x/x-8.png           \n",
            " extracting: val/x/x-9.png           \n",
            "   creating: val/y/\n",
            " extracting: val/y/y-1.png           \n",
            " extracting: val/y/y-10.png          \n",
            " extracting: val/y/y-11.png          \n",
            " extracting: val/y/y-12.png          \n",
            " extracting: val/y/y-13.png          \n",
            " extracting: val/y/y-14.png          \n",
            " extracting: val/y/y-15.png          \n",
            " extracting: val/y/y-16.png          \n",
            " extracting: val/y/y-17.png          \n",
            " extracting: val/y/y-18.png          \n",
            " extracting: val/y/y-19.png          \n",
            " extracting: val/y/y-2.png           \n",
            " extracting: val/y/y-20.png          \n",
            " extracting: val/y/y-21.png          \n",
            " extracting: val/y/y-22.png          \n",
            " extracting: val/y/y-23.png          \n",
            " extracting: val/y/y-24.png          \n",
            " extracting: val/y/y-25.png          \n",
            " extracting: val/y/y-26.png          \n",
            " extracting: val/y/y-27.png          \n",
            " extracting: val/y/y-28.png          \n",
            " extracting: val/y/y-29.png          \n",
            " extracting: val/y/y-3.png           \n",
            " extracting: val/y/y-30.png          \n",
            " extracting: val/y/y-31.png          \n",
            " extracting: val/y/y-32.png          \n",
            " extracting: val/y/y-33.png          \n",
            " extracting: val/y/y-34.png          \n",
            " extracting: val/y/y-35.png          \n",
            " extracting: val/y/y-36.png          \n",
            " extracting: val/y/y-37.png          \n",
            " extracting: val/y/y-38.png          \n",
            " extracting: val/y/y-39.png          \n",
            " extracting: val/y/y-4.png           \n",
            " extracting: val/y/y-40.png          \n",
            " extracting: val/y/y-41.png          \n",
            " extracting: val/y/y-42.png          \n",
            " extracting: val/y/y-43.png          \n",
            " extracting: val/y/y-44.png          \n",
            " extracting: val/y/y-45.png          \n",
            " extracting: val/y/y-46.png          \n",
            " extracting: val/y/y-47.png          \n",
            " extracting: val/y/y-48.png          \n",
            " extracting: val/y/y-49.png          \n",
            " extracting: val/y/y-5.png           \n",
            " extracting: val/y/y-50.png          \n",
            " extracting: val/y/y-51.png          \n",
            " extracting: val/y/y-52.png          \n",
            " extracting: val/y/y-53.png          \n",
            " extracting: val/y/y-54.png          \n",
            " extracting: val/y/y-55.png          \n",
            " extracting: val/y/y-56.png          \n",
            " extracting: val/y/y-57.png          \n",
            " extracting: val/y/y-58.png          \n",
            " extracting: val/y/y-59.png          \n",
            " extracting: val/y/y-6.png           \n",
            " extracting: val/y/y-60.png          \n",
            " extracting: val/y/y-61.png          \n",
            " extracting: val/y/y-62.png          \n",
            " extracting: val/y/y-63.png          \n",
            " extracting: val/y/y-64.png          \n",
            " extracting: val/y/y-7.png           \n",
            " extracting: val/y/y-8.png           \n",
            " extracting: val/y/y-9.png           \n",
            "   creating: val/z/\n",
            " extracting: val/z/z-1.png           \n",
            " extracting: val/z/z-10.png          \n",
            " extracting: val/z/z-11.png          \n",
            " extracting: val/z/z-12.png          \n",
            " extracting: val/z/z-13.png          \n",
            " extracting: val/z/z-14.png          \n",
            " extracting: val/z/z-15.png          \n",
            " extracting: val/z/z-16.png          \n",
            " extracting: val/z/z-17.png          \n",
            " extracting: val/z/z-18.png          \n",
            " extracting: val/z/z-19.png          \n",
            " extracting: val/z/z-2.png           \n",
            " extracting: val/z/z-20.png          \n",
            " extracting: val/z/z-21.png          \n",
            " extracting: val/z/z-22.png          \n",
            " extracting: val/z/z-23.png          \n",
            " extracting: val/z/z-24.png          \n",
            " extracting: val/z/z-25.png          \n",
            " extracting: val/z/z-26.png          \n",
            " extracting: val/z/z-27.png          \n",
            " extracting: val/z/z-28.png          \n",
            " extracting: val/z/z-29.png          \n",
            " extracting: val/z/z-3.png           \n",
            " extracting: val/z/z-30.png          \n",
            " extracting: val/z/z-31.png          \n",
            " extracting: val/z/z-32.png          \n",
            " extracting: val/z/z-33.png          \n",
            " extracting: val/z/z-34.png          \n",
            " extracting: val/z/z-35.png          \n",
            " extracting: val/z/z-36.png          \n",
            " extracting: val/z/z-37.png          \n",
            " extracting: val/z/z-38.png          \n",
            " extracting: val/z/z-39.png          \n",
            " extracting: val/z/z-4.png           \n",
            " extracting: val/z/z-40.png          \n",
            " extracting: val/z/z-41.png          \n",
            " extracting: val/z/z-42.png          \n",
            " extracting: val/z/z-43.png          \n",
            " extracting: val/z/z-44.png          \n",
            " extracting: val/z/z-45.png          \n",
            " extracting: val/z/z-46.png          \n",
            " extracting: val/z/z-47.png          \n",
            " extracting: val/z/z-48.png          \n",
            " extracting: val/z/z-49.png          \n",
            " extracting: val/z/z-5.png           \n",
            " extracting: val/z/z-50.png          \n",
            " extracting: val/z/z-51.png          \n",
            " extracting: val/z/z-52.png          \n",
            " extracting: val/z/z-53.png          \n",
            " extracting: val/z/z-54.png          \n",
            " extracting: val/z/z-55.png          \n",
            " extracting: val/z/z-56.png          \n",
            " extracting: val/z/z-57.png          \n",
            " extracting: val/z/z-58.png          \n",
            " extracting: val/z/z-59.png          \n",
            " extracting: val/z/z-6.png           \n",
            " extracting: val/z/z-60.png          \n",
            " extracting: val/z/z-61.png          \n",
            " extracting: val/z/z-62.png          \n",
            " extracting: val/z/z-63.png          \n",
            " extracting: val/z/z-64.png          \n",
            " extracting: val/z/z-7.png           \n",
            " extracting: val/z/z-8.png           \n",
            " extracting: val/z/z-9.png           \n"
          ]
        }
      ]
    },
    {
      "cell_type": "code",
      "source": [
        "transform = transforms.Compose(\n",
        "        [transforms.ToTensor(),\n",
        "         transforms.Normalize((0.5, 0.5, 0.5), (0.5, 0.5, 0.5))])\n",
        "\n",
        "img_root = \"/content/\"\n",
        "#testData = torchvision.datasets.ImageFolder(img_root + 'test', transform=transform)\n",
        "trainData = torchvision.datasets.ImageFolder(img_root + 'chars', transform=transform)\n",
        "valData = torchvision.datasets.ImageFolder(img_root + 'val', transform=transform)\n",
        "\n",
        "print(  len(trainData), len(valData) )"
      ],
      "metadata": {
        "id": "Hn71oxoRp7i6",
        "colab": {
          "base_uri": "https://localhost:8080/"
        },
        "outputId": "7fb29308-eb66-4fa3-8faa-75ca35091406"
      },
      "execution_count": null,
      "outputs": [
        {
          "output_type": "stream",
          "name": "stdout",
          "text": [
            "25886 2304\n"
          ]
        }
      ]
    },
    {
      "cell_type": "code",
      "source": [
        "do_cuda = True"
      ],
      "metadata": {
        "id": "doGG__qTXhvc"
      },
      "execution_count": null,
      "outputs": []
    },
    {
      "cell_type": "markdown",
      "source": [
        "# **The CNN**"
      ],
      "metadata": {
        "id": "1p7IATuGqX-n"
      }
    },
    {
      "cell_type": "code",
      "execution_count": null,
      "metadata": {
        "id": "Wa5knx4aUg3C"
      },
      "outputs": [],
      "source": [
        "class char_cnn(nn.Module):\n",
        "    def __init__(self):\n",
        "        super(char_cnn, self).__init__()\n",
        "        self.name = \"c_cnn\"\n",
        "        self.conv1 = nn.Conv2d(3, 5, 5)\n",
        "        self.pool = nn.MaxPool2d(2, 2)\n",
        "        self.conv2 = nn.Conv2d(5, 10, 5)\n",
        "        self.fc1 = nn.Linear(15*5*10, 32)  #width*height will change depending on previous layers, pooling, and the initial dimensions of the photo\n",
        "        self.fc2 = nn.Linear(32, 36)       # there are 36 possible characters, 26 letters (A-Z) and 10 digits (0-9)\n",
        "\n",
        "    def forward(self, x):\n",
        "        \n",
        "        x = self.pool(F.relu(self.conv1(x)))\n",
        "        x = self.pool(F.relu(self.conv2(x)))\n",
        "        \n",
        "        x = x.view(-1, 15*5*10)\n",
        "        x = F.relu(self.fc1(x))\n",
        "        x = self.fc2(x)\n",
        "        x = x.squeeze(1) # Flatten to [batch_size]\n",
        "        return x"
      ]
    },
    {
      "cell_type": "markdown",
      "source": [
        "# **Training**"
      ],
      "metadata": {
        "id": "Q_xLFbu4qeLk"
      }
    },
    {
      "cell_type": "code",
      "source": [
        "def get_accuracy(model, train=False, batch_size = 64):\n",
        "    if train:\n",
        "        data = trainData\n",
        "    else:\n",
        "        data = valData\n",
        "\n",
        "    correct = 0\n",
        "    total = 0\n",
        "    for imgs, labels in tqdm(torch.utils.data.DataLoader(data, batch_size=batch_size)):\n",
        "\n",
        "        if do_cuda and torch.cuda.is_available:\n",
        "            imgs = imgs.cuda()\n",
        "            labels = labels.cuda()\n",
        "\n",
        "        output = model(imgs)\n",
        "        #select index with maximum prediction score\n",
        "        pred = output.max(1, keepdim=True)[1]\n",
        "        correct += pred.eq(labels.view_as(pred)).sum().item()\n",
        "        total += imgs.shape[0]\n",
        "    return correct / total\n",
        "  \n",
        "print ('done')\n",
        "\n",
        "\n",
        "def train(model, data, batch_size=64, num_epochs=30, learning_rate=0.002):\n",
        "    torch.manual_seed(1000)\n",
        "    train_loader = torch.utils.data.DataLoader(data, batch_size=batch_size, shuffle=True)\n",
        "    criterion = nn.CrossEntropyLoss()\n",
        "    optimizer = optim.SGD(model.parameters(), lr=learning_rate, momentum=0.9)\n",
        "\n",
        "    iters, losses, train_acc, val_acc = [], [], [], []\n",
        "\n",
        "\n",
        "    startTime = time.time() # to see how long training goes\n",
        "    print(\"starting training\")\n",
        "    # training\n",
        "    n = 0 # the number of iterations\n",
        "    for epoch in range(num_epochs):\n",
        "        print(\"epoch: \", epoch)\n",
        "        for imgs, labels in tqdm(iter(train_loader)):\n",
        "\n",
        "            if do_cuda and torch.cuda.is_available():\n",
        "              imgs = imgs.cuda()\n",
        "              labels = labels.cuda()\n",
        "\n",
        "            out = model(imgs)             # forward pass\n",
        "            loss = criterion(out, labels) # compute the total loss\n",
        "            loss.backward()               # backward pass (compute parameter updates)\n",
        "            optimizer.step()              # make the updates for each parameter\n",
        "            optimizer.zero_grad()         # a clean up step for PyTorch\n",
        "\n",
        "            # save the current training information\n",
        "            iters.append(n)\n",
        "            losses.append(float(loss)/batch_size)             # compute *average* loss\n",
        "            n += 1\n",
        "        print(\"epoch: \", epoch, \" completed, checking train acc\")\n",
        "        train_acc.append(get_accuracy(model, train=True, batch_size=batch_size)) # compute training accuracy \n",
        "        print(\"checking val acc\")\n",
        "        val_acc.append(get_accuracy(model, train=False, batch_size=batch_size))  # compute validation accuracy\n",
        "        print((\"Epoch {}: Train acc: {} |\"+\"Validation acc: {}\").format(\n",
        "                epoch, # call epoch zero epoch zero\n",
        "                train_acc[-1],\n",
        "                val_acc[-1]))\n",
        "        \n",
        "        #checkpoint\n",
        "        path = \"model_{0}_bs{1}_lr{2}_epoch{3}\".format(model.name,\n",
        "                                                   batch_size,\n",
        "                                                   learning_rate,\n",
        "                                                   epoch)\n",
        "        torch.save(model.state_dict(), path)\n",
        "\n",
        "\n",
        "    \n",
        "    finishTime = time.time()\n",
        "\n",
        "    delta = finishTime - startTime\n",
        "    print(\"\\nDONE TRAINING in %s seconds!\\n\" % delta)\n",
        "\n",
        "    # plotting\n",
        "    plt.title(\"Training Curve\")\n",
        "    plt.plot(iters, losses, label=\"Train\")\n",
        "    plt.xlabel(\"Iterations\")\n",
        "    plt.ylabel(\"Loss\")\n",
        "    plt.show()\n",
        "\n",
        "    plt.title(\"Training Curve\")\n",
        "    plt.plot(range(num_epochs), train_acc, label=\"Train\")\n",
        "    plt.plot(range(num_epochs), val_acc, label=\"Validation\")\n",
        "    plt.xlabel(\"Iterations\")\n",
        "    plt.ylabel(\"Training Accuracy\")\n",
        "    plt.legend(loc='best')\n",
        "    plt.show()\n",
        "\n",
        "    print(\"Final Training Accuracy: {}\".format(train_acc[-1]))\n",
        "    print(\"Final Validation Accuracy: {}\".format(val_acc[-1]))\n",
        "    \n",
        "    \n",
        "print('done')\n",
        "\n"
      ],
      "metadata": {
        "colab": {
          "base_uri": "https://localhost:8080/"
        },
        "id": "9Z2-kwS7S0mF",
        "outputId": "37c4c59a-9f06-4513-e542-35bfd2059fda"
      },
      "execution_count": null,
      "outputs": [
        {
          "output_type": "stream",
          "name": "stdout",
          "text": [
            "done\n",
            "done\n"
          ]
        }
      ]
    },
    {
      "cell_type": "code",
      "source": [
        ""
      ],
      "metadata": {
        "id": "rjquDyfUS1eB"
      },
      "execution_count": null,
      "outputs": []
    },
    {
      "cell_type": "markdown",
      "source": [
        "Now we train the CNN on the data set we collected\n"
      ],
      "metadata": {
        "id": "-szFmoPssK4Z"
      }
    },
    {
      "cell_type": "code",
      "source": [
        "sccnn = char_cnn()\n",
        "sccnn.cuda()\n",
        "print(torch.cuda.is_available())\n",
        "train(sccnn,  trainData, 128, 50)\n",
        "#model_path = get_model_name(\"c_cnn\", batch_size=64, learning_rate=0.01, epoch=49)\n",
        "#plot_training_curve(model_path)"
      ],
      "metadata": {
        "id": "UoINCGNcsSLb",
        "colab": {
          "base_uri": "https://localhost:8080/",
          "height": 1000
        },
        "outputId": "d65d3f14-fcd6-40e5-ed9e-5a1d70dc4ff6"
      },
      "execution_count": null,
      "outputs": [
        {
          "output_type": "stream",
          "name": "stdout",
          "text": [
            "True\n",
            "starting training\n",
            "epoch:  0\n"
          ]
        },
        {
          "output_type": "stream",
          "name": "stderr",
          "text": [
            "100%|██████████| 203/203 [00:12<00:00, 16.55it/s]\n"
          ]
        },
        {
          "output_type": "stream",
          "name": "stdout",
          "text": [
            "epoch:  0  completed, checking train acc\n"
          ]
        },
        {
          "output_type": "stream",
          "name": "stderr",
          "text": [
            "100%|██████████| 203/203 [00:11<00:00, 17.19it/s]\n"
          ]
        },
        {
          "output_type": "stream",
          "name": "stdout",
          "text": [
            "checking val acc\n"
          ]
        },
        {
          "output_type": "stream",
          "name": "stderr",
          "text": [
            "100%|██████████| 18/18 [00:00<00:00, 18.47it/s]\n"
          ]
        },
        {
          "output_type": "stream",
          "name": "stdout",
          "text": [
            "Epoch 0: Train acc: 0.03449741172834737 |Validation acc: 0.03993055555555555\n",
            "epoch:  1\n"
          ]
        },
        {
          "output_type": "stream",
          "name": "stderr",
          "text": [
            "100%|██████████| 203/203 [00:12<00:00, 16.66it/s]\n"
          ]
        },
        {
          "output_type": "stream",
          "name": "stdout",
          "text": [
            "epoch:  1  completed, checking train acc\n"
          ]
        },
        {
          "output_type": "stream",
          "name": "stderr",
          "text": [
            "100%|██████████| 203/203 [00:10<00:00, 19.01it/s]\n"
          ]
        },
        {
          "output_type": "stream",
          "name": "stdout",
          "text": [
            "checking val acc\n"
          ]
        },
        {
          "output_type": "stream",
          "name": "stderr",
          "text": [
            "100%|██████████| 18/18 [00:00<00:00, 18.90it/s]\n"
          ]
        },
        {
          "output_type": "stream",
          "name": "stdout",
          "text": [
            "Epoch 1: Train acc: 0.24391563007030828 |Validation acc: 0.2517361111111111\n",
            "epoch:  2\n"
          ]
        },
        {
          "output_type": "stream",
          "name": "stderr",
          "text": [
            "100%|██████████| 203/203 [00:12<00:00, 16.53it/s]\n"
          ]
        },
        {
          "output_type": "stream",
          "name": "stdout",
          "text": [
            "epoch:  2  completed, checking train acc\n"
          ]
        },
        {
          "output_type": "stream",
          "name": "stderr",
          "text": [
            "100%|██████████| 203/203 [00:10<00:00, 18.97it/s]\n"
          ]
        },
        {
          "output_type": "stream",
          "name": "stdout",
          "text": [
            "checking val acc\n"
          ]
        },
        {
          "output_type": "stream",
          "name": "stderr",
          "text": [
            "100%|██████████| 18/18 [00:00<00:00, 18.62it/s]\n"
          ]
        },
        {
          "output_type": "stream",
          "name": "stdout",
          "text": [
            "Epoch 2: Train acc: 0.7077957196940431 |Validation acc: 0.6857638888888888\n",
            "epoch:  3\n"
          ]
        },
        {
          "output_type": "stream",
          "name": "stderr",
          "text": [
            "100%|██████████| 203/203 [00:12<00:00, 16.38it/s]\n"
          ]
        },
        {
          "output_type": "stream",
          "name": "stdout",
          "text": [
            "epoch:  3  completed, checking train acc\n"
          ]
        },
        {
          "output_type": "stream",
          "name": "stderr",
          "text": [
            "100%|██████████| 203/203 [00:10<00:00, 18.99it/s]\n"
          ]
        },
        {
          "output_type": "stream",
          "name": "stdout",
          "text": [
            "checking val acc\n"
          ]
        },
        {
          "output_type": "stream",
          "name": "stderr",
          "text": [
            "100%|██████████| 18/18 [00:00<00:00, 19.07it/s]\n"
          ]
        },
        {
          "output_type": "stream",
          "name": "stdout",
          "text": [
            "Epoch 3: Train acc: 0.8241134203816735 |Validation acc: 0.7925347222222222\n",
            "epoch:  4\n"
          ]
        },
        {
          "output_type": "stream",
          "name": "stderr",
          "text": [
            "100%|██████████| 203/203 [00:12<00:00, 16.13it/s]\n"
          ]
        },
        {
          "output_type": "stream",
          "name": "stdout",
          "text": [
            "epoch:  4  completed, checking train acc\n"
          ]
        },
        {
          "output_type": "stream",
          "name": "stderr",
          "text": [
            "100%|██████████| 203/203 [00:10<00:00, 19.03it/s]\n"
          ]
        },
        {
          "output_type": "stream",
          "name": "stdout",
          "text": [
            "checking val acc\n"
          ]
        },
        {
          "output_type": "stream",
          "name": "stderr",
          "text": [
            "100%|██████████| 18/18 [00:00<00:00, 19.15it/s]\n"
          ]
        },
        {
          "output_type": "stream",
          "name": "stdout",
          "text": [
            "Epoch 4: Train acc: 0.8795874217723866 |Validation acc: 0.8563368055555556\n",
            "epoch:  5\n"
          ]
        },
        {
          "output_type": "stream",
          "name": "stderr",
          "text": [
            "100%|██████████| 203/203 [00:12<00:00, 16.54it/s]\n"
          ]
        },
        {
          "output_type": "stream",
          "name": "stdout",
          "text": [
            "epoch:  5  completed, checking train acc\n"
          ]
        },
        {
          "output_type": "stream",
          "name": "stderr",
          "text": [
            "100%|██████████| 203/203 [00:10<00:00, 19.34it/s]\n"
          ]
        },
        {
          "output_type": "stream",
          "name": "stdout",
          "text": [
            "checking val acc\n"
          ]
        },
        {
          "output_type": "stream",
          "name": "stderr",
          "text": [
            "100%|██████████| 18/18 [00:00<00:00, 19.03it/s]\n"
          ]
        },
        {
          "output_type": "stream",
          "name": "stdout",
          "text": [
            "Epoch 5: Train acc: 0.9293826778953874 |Validation acc: 0.9110243055555556\n",
            "epoch:  6\n"
          ]
        },
        {
          "output_type": "stream",
          "name": "stderr",
          "text": [
            "100%|██████████| 203/203 [00:12<00:00, 16.76it/s]\n"
          ]
        },
        {
          "output_type": "stream",
          "name": "stdout",
          "text": [
            "epoch:  6  completed, checking train acc\n"
          ]
        },
        {
          "output_type": "stream",
          "name": "stderr",
          "text": [
            "100%|██████████| 203/203 [00:10<00:00, 19.03it/s]\n"
          ]
        },
        {
          "output_type": "stream",
          "name": "stdout",
          "text": [
            "checking val acc\n"
          ]
        },
        {
          "output_type": "stream",
          "name": "stderr",
          "text": [
            "100%|██████████| 18/18 [00:00<00:00, 18.84it/s]\n"
          ]
        },
        {
          "output_type": "stream",
          "name": "stdout",
          "text": [
            "Epoch 6: Train acc: 0.9425171907594839 |Validation acc: 0.9283854166666666\n",
            "epoch:  7\n"
          ]
        },
        {
          "output_type": "stream",
          "name": "stderr",
          "text": [
            "100%|██████████| 203/203 [00:12<00:00, 16.03it/s]\n"
          ]
        },
        {
          "output_type": "stream",
          "name": "stdout",
          "text": [
            "epoch:  7  completed, checking train acc\n"
          ]
        },
        {
          "output_type": "stream",
          "name": "stderr",
          "text": [
            "100%|██████████| 203/203 [00:10<00:00, 18.99it/s]\n"
          ]
        },
        {
          "output_type": "stream",
          "name": "stdout",
          "text": [
            "checking val acc\n"
          ]
        },
        {
          "output_type": "stream",
          "name": "stderr",
          "text": [
            "100%|██████████| 18/18 [00:00<00:00, 18.96it/s]\n"
          ]
        },
        {
          "output_type": "stream",
          "name": "stdout",
          "text": [
            "Epoch 7: Train acc: 0.964189136985243 |Validation acc: 0.9526909722222222\n",
            "epoch:  8\n"
          ]
        },
        {
          "output_type": "stream",
          "name": "stderr",
          "text": [
            "100%|██████████| 203/203 [00:12<00:00, 16.84it/s]\n"
          ]
        },
        {
          "output_type": "stream",
          "name": "stdout",
          "text": [
            "epoch:  8  completed, checking train acc\n"
          ]
        },
        {
          "output_type": "stream",
          "name": "stderr",
          "text": [
            "100%|██████████| 203/203 [00:10<00:00, 19.22it/s]\n"
          ]
        },
        {
          "output_type": "stream",
          "name": "stdout",
          "text": [
            "checking val acc\n"
          ]
        },
        {
          "output_type": "stream",
          "name": "stderr",
          "text": [
            "100%|██████████| 18/18 [00:00<00:00, 18.89it/s]\n"
          ]
        },
        {
          "output_type": "stream",
          "name": "stdout",
          "text": [
            "Epoch 8: Train acc: 0.9462257590975817 |Validation acc: 0.9388020833333334\n",
            "epoch:  9\n"
          ]
        },
        {
          "output_type": "stream",
          "name": "stderr",
          "text": [
            "100%|██████████| 203/203 [00:12<00:00, 16.75it/s]\n"
          ]
        },
        {
          "output_type": "stream",
          "name": "stdout",
          "text": [
            "epoch:  9  completed, checking train acc\n"
          ]
        },
        {
          "output_type": "stream",
          "name": "stderr",
          "text": [
            "100%|██████████| 203/203 [00:10<00:00, 19.30it/s]\n"
          ]
        },
        {
          "output_type": "stream",
          "name": "stdout",
          "text": [
            "checking val acc\n"
          ]
        },
        {
          "output_type": "stream",
          "name": "stderr",
          "text": [
            "100%|██████████| 18/18 [00:00<00:00, 18.82it/s]\n"
          ]
        },
        {
          "output_type": "stream",
          "name": "stdout",
          "text": [
            "Epoch 9: Train acc: 0.9658888974735378 |Validation acc: 0.9509548611111112\n",
            "epoch:  10\n"
          ]
        },
        {
          "output_type": "stream",
          "name": "stderr",
          "text": [
            "100%|██████████| 203/203 [00:12<00:00, 16.82it/s]\n"
          ]
        },
        {
          "output_type": "stream",
          "name": "stdout",
          "text": [
            "epoch:  10  completed, checking train acc\n"
          ]
        },
        {
          "output_type": "stream",
          "name": "stderr",
          "text": [
            "100%|██████████| 203/203 [00:10<00:00, 19.12it/s]\n"
          ]
        },
        {
          "output_type": "stream",
          "name": "stdout",
          "text": [
            "checking val acc\n"
          ]
        },
        {
          "output_type": "stream",
          "name": "stderr",
          "text": [
            "100%|██████████| 18/18 [00:00<00:00, 19.25it/s]\n"
          ]
        },
        {
          "output_type": "stream",
          "name": "stdout",
          "text": [
            "Epoch 10: Train acc: 0.9714517499806845 |Validation acc: 0.9626736111111112\n",
            "epoch:  11\n"
          ]
        },
        {
          "output_type": "stream",
          "name": "stderr",
          "text": [
            "100%|██████████| 203/203 [00:12<00:00, 16.07it/s]\n"
          ]
        },
        {
          "output_type": "stream",
          "name": "stdout",
          "text": [
            "epoch:  11  completed, checking train acc\n"
          ]
        },
        {
          "output_type": "stream",
          "name": "stderr",
          "text": [
            "100%|██████████| 203/203 [00:10<00:00, 19.23it/s]\n"
          ]
        },
        {
          "output_type": "stream",
          "name": "stdout",
          "text": [
            "checking val acc\n"
          ]
        },
        {
          "output_type": "stream",
          "name": "stderr",
          "text": [
            "100%|██████████| 18/18 [00:00<00:00, 18.39it/s]\n"
          ]
        },
        {
          "output_type": "stream",
          "name": "stdout",
          "text": [
            "Epoch 11: Train acc: 0.9782507919338639 |Validation acc: 0.9670138888888888\n",
            "epoch:  12\n"
          ]
        },
        {
          "output_type": "stream",
          "name": "stderr",
          "text": [
            "100%|██████████| 203/203 [00:12<00:00, 16.66it/s]\n"
          ]
        },
        {
          "output_type": "stream",
          "name": "stdout",
          "text": [
            "epoch:  12  completed, checking train acc\n"
          ]
        },
        {
          "output_type": "stream",
          "name": "stderr",
          "text": [
            "100%|██████████| 203/203 [00:10<00:00, 18.99it/s]\n"
          ]
        },
        {
          "output_type": "stream",
          "name": "stdout",
          "text": [
            "checking val acc\n"
          ]
        },
        {
          "output_type": "stream",
          "name": "stderr",
          "text": [
            "100%|██████████| 18/18 [00:00<00:00, 19.18it/s]\n"
          ]
        },
        {
          "output_type": "stream",
          "name": "stdout",
          "text": [
            "Epoch 12: Train acc: 0.980645908985552 |Validation acc: 0.9674479166666666\n",
            "epoch:  13\n"
          ]
        },
        {
          "output_type": "stream",
          "name": "stderr",
          "text": [
            "100%|██████████| 203/203 [00:12<00:00, 16.46it/s]\n"
          ]
        },
        {
          "output_type": "stream",
          "name": "stdout",
          "text": [
            "epoch:  13  completed, checking train acc\n"
          ]
        },
        {
          "output_type": "stream",
          "name": "stderr",
          "text": [
            "100%|██████████| 203/203 [00:11<00:00, 18.20it/s]\n"
          ]
        },
        {
          "output_type": "stream",
          "name": "stdout",
          "text": [
            "checking val acc\n"
          ]
        },
        {
          "output_type": "stream",
          "name": "stderr",
          "text": [
            "100%|██████████| 18/18 [00:00<00:00, 19.22it/s]\n"
          ]
        },
        {
          "output_type": "stream",
          "name": "stdout",
          "text": [
            "Epoch 13: Train acc: 0.985783821370625 |Validation acc: 0.9748263888888888\n",
            "epoch:  14\n"
          ]
        },
        {
          "output_type": "stream",
          "name": "stderr",
          "text": [
            "100%|██████████| 203/203 [00:12<00:00, 16.63it/s]\n"
          ]
        },
        {
          "output_type": "stream",
          "name": "stdout",
          "text": [
            "epoch:  14  completed, checking train acc\n"
          ]
        },
        {
          "output_type": "stream",
          "name": "stderr",
          "text": [
            "100%|██████████| 203/203 [00:10<00:00, 19.29it/s]\n"
          ]
        },
        {
          "output_type": "stream",
          "name": "stdout",
          "text": [
            "checking val acc\n"
          ]
        },
        {
          "output_type": "stream",
          "name": "stderr",
          "text": [
            "100%|██████████| 18/18 [00:00<00:00, 19.04it/s]\n"
          ]
        },
        {
          "output_type": "stream",
          "name": "stdout",
          "text": [
            "Epoch 14: Train acc: 0.9831955497179943 |Validation acc: 0.97265625\n",
            "epoch:  15\n"
          ]
        },
        {
          "output_type": "stream",
          "name": "stderr",
          "text": [
            "100%|██████████| 203/203 [00:12<00:00, 16.83it/s]\n"
          ]
        },
        {
          "output_type": "stream",
          "name": "stdout",
          "text": [
            "epoch:  15  completed, checking train acc\n"
          ]
        },
        {
          "output_type": "stream",
          "name": "stderr",
          "text": [
            "100%|██████████| 203/203 [00:10<00:00, 19.11it/s]\n"
          ]
        },
        {
          "output_type": "stream",
          "name": "stdout",
          "text": [
            "checking val acc\n"
          ]
        },
        {
          "output_type": "stream",
          "name": "stderr",
          "text": [
            "100%|██████████| 18/18 [00:00<00:00, 18.65it/s]\n"
          ]
        },
        {
          "output_type": "stream",
          "name": "stdout",
          "text": [
            "Epoch 15: Train acc: 0.9878312601406165 |Validation acc: 0.9791666666666666\n",
            "epoch:  16\n"
          ]
        },
        {
          "output_type": "stream",
          "name": "stderr",
          "text": [
            "100%|██████████| 203/203 [00:12<00:00, 16.44it/s]\n"
          ]
        },
        {
          "output_type": "stream",
          "name": "stdout",
          "text": [
            "epoch:  16  completed, checking train acc\n"
          ]
        },
        {
          "output_type": "stream",
          "name": "stderr",
          "text": [
            "100%|██████████| 203/203 [00:10<00:00, 19.03it/s]\n"
          ]
        },
        {
          "output_type": "stream",
          "name": "stdout",
          "text": [
            "checking val acc\n"
          ]
        },
        {
          "output_type": "stream",
          "name": "stderr",
          "text": [
            "100%|██████████| 18/18 [00:00<00:00, 18.75it/s]\n"
          ]
        },
        {
          "output_type": "stream",
          "name": "stdout",
          "text": [
            "Epoch 16: Train acc: 0.9812640037085684 |Validation acc: 0.9704861111111112\n",
            "epoch:  17\n"
          ]
        },
        {
          "output_type": "stream",
          "name": "stderr",
          "text": [
            "100%|██████████| 203/203 [00:12<00:00, 16.71it/s]\n"
          ]
        },
        {
          "output_type": "stream",
          "name": "stdout",
          "text": [
            "epoch:  17  completed, checking train acc\n"
          ]
        },
        {
          "output_type": "stream",
          "name": "stderr",
          "text": [
            "100%|██████████| 203/203 [00:11<00:00, 18.27it/s]\n"
          ]
        },
        {
          "output_type": "stream",
          "name": "stdout",
          "text": [
            "checking val acc\n"
          ]
        },
        {
          "output_type": "stream",
          "name": "stderr",
          "text": [
            "100%|██████████| 18/18 [00:00<00:00, 19.46it/s]\n"
          ]
        },
        {
          "output_type": "stream",
          "name": "stdout",
          "text": [
            "Epoch 17: Train acc: 0.9913466738777718 |Validation acc: 0.98046875\n",
            "epoch:  18\n"
          ]
        },
        {
          "output_type": "stream",
          "name": "stderr",
          "text": [
            "100%|██████████| 203/203 [00:12<00:00, 16.73it/s]\n"
          ]
        },
        {
          "output_type": "stream",
          "name": "stdout",
          "text": [
            "epoch:  18  completed, checking train acc\n"
          ]
        },
        {
          "output_type": "stream",
          "name": "stderr",
          "text": [
            "100%|██████████| 203/203 [00:10<00:00, 18.78it/s]\n"
          ]
        },
        {
          "output_type": "stream",
          "name": "stdout",
          "text": [
            "checking val acc\n"
          ]
        },
        {
          "output_type": "stream",
          "name": "stderr",
          "text": [
            "100%|██████████| 18/18 [00:00<00:00, 18.70it/s]\n"
          ]
        },
        {
          "output_type": "stream",
          "name": "stdout",
          "text": [
            "Epoch 18: Train acc: 0.9913853047979603 |Validation acc: 0.9796006944444444\n",
            "epoch:  19\n"
          ]
        },
        {
          "output_type": "stream",
          "name": "stderr",
          "text": [
            "100%|██████████| 203/203 [00:12<00:00, 16.56it/s]\n"
          ]
        },
        {
          "output_type": "stream",
          "name": "stdout",
          "text": [
            "epoch:  19  completed, checking train acc\n"
          ]
        },
        {
          "output_type": "stream",
          "name": "stderr",
          "text": [
            "100%|██████████| 203/203 [00:10<00:00, 19.35it/s]\n"
          ]
        },
        {
          "output_type": "stream",
          "name": "stdout",
          "text": [
            "checking val acc\n"
          ]
        },
        {
          "output_type": "stream",
          "name": "stderr",
          "text": [
            "100%|██████████| 18/18 [00:00<00:00, 19.05it/s]\n"
          ]
        },
        {
          "output_type": "stream",
          "name": "stdout",
          "text": [
            "Epoch 19: Train acc: 0.991732983079657 |Validation acc: 0.9778645833333334\n",
            "epoch:  20\n"
          ]
        },
        {
          "output_type": "stream",
          "name": "stderr",
          "text": [
            "100%|██████████| 203/203 [00:12<00:00, 16.69it/s]\n"
          ]
        },
        {
          "output_type": "stream",
          "name": "stdout",
          "text": [
            "epoch:  20  completed, checking train acc\n"
          ]
        },
        {
          "output_type": "stream",
          "name": "stderr",
          "text": [
            "100%|██████████| 203/203 [00:11<00:00, 18.15it/s]\n"
          ]
        },
        {
          "output_type": "stream",
          "name": "stdout",
          "text": [
            "checking val acc\n"
          ]
        },
        {
          "output_type": "stream",
          "name": "stderr",
          "text": [
            "100%|██████████| 18/18 [00:00<00:00, 19.20it/s]\n"
          ]
        },
        {
          "output_type": "stream",
          "name": "stdout",
          "text": [
            "Epoch 20: Train acc: 0.9924283396430503 |Validation acc: 0.98046875\n",
            "epoch:  21\n"
          ]
        },
        {
          "output_type": "stream",
          "name": "stderr",
          "text": [
            "100%|██████████| 203/203 [00:12<00:00, 16.60it/s]\n"
          ]
        },
        {
          "output_type": "stream",
          "name": "stdout",
          "text": [
            "epoch:  21  completed, checking train acc\n"
          ]
        },
        {
          "output_type": "stream",
          "name": "stderr",
          "text": [
            "100%|██████████| 203/203 [00:10<00:00, 19.20it/s]\n"
          ]
        },
        {
          "output_type": "stream",
          "name": "stdout",
          "text": [
            "checking val acc\n"
          ]
        },
        {
          "output_type": "stream",
          "name": "stderr",
          "text": [
            "100%|██████████| 18/18 [00:00<00:00, 19.22it/s]\n"
          ]
        },
        {
          "output_type": "stream",
          "name": "stdout",
          "text": [
            "Epoch 21: Train acc: 0.9945530402534188 |Validation acc: 0.984375\n",
            "epoch:  22\n"
          ]
        },
        {
          "output_type": "stream",
          "name": "stderr",
          "text": [
            "100%|██████████| 203/203 [00:12<00:00, 16.84it/s]\n"
          ]
        },
        {
          "output_type": "stream",
          "name": "stdout",
          "text": [
            "epoch:  22  completed, checking train acc\n"
          ]
        },
        {
          "output_type": "stream",
          "name": "stderr",
          "text": [
            "100%|██████████| 203/203 [00:10<00:00, 19.50it/s]\n"
          ]
        },
        {
          "output_type": "stream",
          "name": "stdout",
          "text": [
            "checking val acc\n"
          ]
        },
        {
          "output_type": "stream",
          "name": "stderr",
          "text": [
            "100%|██████████| 18/18 [00:00<00:00, 18.38it/s]\n"
          ]
        },
        {
          "output_type": "stream",
          "name": "stdout",
          "text": [
            "Epoch 22: Train acc: 0.9931623271266321 |Validation acc: 0.9796006944444444\n",
            "epoch:  23\n"
          ]
        },
        {
          "output_type": "stream",
          "name": "stderr",
          "text": [
            "100%|██████████| 203/203 [00:12<00:00, 16.75it/s]\n"
          ]
        },
        {
          "output_type": "stream",
          "name": "stdout",
          "text": [
            "epoch:  23  completed, checking train acc\n"
          ]
        },
        {
          "output_type": "stream",
          "name": "stderr",
          "text": [
            "100%|██████████| 203/203 [00:10<00:00, 19.26it/s]\n"
          ]
        },
        {
          "output_type": "stream",
          "name": "stdout",
          "text": [
            "checking val acc\n"
          ]
        },
        {
          "output_type": "stream",
          "name": "stderr",
          "text": [
            "100%|██████████| 18/18 [00:00<00:00, 19.65it/s]\n"
          ]
        },
        {
          "output_type": "stream",
          "name": "stdout",
          "text": [
            "Epoch 23: Train acc: 0.9952097658966237 |Validation acc: 0.984375\n",
            "epoch:  24\n"
          ]
        },
        {
          "output_type": "stream",
          "name": "stderr",
          "text": [
            "100%|██████████| 203/203 [00:12<00:00, 16.04it/s]\n"
          ]
        },
        {
          "output_type": "stream",
          "name": "stdout",
          "text": [
            "epoch:  24  completed, checking train acc\n"
          ]
        },
        {
          "output_type": "stream",
          "name": "stderr",
          "text": [
            "100%|██████████| 203/203 [00:10<00:00, 19.31it/s]\n"
          ]
        },
        {
          "output_type": "stream",
          "name": "stdout",
          "text": [
            "checking val acc\n"
          ]
        },
        {
          "output_type": "stream",
          "name": "stderr",
          "text": [
            "100%|██████████| 18/18 [00:00<00:00, 19.33it/s]\n"
          ]
        },
        {
          "output_type": "stream",
          "name": "stdout",
          "text": [
            "Epoch 24: Train acc: 0.995750598779263 |Validation acc: 0.9822048611111112\n",
            "epoch:  25\n"
          ]
        },
        {
          "output_type": "stream",
          "name": "stderr",
          "text": [
            "100%|██████████| 203/203 [00:12<00:00, 16.87it/s]\n"
          ]
        },
        {
          "output_type": "stream",
          "name": "stdout",
          "text": [
            "epoch:  25  completed, checking train acc\n"
          ]
        },
        {
          "output_type": "stream",
          "name": "stderr",
          "text": [
            "100%|██████████| 203/203 [00:10<00:00, 19.29it/s]\n"
          ]
        },
        {
          "output_type": "stream",
          "name": "stdout",
          "text": [
            "checking val acc\n"
          ]
        },
        {
          "output_type": "stream",
          "name": "stderr",
          "text": [
            "100%|██████████| 18/18 [00:00<00:00, 19.16it/s]\n"
          ]
        },
        {
          "output_type": "stream",
          "name": "stdout",
          "text": [
            "Epoch 25: Train acc: 0.9943598856524762 |Validation acc: 0.9852430555555556\n",
            "epoch:  26\n"
          ]
        },
        {
          "output_type": "stream",
          "name": "stderr",
          "text": [
            "100%|██████████| 203/203 [00:12<00:00, 16.88it/s]\n"
          ]
        },
        {
          "output_type": "stream",
          "name": "stdout",
          "text": [
            "epoch:  26  completed, checking train acc\n"
          ]
        },
        {
          "output_type": "stream",
          "name": "stderr",
          "text": [
            "100%|██████████| 203/203 [00:10<00:00, 19.35it/s]\n"
          ]
        },
        {
          "output_type": "stream",
          "name": "stdout",
          "text": [
            "checking val acc\n"
          ]
        },
        {
          "output_type": "stream",
          "name": "stderr",
          "text": [
            "100%|██████████| 18/18 [00:00<00:00, 19.14it/s]\n"
          ]
        },
        {
          "output_type": "stream",
          "name": "stdout",
          "text": [
            "Epoch 26: Train acc: 0.995905122460017 |Validation acc: 0.9839409722222222\n",
            "epoch:  27\n"
          ]
        },
        {
          "output_type": "stream",
          "name": "stderr",
          "text": [
            "100%|██████████| 203/203 [00:12<00:00, 16.11it/s]\n"
          ]
        },
        {
          "output_type": "stream",
          "name": "stdout",
          "text": [
            "epoch:  27  completed, checking train acc\n"
          ]
        },
        {
          "output_type": "stream",
          "name": "stderr",
          "text": [
            "100%|██████████| 203/203 [00:10<00:00, 19.55it/s]\n"
          ]
        },
        {
          "output_type": "stream",
          "name": "stdout",
          "text": [
            "checking val acc\n"
          ]
        },
        {
          "output_type": "stream",
          "name": "stderr",
          "text": [
            "100%|██████████| 18/18 [00:00<00:00, 18.92it/s]\n"
          ]
        },
        {
          "output_type": "stream",
          "name": "stdout",
          "text": [
            "Epoch 27: Train acc: 0.9957892296994515 |Validation acc: 0.984375\n",
            "epoch:  28\n"
          ]
        },
        {
          "output_type": "stream",
          "name": "stderr",
          "text": [
            "100%|██████████| 203/203 [00:12<00:00, 16.91it/s]\n"
          ]
        },
        {
          "output_type": "stream",
          "name": "stdout",
          "text": [
            "epoch:  28  completed, checking train acc\n"
          ]
        },
        {
          "output_type": "stream",
          "name": "stderr",
          "text": [
            "100%|██████████| 203/203 [00:10<00:00, 19.05it/s]\n"
          ]
        },
        {
          "output_type": "stream",
          "name": "stdout",
          "text": [
            "checking val acc\n"
          ]
        },
        {
          "output_type": "stream",
          "name": "stderr",
          "text": [
            "100%|██████████| 18/18 [00:00<00:00, 19.46it/s]\n"
          ]
        },
        {
          "output_type": "stream",
          "name": "stdout",
          "text": [
            "Epoch 28: Train acc: 0.9954029204975663 |Validation acc: 0.9852430555555556\n",
            "epoch:  29\n"
          ]
        },
        {
          "output_type": "stream",
          "name": "stderr",
          "text": [
            "100%|██████████| 203/203 [00:12<00:00, 16.32it/s]\n"
          ]
        },
        {
          "output_type": "stream",
          "name": "stdout",
          "text": [
            "epoch:  29  completed, checking train acc\n"
          ]
        },
        {
          "output_type": "stream",
          "name": "stderr",
          "text": [
            "100%|██████████| 203/203 [00:10<00:00, 19.54it/s]\n"
          ]
        },
        {
          "output_type": "stream",
          "name": "stdout",
          "text": [
            "checking val acc\n"
          ]
        },
        {
          "output_type": "stream",
          "name": "stderr",
          "text": [
            "100%|██████████| 18/18 [00:00<00:00, 19.29it/s]\n"
          ]
        },
        {
          "output_type": "stream",
          "name": "stdout",
          "text": [
            "Epoch 29: Train acc: 0.9936645290890829 |Validation acc: 0.9835069444444444\n",
            "epoch:  30\n"
          ]
        },
        {
          "output_type": "stream",
          "name": "stderr",
          "text": [
            "100%|██████████| 203/203 [00:12<00:00, 16.73it/s]\n"
          ]
        },
        {
          "output_type": "stream",
          "name": "stdout",
          "text": [
            "epoch:  30  completed, checking train acc\n"
          ]
        },
        {
          "output_type": "stream",
          "name": "stderr",
          "text": [
            "100%|██████████| 203/203 [00:10<00:00, 19.40it/s]\n"
          ]
        },
        {
          "output_type": "stream",
          "name": "stdout",
          "text": [
            "checking val acc\n"
          ]
        },
        {
          "output_type": "stream",
          "name": "stderr",
          "text": [
            "100%|██████████| 18/18 [00:00<00:00, 19.52it/s]\n"
          ]
        },
        {
          "output_type": "stream",
          "name": "stdout",
          "text": [
            "Epoch 30: Train acc: 0.9967936336243529 |Validation acc: 0.9865451388888888\n",
            "epoch:  31\n"
          ]
        },
        {
          "output_type": "stream",
          "name": "stderr",
          "text": [
            "100%|██████████| 203/203 [00:12<00:00, 16.66it/s]\n"
          ]
        },
        {
          "output_type": "stream",
          "name": "stdout",
          "text": [
            "epoch:  31  completed, checking train acc\n"
          ]
        },
        {
          "output_type": "stream",
          "name": "stderr",
          "text": [
            "100%|██████████| 203/203 [00:10<00:00, 19.52it/s]\n"
          ]
        },
        {
          "output_type": "stream",
          "name": "stdout",
          "text": [
            "checking val acc\n"
          ]
        },
        {
          "output_type": "stream",
          "name": "stderr",
          "text": [
            "100%|██████████| 18/18 [00:00<00:00, 19.85it/s]\n"
          ]
        },
        {
          "output_type": "stream",
          "name": "stdout",
          "text": [
            "Epoch 31: Train acc: 0.9945144093332303 |Validation acc: 0.9800347222222222\n",
            "epoch:  32\n"
          ]
        },
        {
          "output_type": "stream",
          "name": "stderr",
          "text": [
            "100%|██████████| 203/203 [00:12<00:00, 16.86it/s]\n"
          ]
        },
        {
          "output_type": "stream",
          "name": "stdout",
          "text": [
            "epoch:  32  completed, checking train acc\n"
          ]
        },
        {
          "output_type": "stream",
          "name": "stderr",
          "text": [
            "100%|██████████| 203/203 [00:10<00:00, 19.27it/s]\n"
          ]
        },
        {
          "output_type": "stream",
          "name": "stdout",
          "text": [
            "checking val acc\n"
          ]
        },
        {
          "output_type": "stream",
          "name": "stderr",
          "text": [
            "100%|██████████| 18/18 [00:00<00:00, 19.07it/s]\n"
          ]
        },
        {
          "output_type": "stream",
          "name": "stdout",
          "text": [
            "Epoch 32: Train acc: 0.9961755389013366 |Validation acc: 0.984375\n",
            "epoch:  33\n"
          ]
        },
        {
          "output_type": "stream",
          "name": "stderr",
          "text": [
            "100%|██████████| 203/203 [00:12<00:00, 16.87it/s]\n"
          ]
        },
        {
          "output_type": "stream",
          "name": "stdout",
          "text": [
            "epoch:  33  completed, checking train acc\n"
          ]
        },
        {
          "output_type": "stream",
          "name": "stderr",
          "text": [
            "100%|██████████| 203/203 [00:10<00:00, 19.61it/s]\n"
          ]
        },
        {
          "output_type": "stream",
          "name": "stdout",
          "text": [
            "checking val acc\n"
          ]
        },
        {
          "output_type": "stream",
          "name": "stderr",
          "text": [
            "100%|██████████| 18/18 [00:00<00:00, 19.56it/s]\n"
          ]
        },
        {
          "output_type": "stream",
          "name": "stdout",
          "text": [
            "Epoch 33: Train acc: 0.9905740554740013 |Validation acc: 0.9787326388888888\n",
            "epoch:  34\n"
          ]
        },
        {
          "output_type": "stream",
          "name": "stderr",
          "text": [
            "100%|██████████| 203/203 [00:11<00:00, 16.93it/s]\n"
          ]
        },
        {
          "output_type": "stream",
          "name": "stdout",
          "text": [
            "epoch:  34  completed, checking train acc\n"
          ]
        },
        {
          "output_type": "stream",
          "name": "stderr",
          "text": [
            "100%|██████████| 203/203 [00:10<00:00, 19.50it/s]\n"
          ]
        },
        {
          "output_type": "stream",
          "name": "stdout",
          "text": [
            "checking val acc\n"
          ]
        },
        {
          "output_type": "stream",
          "name": "stderr",
          "text": [
            "100%|██████████| 18/18 [00:00<00:00, 19.52it/s]\n"
          ]
        },
        {
          "output_type": "stream",
          "name": "stdout",
          "text": [
            "Epoch 34: Train acc: 0.995982384300394 |Validation acc: 0.9830729166666666\n",
            "epoch:  35\n"
          ]
        },
        {
          "output_type": "stream",
          "name": "stderr",
          "text": [
            "100%|██████████| 203/203 [00:11<00:00, 16.98it/s]\n"
          ]
        },
        {
          "output_type": "stream",
          "name": "stdout",
          "text": [
            "epoch:  35  completed, checking train acc\n"
          ]
        },
        {
          "output_type": "stream",
          "name": "stderr",
          "text": [
            "100%|██████████| 203/203 [00:10<00:00, 19.27it/s]\n"
          ]
        },
        {
          "output_type": "stream",
          "name": "stdout",
          "text": [
            "checking val acc\n"
          ]
        },
        {
          "output_type": "stream",
          "name": "stderr",
          "text": [
            "100%|██████████| 18/18 [00:00<00:00, 19.58it/s]\n"
          ]
        },
        {
          "output_type": "stream",
          "name": "stdout",
          "text": [
            "Epoch 35: Train acc: 0.9971413119060496 |Validation acc: 0.9856770833333334\n",
            "epoch:  36\n"
          ]
        },
        {
          "output_type": "stream",
          "name": "stderr",
          "text": [
            "100%|██████████| 203/203 [00:11<00:00, 17.08it/s]\n"
          ]
        },
        {
          "output_type": "stream",
          "name": "stdout",
          "text": [
            "epoch:  36  completed, checking train acc\n"
          ]
        },
        {
          "output_type": "stream",
          "name": "stderr",
          "text": [
            "100%|██████████| 203/203 [00:10<00:00, 19.74it/s]\n"
          ]
        },
        {
          "output_type": "stream",
          "name": "stdout",
          "text": [
            "checking val acc\n"
          ]
        },
        {
          "output_type": "stream",
          "name": "stderr",
          "text": [
            "100%|██████████| 18/18 [00:00<00:00, 19.02it/s]\n"
          ]
        },
        {
          "output_type": "stream",
          "name": "stdout",
          "text": [
            "Epoch 36: Train acc: 0.9980684539905741 |Validation acc: 0.9865451388888888\n",
            "epoch:  37\n"
          ]
        },
        {
          "output_type": "stream",
          "name": "stderr",
          "text": [
            "100%|██████████| 203/203 [00:11<00:00, 16.92it/s]\n"
          ]
        },
        {
          "output_type": "stream",
          "name": "stdout",
          "text": [
            "epoch:  37  completed, checking train acc\n"
          ]
        },
        {
          "output_type": "stream",
          "name": "stderr",
          "text": [
            "100%|██████████| 203/203 [00:10<00:00, 19.58it/s]\n"
          ]
        },
        {
          "output_type": "stream",
          "name": "stdout",
          "text": [
            "checking val acc\n"
          ]
        },
        {
          "output_type": "stream",
          "name": "stderr",
          "text": [
            "100%|██████████| 18/18 [00:01<00:00, 17.43it/s]\n"
          ]
        },
        {
          "output_type": "stream",
          "name": "stdout",
          "text": [
            "Epoch 37: Train acc: 0.9988024414741559 |Validation acc: 0.98828125\n",
            "epoch:  38\n"
          ]
        },
        {
          "output_type": "stream",
          "name": "stderr",
          "text": [
            "100%|██████████| 203/203 [00:12<00:00, 16.78it/s]\n"
          ]
        },
        {
          "output_type": "stream",
          "name": "stdout",
          "text": [
            "epoch:  38  completed, checking train acc\n"
          ]
        },
        {
          "output_type": "stream",
          "name": "stderr",
          "text": [
            "100%|██████████| 203/203 [00:10<00:00, 19.36it/s]\n"
          ]
        },
        {
          "output_type": "stream",
          "name": "stdout",
          "text": [
            "checking val acc\n"
          ]
        },
        {
          "output_type": "stream",
          "name": "stderr",
          "text": [
            "100%|██████████| 18/18 [00:01<00:00, 17.58it/s]\n"
          ]
        },
        {
          "output_type": "stream",
          "name": "stdout",
          "text": [
            "Epoch 38: Train acc: 0.9985706559530249 |Validation acc: 0.9852430555555556\n",
            "epoch:  39\n"
          ]
        },
        {
          "output_type": "stream",
          "name": "stderr",
          "text": [
            "100%|██████████| 203/203 [00:11<00:00, 17.03it/s]\n"
          ]
        },
        {
          "output_type": "stream",
          "name": "stdout",
          "text": [
            "epoch:  39  completed, checking train acc\n"
          ]
        },
        {
          "output_type": "stream",
          "name": "stderr",
          "text": [
            "100%|██████████| 203/203 [00:10<00:00, 19.17it/s]\n"
          ]
        },
        {
          "output_type": "stream",
          "name": "stdout",
          "text": [
            "checking val acc\n"
          ]
        },
        {
          "output_type": "stream",
          "name": "stderr",
          "text": [
            "100%|██████████| 18/18 [00:00<00:00, 19.73it/s]\n"
          ]
        },
        {
          "output_type": "stream",
          "name": "stdout",
          "text": [
            "Epoch 39: Train acc: 0.9982229776713282 |Validation acc: 0.9869791666666666\n",
            "epoch:  40\n"
          ]
        },
        {
          "output_type": "stream",
          "name": "stderr",
          "text": [
            "100%|██████████| 203/203 [00:12<00:00, 16.77it/s]\n"
          ]
        },
        {
          "output_type": "stream",
          "name": "stdout",
          "text": [
            "epoch:  40  completed, checking train acc\n"
          ]
        },
        {
          "output_type": "stream",
          "name": "stderr",
          "text": [
            "100%|██████████| 203/203 [00:10<00:00, 19.16it/s]\n"
          ]
        },
        {
          "output_type": "stream",
          "name": "stdout",
          "text": [
            "checking val acc\n"
          ]
        },
        {
          "output_type": "stream",
          "name": "stderr",
          "text": [
            "100%|██████████| 18/18 [00:00<00:00, 18.97it/s]\n"
          ]
        },
        {
          "output_type": "stream",
          "name": "stdout",
          "text": [
            "Epoch 40: Train acc: 0.9983388704318937 |Validation acc: 0.9848090277777778\n",
            "epoch:  41\n"
          ]
        },
        {
          "output_type": "stream",
          "name": "stderr",
          "text": [
            "100%|██████████| 203/203 [00:12<00:00, 16.76it/s]\n"
          ]
        },
        {
          "output_type": "stream",
          "name": "stdout",
          "text": [
            "epoch:  41  completed, checking train acc\n"
          ]
        },
        {
          "output_type": "stream",
          "name": "stderr",
          "text": [
            "100%|██████████| 203/203 [00:10<00:00, 19.22it/s]\n"
          ]
        },
        {
          "output_type": "stream",
          "name": "stdout",
          "text": [
            "checking val acc\n"
          ]
        },
        {
          "output_type": "stream",
          "name": "stderr",
          "text": [
            "100%|██████████| 18/18 [00:00<00:00, 19.41it/s]\n"
          ]
        },
        {
          "output_type": "stream",
          "name": "stdout",
          "text": [
            "Epoch 41: Train acc: 0.9963686935022792 |Validation acc: 0.984375\n",
            "epoch:  42\n"
          ]
        },
        {
          "output_type": "stream",
          "name": "stderr",
          "text": [
            "100%|██████████| 203/203 [00:12<00:00, 16.80it/s]\n"
          ]
        },
        {
          "output_type": "stream",
          "name": "stdout",
          "text": [
            "epoch:  42  completed, checking train acc\n"
          ]
        },
        {
          "output_type": "stream",
          "name": "stderr",
          "text": [
            "100%|██████████| 203/203 [00:10<00:00, 18.89it/s]\n"
          ]
        },
        {
          "output_type": "stream",
          "name": "stdout",
          "text": [
            "checking val acc\n"
          ]
        },
        {
          "output_type": "stream",
          "name": "stderr",
          "text": [
            "100%|██████████| 18/18 [00:00<00:00, 19.20it/s]\n"
          ]
        },
        {
          "output_type": "stream",
          "name": "stdout",
          "text": [
            "Epoch 42: Train acc: 0.9989955960750985 |Validation acc: 0.9878472222222222\n",
            "epoch:  43\n"
          ]
        },
        {
          "output_type": "stream",
          "name": "stderr",
          "text": [
            "100%|██████████| 203/203 [00:11<00:00, 16.99it/s]\n"
          ]
        },
        {
          "output_type": "stream",
          "name": "stdout",
          "text": [
            "epoch:  43  completed, checking train acc\n"
          ]
        },
        {
          "output_type": "stream",
          "name": "stderr",
          "text": [
            "100%|██████████| 203/203 [00:10<00:00, 19.13it/s]\n"
          ]
        },
        {
          "output_type": "stream",
          "name": "stdout",
          "text": [
            "checking val acc\n"
          ]
        },
        {
          "output_type": "stream",
          "name": "stderr",
          "text": [
            "100%|██████████| 18/18 [00:00<00:00, 19.20it/s]\n"
          ]
        },
        {
          "output_type": "stream",
          "name": "stdout",
          "text": [
            "Epoch 43: Train acc: 0.9988797033145329 |Validation acc: 0.9856770833333334\n",
            "epoch:  44\n"
          ]
        },
        {
          "output_type": "stream",
          "name": "stderr",
          "text": [
            "100%|██████████| 203/203 [00:12<00:00, 16.85it/s]\n"
          ]
        },
        {
          "output_type": "stream",
          "name": "stdout",
          "text": [
            "epoch:  44  completed, checking train acc\n"
          ]
        },
        {
          "output_type": "stream",
          "name": "stderr",
          "text": [
            "100%|██████████| 203/203 [00:10<00:00, 19.23it/s]\n"
          ]
        },
        {
          "output_type": "stream",
          "name": "stdout",
          "text": [
            "checking val acc\n"
          ]
        },
        {
          "output_type": "stream",
          "name": "stderr",
          "text": [
            "100%|██████████| 18/18 [00:00<00:00, 19.52it/s]\n"
          ]
        },
        {
          "output_type": "stream",
          "name": "stdout",
          "text": [
            "Epoch 44: Train acc: 0.9987638105539673 |Validation acc: 0.9861111111111112\n",
            "epoch:  45\n"
          ]
        },
        {
          "output_type": "stream",
          "name": "stderr",
          "text": [
            "100%|██████████| 203/203 [00:11<00:00, 17.00it/s]\n"
          ]
        },
        {
          "output_type": "stream",
          "name": "stdout",
          "text": [
            "epoch:  45  completed, checking train acc\n"
          ]
        },
        {
          "output_type": "stream",
          "name": "stderr",
          "text": [
            "100%|██████████| 203/203 [00:10<00:00, 19.20it/s]\n"
          ]
        },
        {
          "output_type": "stream",
          "name": "stdout",
          "text": [
            "checking val acc\n"
          ]
        },
        {
          "output_type": "stream",
          "name": "stderr",
          "text": [
            "100%|██████████| 18/18 [00:00<00:00, 18.08it/s]\n"
          ]
        },
        {
          "output_type": "stream",
          "name": "stdout",
          "text": [
            "Epoch 45: Train acc: 0.9987638105539673 |Validation acc: 0.9856770833333334\n",
            "epoch:  46\n"
          ]
        },
        {
          "output_type": "stream",
          "name": "stderr",
          "text": [
            "100%|██████████| 203/203 [00:12<00:00, 16.74it/s]\n"
          ]
        },
        {
          "output_type": "stream",
          "name": "stdout",
          "text": [
            "epoch:  46  completed, checking train acc\n"
          ]
        },
        {
          "output_type": "stream",
          "name": "stderr",
          "text": [
            "100%|██████████| 203/203 [00:10<00:00, 19.06it/s]\n"
          ]
        },
        {
          "output_type": "stream",
          "name": "stdout",
          "text": [
            "checking val acc\n"
          ]
        },
        {
          "output_type": "stream",
          "name": "stderr",
          "text": [
            "100%|██████████| 18/18 [00:01<00:00, 17.86it/s]\n"
          ]
        },
        {
          "output_type": "stream",
          "name": "stdout",
          "text": [
            "Epoch 46: Train acc: 0.9928146488449355 |Validation acc: 0.9822048611111112\n",
            "epoch:  47\n"
          ]
        },
        {
          "output_type": "stream",
          "name": "stderr",
          "text": [
            "100%|██████████| 203/203 [00:12<00:00, 16.65it/s]\n"
          ]
        },
        {
          "output_type": "stream",
          "name": "stdout",
          "text": [
            "epoch:  47  completed, checking train acc\n"
          ]
        },
        {
          "output_type": "stream",
          "name": "stderr",
          "text": [
            "100%|██████████| 203/203 [00:10<00:00, 19.48it/s]\n"
          ]
        },
        {
          "output_type": "stream",
          "name": "stdout",
          "text": [
            "checking val acc\n"
          ]
        },
        {
          "output_type": "stream",
          "name": "stderr",
          "text": [
            "100%|██████████| 18/18 [00:00<00:00, 19.61it/s]\n"
          ]
        },
        {
          "output_type": "stream",
          "name": "stdout",
          "text": [
            "Epoch 47: Train acc: 0.9990728579154755 |Validation acc: 0.9856770833333334\n",
            "epoch:  48\n"
          ]
        },
        {
          "output_type": "stream",
          "name": "stderr",
          "text": [
            "100%|██████████| 203/203 [00:12<00:00, 16.61it/s]\n"
          ]
        },
        {
          "output_type": "stream",
          "name": "stdout",
          "text": [
            "epoch:  48  completed, checking train acc\n"
          ]
        },
        {
          "output_type": "stream",
          "name": "stderr",
          "text": [
            "100%|██████████| 203/203 [00:10<00:00, 19.23it/s]\n"
          ]
        },
        {
          "output_type": "stream",
          "name": "stdout",
          "text": [
            "checking val acc\n"
          ]
        },
        {
          "output_type": "stream",
          "name": "stderr",
          "text": [
            "100%|██████████| 18/18 [00:00<00:00, 19.34it/s]\n"
          ]
        },
        {
          "output_type": "stream",
          "name": "stdout",
          "text": [
            "Epoch 48: Train acc: 0.9986092868732134 |Validation acc: 0.9852430555555556\n",
            "epoch:  49\n"
          ]
        },
        {
          "output_type": "stream",
          "name": "stderr",
          "text": [
            "100%|██████████| 203/203 [00:12<00:00, 16.83it/s]\n"
          ]
        },
        {
          "output_type": "stream",
          "name": "stdout",
          "text": [
            "epoch:  49  completed, checking train acc\n"
          ]
        },
        {
          "output_type": "stream",
          "name": "stderr",
          "text": [
            "100%|██████████| 203/203 [00:10<00:00, 19.62it/s]\n"
          ]
        },
        {
          "output_type": "stream",
          "name": "stdout",
          "text": [
            "checking val acc\n"
          ]
        },
        {
          "output_type": "stream",
          "name": "stderr",
          "text": [
            "100%|██████████| 18/18 [00:00<00:00, 18.81it/s]\n"
          ]
        },
        {
          "output_type": "stream",
          "name": "stdout",
          "text": [
            "Epoch 49: Train acc: 0.9990728579154755 |Validation acc: 0.9869791666666666\n",
            "\n",
            "DONE TRAINING in 1188.0975811481476 seconds!\n",
            "\n"
          ]
        },
        {
          "output_type": "display_data",
          "data": {
            "image/png": "[encoded data removed]",
            "text/plain": [
              "<Figure size 432x288 with 1 Axes>"
            ]
          },
          "metadata": {
            "needs_background": "light"
          }
        },
        {
          "output_type": "display_data",
          "data": {
            "image/png": "[encoded data removed]",
            "text/plain": [
              "<Figure size 432x288 with 1 Axes>"
            ]
          },
          "metadata": {
            "needs_background": "light"
          }
        },
        {
          "output_type": "stream",
          "name": "stdout",
          "text": [
            "Final Training Accuracy: 0.9990728579154755\n",
            "Final Validation Accuracy: 0.9869791666666666\n"
          ]
        }
      ]
    }
  ]
}
