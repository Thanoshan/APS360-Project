{
  "nbformat": 4,
  "nbformat_minor": 0,
  "metadata": {
    "colab": {
      "name": "007-Smaller_Network_nonTF.ipynb",
      "provenance": []
    },
    "kernelspec": {
      "name": "python3",
      "display_name": "Python 3"
    },
    "language_info": {
      "name": "python"
    },
    "accelerator": "GPU"
  },
  "cells": [
    {
      "cell_type": "markdown",
      "source": [
        "#Required modules"
      ],
      "metadata": {
        "id": "cDy4n63IPJ_9"
      }
    },
    {
      "cell_type": "code",
      "execution_count": 1,
      "metadata": {
        "id": "n4pGtTBMPDAv"
      },
      "outputs": [],
      "source": [
        "# Needed modules\n",
        "import numpy as np\n",
        "import matplotlib.pyplot as plt\n",
        "import time\n",
        "import torch\n",
        "import torch.nn as nn\n",
        "import torch.nn.functional as F\n",
        "import torch.optim as optim\n",
        "import torchvision\n",
        "from torch.utils.data.sampler import SubsetRandomSampler\n",
        "import torchvision.transforms as transforms\n",
        "from PIL import *\n",
        "from tqdm import tqdm\n",
        "\n",
        "\n",
        "use_cuda = True"
      ]
    },
    {
      "cell_type": "code",
      "source": [
        "!unzip serverside.zip\n",
        "#get from trevor "
      ],
      "metadata": {
        "id": "k9UgP8iLPWly",
        "colab": {
          "base_uri": "https://localhost:8080/"
        },
        "outputId": "8c32fae2-1fe5-42b5-ce56-ce252c11fb03"
      },
      "execution_count": 2,
      "outputs": [
        {
          "output_type": "stream",
          "name": "stdout",
          "text": [
            "Archive:  serverside.zip\n",
            "   creating: serverside/\n",
            "  inflating: serverside/.gitignore   \n",
            "  inflating: serverside/.travis.yml  \n",
            "  inflating: serverside/appveyor.yml  \n",
            "   creating: serverside/captcha/\n",
            "  inflating: serverside/captcha/audio.py  \n",
            "   creating: serverside/captcha/data/\n",
            "   creating: serverside/captcha/data/0/\n",
            "  inflating: serverside/captcha/data/0/default.wav  \n",
            "   creating: serverside/captcha/data/1/\n",
            "  inflating: serverside/captcha/data/1/default.wav  \n",
            "   creating: serverside/captcha/data/2/\n",
            "  inflating: serverside/captcha/data/2/default.wav  \n",
            "   creating: serverside/captcha/data/3/\n",
            "  inflating: serverside/captcha/data/3/default.wav  \n",
            "   creating: serverside/captcha/data/4/\n",
            "  inflating: serverside/captcha/data/4/default.wav  \n",
            "   creating: serverside/captcha/data/5/\n",
            "  inflating: serverside/captcha/data/5/default.wav  \n",
            "   creating: serverside/captcha/data/6/\n",
            "  inflating: serverside/captcha/data/6/default.wav  \n",
            "   creating: serverside/captcha/data/7/\n",
            "  inflating: serverside/captcha/data/7/default.wav  \n",
            "   creating: serverside/captcha/data/8/\n",
            "  inflating: serverside/captcha/data/8/default.wav  \n",
            "   creating: serverside/captcha/data/9/\n",
            "  inflating: serverside/captcha/data/9/default.wav  \n",
            "  inflating: serverside/captcha/data/beep.wav  \n",
            "  inflating: serverside/captcha/data/COMIC.TTF  \n",
            "  inflating: serverside/captcha/data/DroidSansMono.ttf  \n",
            "  inflating: serverside/captcha/data/PlayfairDisplay-Black.ttf  \n",
            "  inflating: serverside/captcha/data/Smokum-Regular.ttf  \n",
            "  inflating: serverside/captcha/image.py  \n",
            "  inflating: serverside/captcha/__init__.py  \n",
            "   creating: serverside/captcha/__pycache__/\n",
            "  inflating: serverside/captcha/__pycache__/image.cpython-39.pyc  \n",
            "  inflating: serverside/captcha/__pycache__/__init__.cpython-39.pyc  \n",
            "  inflating: serverside/CHANGES      \n",
            "  inflating: serverside/gen_char_images.py  \n",
            "  inflating: serverside/LICENSE      \n",
            "  inflating: serverside/MANIFEST.in  \n",
            "  inflating: serverside/README.rst   \n",
            "  inflating: serverside/setup.py     \n",
            "   creating: serverside/tests/\n",
            "  inflating: serverside/tests/test_audio.py  \n",
            "  inflating: serverside/tests/test_image.py  \n",
            " extracting: serverside/tests/__init__.py  \n",
            "  inflating: serverside/tox.ini      \n"
          ]
        }
      ]
    },
    {
      "cell_type": "code",
      "source": [
        "pip install pillow-lut"
      ],
      "metadata": {
        "id": "gTjRpKRtPbnD",
        "colab": {
          "base_uri": "https://localhost:8080/"
        },
        "outputId": "92757ad5-5056-46f8-c873-ce0c4055db22"
      },
      "execution_count": 3,
      "outputs": [
        {
          "output_type": "stream",
          "name": "stdout",
          "text": [
            "Collecting pillow-lut\n",
            "  Downloading pillow_lut-1.0.tar.gz (8.1 kB)\n",
            "Building wheels for collected packages: pillow-lut\n",
            "  Building wheel for pillow-lut (setup.py) ... \u001b[?25l\u001b[?25hdone\n",
            "  Created wheel for pillow-lut: filename=pillow_lut-1.0-py3-none-any.whl size=9600 sha256=c7e3236f40590b779831aff2a20eec72abb16744174b9ce011640bfe91e6cefb\n",
            "  Stored in directory: /root/.cache/pip/wheels/0b/6d/48/ced81964abea77cb058888839344e6fbe9936bfcd40d26c40b\n",
            "Successfully built pillow-lut\n",
            "Installing collected packages: pillow-lut\n",
            "Successfully installed pillow-lut-1.0\n"
          ]
        }
      ]
    },
    {
      "cell_type": "code",
      "source": [
        "from serverside.captcha.image import ImageCaptcha\n",
        "from tqdm import tqdm\n",
        "import os\n",
        "import string\n",
        "import random"
      ],
      "metadata": {
        "id": "Ry5mP-CiPhjO"
      },
      "execution_count": 4,
      "outputs": []
    },
    {
      "cell_type": "markdown",
      "source": [
        "# Dataset Generation\n"
      ],
      "metadata": {
        "id": "WBJNlQJXpkA8"
      }
    },
    {
      "cell_type": "code",
      "source": [
        "def get_random_string(length):\n",
        "    # choose from all lowercase letter\n",
        "    letters = \"abcdefghjkmnopqrstuvwxyz\" + \"ABCDEFGHIJKLMNOPQRSTUVWXYZ\" + \"123456789\" + \"     \"\n",
        "    result_str = ''.join(random.choice(letters) for i in range(length))\n",
        "    return result_str"
      ],
      "metadata": {
        "id": "l6KiYTcrpoqE"
      },
      "execution_count": 5,
      "outputs": []
    },
    {
      "cell_type": "code",
      "source": [
        "from torchvision.transforms.transforms import Grayscale\n",
        "# Load datasets\n",
        "# Label formated as 2D tensor of indexed as [place][tokenID]\n",
        "chars = \"abcdefghijklmnopqrstuvwxyz123456789 \" # use \" \" as null character. Leave out o and 0, also case insensitive\n",
        "charIndex = {}\n",
        "for i, char in enumerate(chars):\n",
        "    charIndex[char] = i\n",
        "\n",
        "idn = torch.eye(len(chars)).cuda()\n",
        "\n",
        "def strToOH(string):\n",
        "    oneHot = []\n",
        "    for char in string:\n",
        "      oneHot.append(idn[charIndex[char]])\n",
        "    return torch.stack(oneHot)\n",
        "\n",
        "def strToInd(string):\n",
        "    oneHot = []\n",
        "    for char in string:\n",
        "      oneHot.append(torch.tensor(charIndex[char]))\n",
        "    return torch.stack(oneHot)"
      ],
      "metadata": {
        "id": "xRn_E04wppR2"
      },
      "execution_count": 6,
      "outputs": []
    },
    {
      "cell_type": "code",
      "source": [
        "class TCacheSet():\n",
        "    def __init__(self, size, period):\n",
        "        self.size = size\n",
        "        self.cached = []\n",
        "        self.period = period\n",
        "        self.IC = ImageCaptcha(width = 25)\n",
        "        self.transform = transforms.Compose([\n",
        "            transforms.Resize((224, 224)),\n",
        "            transforms.ToTensor()\n",
        "        ])\n",
        "        self.flush()\n",
        "    def flush(self):\n",
        "        self.cached.clear()\n",
        "        for index in range(self.period):\n",
        "            label = get_random_string(1)\n",
        "            data = self.IC.generate_image(label)\n",
        "            data = self.transform(data)\n",
        "            label = label.lower().replace(\" \", \"\")\n",
        "            label += \" \" * (1 - len(label))\n",
        "\n",
        "            labelTensor = strToInd(label)\n",
        "            self.cached.append((data, labelTensor))\n",
        "    def __getitem__(self, index):\n",
        "        index = index % self.period\n",
        "        entry = self.cached[index]\n",
        "        return entry[0], entry[1]\n",
        "\n",
        "    def __len__(self):\n",
        "        return self.size\n",
        "\n",
        "class TFrozenSet():\n",
        "    def __init__(self, size):\n",
        "        self.size = size\n",
        "        self.cached = []\n",
        "        self.period = size\n",
        "        self.IC = ImageCaptcha(width = 25) # specify width to be 25, and then it will be resized to 224\n",
        "        self.transform = transforms.Compose([\n",
        "            transforms.Resize((224, 224)),\n",
        "            transforms.ToTensor()\n",
        "        ])\n",
        "        self.flush2()\n",
        "    def flush2(self):\n",
        "        self.cached.clear()\n",
        "        for index in range(self.period):\n",
        "            label = get_random_string(1)\n",
        "            data = self.IC.generate_image(label)\n",
        "            data = self.transform(data)\n",
        "            label = label.lower().replace(\" \", \"\")\n",
        "            label += \" \" * (1 - len(label))\n",
        "\n",
        "            labelTensor = strToInd(label)\n",
        "            self.cached.append((data, labelTensor))\n",
        "    def __getitem__(self, index):\n",
        "        index = index % self.period\n",
        "        entry = self.cached[index]\n",
        "        return entry[0], entry[1]\n",
        "\n",
        "    def __len__(self):\n",
        "        return self.size"
      ],
      "metadata": {
        "id": "MEm3eHXJpw4f"
      },
      "execution_count": 7,
      "outputs": []
    },
    {
      "cell_type": "code",
      "source": [
        "trainDataT = TCacheSet(12800, 1280)\n",
        "valDataT = TFrozenSet(3000)"
      ],
      "metadata": {
        "id": "9qkhsM5Gp3E6"
      },
      "execution_count": 8,
      "outputs": []
    },
    {
      "cell_type": "markdown",
      "source": [
        "# Model and Training\n"
      ],
      "metadata": {
        "id": "Ogbl1F3cCsey"
      }
    },
    {
      "cell_type": "markdown",
      "source": [
        "It will be fed 224x224 images so i can reuse trevor's script"
      ],
      "metadata": {
        "id": "DyZl1QvTDJ49"
      }
    },
    {
      "cell_type": "code",
      "source": [
        "class nn_captcha(nn.Module):\n",
        "    def __init__(self):\n",
        "        super(nn_captcha, self).__init__()\n",
        "        self.name = \"res_cap\"\n",
        "        self.conv1 = nn.Conv2d(3, 10, 3) \n",
        "        self.pool = nn.MaxPool2d(2, 2)\n",
        "        self.conv2 = nn.Conv2d(10, 10, 5)\n",
        "        self.fc1 = nn.Linear(53*53*10, 500)  #width*height will change depending on previous layers, pooling, and the initial dimensions of the photo\n",
        "        self.fc2 = nn.Linear(500, 36)       # there are 36 possible characters, 26 letters (A-Z) and 10 digits (0-9)\n",
        "\n",
        "    def forward(self, x):\n",
        "        x = self.pool(F.relu(self.conv1(x)))\n",
        "        x = self.pool(F.relu(self.conv2(x)))\n",
        "        \n",
        "        x = x.view(-1, 53*53*10)\n",
        "        x = F.relu(self.fc1(x))\n",
        "        x = self.fc2(x)\n",
        "        x = x.view(-1, len(chars), 1)\n",
        "        x = x.squeeze(1) # Flatten to [batch_size]\n",
        "        return x"
      ],
      "metadata": {
        "id": "0EeDZ4ODCrzV"
      },
      "execution_count": 17,
      "outputs": []
    },
    {
      "cell_type": "code",
      "source": [
        "do_cuda = True\n",
        "\n",
        "def get_accuracy1(model, train=False, batch_size = 64):\n",
        "    if train:\n",
        "        data = trainDataT\n",
        "    else:\n",
        "        data = valDataT\n",
        "\n",
        "    correct = 0\n",
        "    total = 0\n",
        "    for imgs, labels in tqdm(torch.utils.data.DataLoader(data, batch_size=batch_size)):\n",
        "        if use_cuda and torch.cuda.is_available:\n",
        "            imgs = imgs.cuda()\n",
        "            labels = labels.cuda()\n",
        "          #pass\n",
        "\n",
        "        output = model(imgs)\n",
        "        #select index with maximum prediction score\n",
        "        pred = output.max(1, keepdim=True)[1]\n",
        "        correct += pred.eq(labels.view_as(pred)).sum().item()\n",
        "        total += imgs.shape[0]\n",
        "    return correct / total\n",
        "\n",
        "\n",
        "def train_small(model, data, batch_size=64, num_epochs=30, learning_rate=0.0001):\n",
        "    torch.manual_seed(1000)\n",
        "    train_loader = torch.utils.data.DataLoader(data, batch_size=batch_size, shuffle=True)\n",
        "    criterion = nn.CrossEntropyLoss()\n",
        "    optimizer = optim.Adam(model.parameters(), lr=learning_rate)\n",
        "\n",
        "    iters, losses, train_acc, val_acc = [], [], [], []\n",
        "\n",
        "\n",
        "    startTime = time.time() # to see how long training goes\n",
        "    print(\"starting training\")\n",
        "    # training\n",
        "    n = 0 # the number of iterations\n",
        "    for epoch in range(num_epochs):\n",
        "        \n",
        "        try:\n",
        "            data.flush()\n",
        "            train_loader = torch.utils.data.DataLoader(data, batch_size=batch_size, shuffle=True)\n",
        "        except Exception:\n",
        "            pass\n",
        "        print(\"epoch: \", epoch)\n",
        "        for imgs, labels in tqdm(iter(train_loader)):\n",
        "            #print(labels.shape)\n",
        "            if do_cuda and torch.cuda.is_available:\n",
        "              imgs = imgs.cuda()\n",
        "              labels = labels.cuda()\n",
        "\n",
        "            out = model(imgs)             # forward pass\n",
        "            #print(out[0])\n",
        "            #print()\n",
        "            #print(labels[0])\n",
        "            #print()\n",
        "            loss = criterion(out, labels) # compute the total loss\n",
        "            loss.backward()               # backward pass (compute parameter updates)\n",
        "            optimizer.step()              # make the updates for each parameter\n",
        "            optimizer.zero_grad()         # a clean up step for PyTorch\n",
        "\n",
        "            # save the current training information\n",
        "            iters.append(n)\n",
        "            losses.append(float(loss)/batch_size)             # compute *average* loss\n",
        "            n += 1\n",
        "\n",
        "        #train_acc.append(get_accuracy(model, train=True, batch_size=batch_size)) # compute training accuracy \n",
        "        val_acc.append(get_accuracy1(model, train=False, batch_size=batch_size))  # compute validation accuracy\n",
        "        print((\"Epoch {}: |\"+\"Validation acc: {}\").format(\n",
        "                epoch, # call epoch zero epoch zero\n",
        "                \n",
        "                val_acc[-1]))\n",
        "        \n",
        "        #checkpoint\n",
        "        path = \"model_{0}_bs{1}_lr{2}_epoch{3}\".format(model.name,\n",
        "                                                   batch_size,\n",
        "                                                   learning_rate,\n",
        "                                                   epoch)\n",
        "        torch.save(model.state_dict(), path)\n",
        "\n",
        "\n",
        "    \n",
        "    finishTime = time.time()\n",
        "\n",
        "    delta = finishTime - startTime\n",
        "    print(\"\\nDONE TRAINING in %s seconds!\\n\" % delta)\n",
        "\n",
        "    # plotting\n",
        "    plt.title(\"Training Curve\")\n",
        "    plt.plot(iters, losses, label=\"Train\")\n",
        "    plt.xlabel(\"Iterations\")\n",
        "    plt.ylabel(\"Loss\")\n",
        "    plt.show()\n",
        "\n",
        "    plt.title(\"Training Curve\")\n",
        "    #plt.plot(range(num_epochs), train_acc, label=\"Train\")\n",
        "    plt.plot(range(num_epochs), val_acc, label=\"Validation\")\n",
        "    plt.xlabel(\"Iterations\")\n",
        "    plt.ylabel(\"Training Accuracy\")\n",
        "    plt.legend(loc='best')\n",
        "    plt.show()\n",
        "\n",
        "    #print(\"Final Training Accuracy: {}\".format(train_acc[-1]))\n",
        "    print(\"Final Validation Accuracy: {}\".format(val_acc[-1]))\n",
        "    \n",
        "    "
      ],
      "metadata": {
        "id": "7NVRw5wSEl4V"
      },
      "execution_count": 10,
      "outputs": []
    },
    {
      "cell_type": "code",
      "source": [
        "model3 = nn_captcha()\n",
        "#state = torch.load(\"/content/gdrive/MyDrive/APS360Project_Dataset/training_checkpoints/model_res_cap_bs64_lr0.0001_epoch40\")\n",
        "#model2.load_state_dict(state)\n",
        "print(torch.cuda.is_available())\n",
        "model3.cuda()\n",
        "train_small(model3,  trainDataT, num_epochs = 50, learning_rate = 0.001)"
      ],
      "metadata": {
        "colab": {
          "base_uri": "https://localhost:8080/",
          "height": 1000
        },
        "id": "D3_y1H95Euou",
        "outputId": "f925b74f-91d9-4e58-d4ff-b75cc3e6ac10"
      },
      "execution_count": 18,
      "outputs": [
        {
          "output_type": "stream",
          "name": "stdout",
          "text": [
            "True\n",
            "starting training\n",
            "epoch:  0\n"
          ]
        },
        {
          "output_type": "stream",
          "name": "stderr",
          "text": [
            "100%|██████████| 200/200 [00:08<00:00, 22.30it/s]\n",
            "100%|██████████| 47/47 [00:01<00:00, 40.95it/s]\n"
          ]
        },
        {
          "output_type": "stream",
          "name": "stdout",
          "text": [
            "Epoch 0: |Validation acc: 0.25466666666666665\n",
            "epoch:  1\n"
          ]
        },
        {
          "output_type": "stream",
          "name": "stderr",
          "text": [
            "100%|██████████| 200/200 [00:08<00:00, 22.56it/s]\n",
            "100%|██████████| 47/47 [00:01<00:00, 41.09it/s]\n"
          ]
        },
        {
          "output_type": "stream",
          "name": "stdout",
          "text": [
            "Epoch 1: |Validation acc: 0.331\n",
            "epoch:  2\n"
          ]
        },
        {
          "output_type": "stream",
          "name": "stderr",
          "text": [
            "100%|██████████| 200/200 [00:08<00:00, 22.51it/s]\n",
            "100%|██████████| 47/47 [00:01<00:00, 41.25it/s]\n"
          ]
        },
        {
          "output_type": "stream",
          "name": "stdout",
          "text": [
            "Epoch 2: |Validation acc: 0.36133333333333334\n",
            "epoch:  3\n"
          ]
        },
        {
          "output_type": "stream",
          "name": "stderr",
          "text": [
            "100%|██████████| 200/200 [00:08<00:00, 22.45it/s]\n",
            "100%|██████████| 47/47 [00:01<00:00, 41.61it/s]\n"
          ]
        },
        {
          "output_type": "stream",
          "name": "stdout",
          "text": [
            "Epoch 3: |Validation acc: 0.38766666666666666\n",
            "epoch:  4\n"
          ]
        },
        {
          "output_type": "stream",
          "name": "stderr",
          "text": [
            "100%|██████████| 200/200 [00:08<00:00, 22.45it/s]\n",
            "100%|██████████| 47/47 [00:01<00:00, 41.30it/s]\n"
          ]
        },
        {
          "output_type": "stream",
          "name": "stdout",
          "text": [
            "Epoch 4: |Validation acc: 0.4083333333333333\n",
            "epoch:  5\n"
          ]
        },
        {
          "output_type": "stream",
          "name": "stderr",
          "text": [
            "100%|██████████| 200/200 [00:09<00:00, 22.15it/s]\n",
            "100%|██████████| 47/47 [00:01<00:00, 41.75it/s]\n"
          ]
        },
        {
          "output_type": "stream",
          "name": "stdout",
          "text": [
            "Epoch 5: |Validation acc: 0.411\n",
            "epoch:  6\n"
          ]
        },
        {
          "output_type": "stream",
          "name": "stderr",
          "text": [
            "100%|██████████| 200/200 [00:08<00:00, 22.67it/s]\n",
            "100%|██████████| 47/47 [00:01<00:00, 41.05it/s]\n"
          ]
        },
        {
          "output_type": "stream",
          "name": "stdout",
          "text": [
            "Epoch 6: |Validation acc: 0.43433333333333335\n",
            "epoch:  7\n"
          ]
        },
        {
          "output_type": "stream",
          "name": "stderr",
          "text": [
            "100%|██████████| 200/200 [00:08<00:00, 22.50it/s]\n",
            "100%|██████████| 47/47 [00:01<00:00, 41.17it/s]\n"
          ]
        },
        {
          "output_type": "stream",
          "name": "stdout",
          "text": [
            "Epoch 7: |Validation acc: 0.42833333333333334\n",
            "epoch:  8\n"
          ]
        },
        {
          "output_type": "stream",
          "name": "stderr",
          "text": [
            "100%|██████████| 200/200 [00:08<00:00, 22.69it/s]\n",
            "100%|██████████| 47/47 [00:01<00:00, 41.55it/s]\n"
          ]
        },
        {
          "output_type": "stream",
          "name": "stdout",
          "text": [
            "Epoch 8: |Validation acc: 0.44533333333333336\n",
            "epoch:  9\n"
          ]
        },
        {
          "output_type": "stream",
          "name": "stderr",
          "text": [
            "100%|██████████| 200/200 [00:08<00:00, 22.61it/s]\n",
            "100%|██████████| 47/47 [00:01<00:00, 41.47it/s]\n"
          ]
        },
        {
          "output_type": "stream",
          "name": "stdout",
          "text": [
            "Epoch 9: |Validation acc: 0.4776666666666667\n",
            "epoch:  10\n"
          ]
        },
        {
          "output_type": "stream",
          "name": "stderr",
          "text": [
            "100%|██████████| 200/200 [00:08<00:00, 22.64it/s]\n",
            "100%|██████████| 47/47 [00:01<00:00, 41.58it/s]\n"
          ]
        },
        {
          "output_type": "stream",
          "name": "stdout",
          "text": [
            "Epoch 10: |Validation acc: 0.473\n",
            "epoch:  11\n"
          ]
        },
        {
          "output_type": "stream",
          "name": "stderr",
          "text": [
            "100%|██████████| 200/200 [00:08<00:00, 22.64it/s]\n",
            "100%|██████████| 47/47 [00:01<00:00, 41.59it/s]\n"
          ]
        },
        {
          "output_type": "stream",
          "name": "stdout",
          "text": [
            "Epoch 11: |Validation acc: 0.4796666666666667\n",
            "epoch:  12\n"
          ]
        },
        {
          "output_type": "stream",
          "name": "stderr",
          "text": [
            "100%|██████████| 200/200 [00:08<00:00, 22.61it/s]\n",
            "100%|██████████| 47/47 [00:01<00:00, 41.59it/s]\n"
          ]
        },
        {
          "output_type": "stream",
          "name": "stdout",
          "text": [
            "Epoch 12: |Validation acc: 0.4826666666666667\n",
            "epoch:  13\n"
          ]
        },
        {
          "output_type": "stream",
          "name": "stderr",
          "text": [
            "100%|██████████| 200/200 [00:08<00:00, 22.51it/s]\n",
            "100%|██████████| 47/47 [00:01<00:00, 41.13it/s]\n"
          ]
        },
        {
          "output_type": "stream",
          "name": "stdout",
          "text": [
            "Epoch 13: |Validation acc: 0.492\n",
            "epoch:  14\n"
          ]
        },
        {
          "output_type": "stream",
          "name": "stderr",
          "text": [
            "100%|██████████| 200/200 [00:08<00:00, 22.68it/s]\n",
            "100%|██████████| 47/47 [00:01<00:00, 41.76it/s]\n"
          ]
        },
        {
          "output_type": "stream",
          "name": "stdout",
          "text": [
            "Epoch 14: |Validation acc: 0.513\n",
            "epoch:  15\n"
          ]
        },
        {
          "output_type": "stream",
          "name": "stderr",
          "text": [
            "100%|██████████| 200/200 [00:08<00:00, 22.68it/s]\n",
            "100%|██████████| 47/47 [00:01<00:00, 42.41it/s]\n"
          ]
        },
        {
          "output_type": "stream",
          "name": "stdout",
          "text": [
            "Epoch 15: |Validation acc: 0.49933333333333335\n",
            "epoch:  16\n"
          ]
        },
        {
          "output_type": "stream",
          "name": "stderr",
          "text": [
            "100%|██████████| 200/200 [00:08<00:00, 22.59it/s]\n",
            "100%|██████████| 47/47 [00:01<00:00, 41.34it/s]\n"
          ]
        },
        {
          "output_type": "stream",
          "name": "stdout",
          "text": [
            "Epoch 16: |Validation acc: 0.5133333333333333\n",
            "epoch:  17\n"
          ]
        },
        {
          "output_type": "stream",
          "name": "stderr",
          "text": [
            "100%|██████████| 200/200 [00:08<00:00, 22.62it/s]\n",
            "100%|██████████| 47/47 [00:01<00:00, 41.52it/s]\n"
          ]
        },
        {
          "output_type": "stream",
          "name": "stdout",
          "text": [
            "Epoch 17: |Validation acc: 0.526\n",
            "epoch:  18\n"
          ]
        },
        {
          "output_type": "stream",
          "name": "stderr",
          "text": [
            "100%|██████████| 200/200 [00:08<00:00, 22.58it/s]\n",
            "100%|██████████| 47/47 [00:01<00:00, 41.92it/s]\n"
          ]
        },
        {
          "output_type": "stream",
          "name": "stdout",
          "text": [
            "Epoch 18: |Validation acc: 0.5116666666666667\n",
            "epoch:  19\n"
          ]
        },
        {
          "output_type": "stream",
          "name": "stderr",
          "text": [
            "100%|██████████| 200/200 [00:08<00:00, 22.61it/s]\n",
            "100%|██████████| 47/47 [00:01<00:00, 41.65it/s]\n"
          ]
        },
        {
          "output_type": "stream",
          "name": "stdout",
          "text": [
            "Epoch 19: |Validation acc: 0.53\n",
            "epoch:  20\n"
          ]
        },
        {
          "output_type": "stream",
          "name": "stderr",
          "text": [
            "100%|██████████| 200/200 [00:08<00:00, 22.63it/s]\n",
            "100%|██████████| 47/47 [00:01<00:00, 41.60it/s]\n"
          ]
        },
        {
          "output_type": "stream",
          "name": "stdout",
          "text": [
            "Epoch 20: |Validation acc: 0.535\n",
            "epoch:  21\n"
          ]
        },
        {
          "output_type": "stream",
          "name": "stderr",
          "text": [
            "100%|██████████| 200/200 [00:08<00:00, 22.58it/s]\n",
            "100%|██████████| 47/47 [00:01<00:00, 42.16it/s]\n"
          ]
        },
        {
          "output_type": "stream",
          "name": "stdout",
          "text": [
            "Epoch 21: |Validation acc: 0.523\n",
            "epoch:  22\n"
          ]
        },
        {
          "output_type": "stream",
          "name": "stderr",
          "text": [
            "100%|██████████| 200/200 [00:08<00:00, 22.73it/s]\n",
            "100%|██████████| 47/47 [00:01<00:00, 41.99it/s]\n"
          ]
        },
        {
          "output_type": "stream",
          "name": "stdout",
          "text": [
            "Epoch 22: |Validation acc: 0.5286666666666666\n",
            "epoch:  23\n"
          ]
        },
        {
          "output_type": "stream",
          "name": "stderr",
          "text": [
            "100%|██████████| 200/200 [00:08<00:00, 22.61it/s]\n",
            "100%|██████████| 47/47 [00:01<00:00, 41.66it/s]\n"
          ]
        },
        {
          "output_type": "stream",
          "name": "stdout",
          "text": [
            "Epoch 23: |Validation acc: 0.5216666666666666\n",
            "epoch:  24\n"
          ]
        },
        {
          "output_type": "stream",
          "name": "stderr",
          "text": [
            "100%|██████████| 200/200 [00:08<00:00, 22.56it/s]\n",
            "100%|██████████| 47/47 [00:01<00:00, 41.05it/s]\n"
          ]
        },
        {
          "output_type": "stream",
          "name": "stdout",
          "text": [
            "Epoch 24: |Validation acc: 0.5276666666666666\n",
            "epoch:  25\n"
          ]
        },
        {
          "output_type": "stream",
          "name": "stderr",
          "text": [
            "100%|██████████| 200/200 [00:08<00:00, 22.64it/s]\n",
            "100%|██████████| 47/47 [00:01<00:00, 41.36it/s]\n"
          ]
        },
        {
          "output_type": "stream",
          "name": "stdout",
          "text": [
            "Epoch 25: |Validation acc: 0.527\n",
            "epoch:  26\n"
          ]
        },
        {
          "output_type": "stream",
          "name": "stderr",
          "text": [
            "100%|██████████| 200/200 [00:08<00:00, 22.32it/s]\n",
            "100%|██████████| 47/47 [00:01<00:00, 39.86it/s]\n"
          ]
        },
        {
          "output_type": "stream",
          "name": "stdout",
          "text": [
            "Epoch 26: |Validation acc: 0.54\n",
            "epoch:  27\n"
          ]
        },
        {
          "output_type": "stream",
          "name": "stderr",
          "text": [
            "100%|██████████| 200/200 [00:08<00:00, 22.55it/s]\n",
            "100%|██████████| 47/47 [00:01<00:00, 41.53it/s]\n"
          ]
        },
        {
          "output_type": "stream",
          "name": "stdout",
          "text": [
            "Epoch 27: |Validation acc: 0.5266666666666666\n",
            "epoch:  28\n"
          ]
        },
        {
          "output_type": "stream",
          "name": "stderr",
          "text": [
            "100%|██████████| 200/200 [00:08<00:00, 22.61it/s]\n",
            "100%|██████████| 47/47 [00:01<00:00, 41.89it/s]\n"
          ]
        },
        {
          "output_type": "stream",
          "name": "stdout",
          "text": [
            "Epoch 28: |Validation acc: 0.5303333333333333\n",
            "epoch:  29\n"
          ]
        },
        {
          "output_type": "stream",
          "name": "stderr",
          "text": [
            "100%|██████████| 200/200 [00:08<00:00, 22.58it/s]\n",
            "100%|██████████| 47/47 [00:01<00:00, 41.50it/s]\n"
          ]
        },
        {
          "output_type": "stream",
          "name": "stdout",
          "text": [
            "Epoch 29: |Validation acc: 0.557\n",
            "epoch:  30\n"
          ]
        },
        {
          "output_type": "stream",
          "name": "stderr",
          "text": [
            "100%|██████████| 200/200 [00:08<00:00, 22.52it/s]\n",
            "100%|██████████| 47/47 [00:01<00:00, 41.66it/s]\n"
          ]
        },
        {
          "output_type": "stream",
          "name": "stdout",
          "text": [
            "Epoch 30: |Validation acc: 0.5543333333333333\n",
            "epoch:  31\n"
          ]
        },
        {
          "output_type": "stream",
          "name": "stderr",
          "text": [
            "100%|██████████| 200/200 [00:08<00:00, 22.52it/s]\n",
            "100%|██████████| 47/47 [00:01<00:00, 41.71it/s]\n"
          ]
        },
        {
          "output_type": "stream",
          "name": "stdout",
          "text": [
            "Epoch 31: |Validation acc: 0.5503333333333333\n",
            "epoch:  32\n"
          ]
        },
        {
          "output_type": "stream",
          "name": "stderr",
          "text": [
            "100%|██████████| 200/200 [00:08<00:00, 22.65it/s]\n",
            "100%|██████████| 47/47 [00:01<00:00, 41.76it/s]\n"
          ]
        },
        {
          "output_type": "stream",
          "name": "stdout",
          "text": [
            "Epoch 32: |Validation acc: 0.5553333333333333\n",
            "epoch:  33\n"
          ]
        },
        {
          "output_type": "stream",
          "name": "stderr",
          "text": [
            "100%|██████████| 200/200 [00:08<00:00, 22.63it/s]\n",
            "100%|██████████| 47/47 [00:01<00:00, 41.23it/s]\n"
          ]
        },
        {
          "output_type": "stream",
          "name": "stdout",
          "text": [
            "Epoch 33: |Validation acc: 0.5773333333333334\n",
            "epoch:  34\n"
          ]
        },
        {
          "output_type": "stream",
          "name": "stderr",
          "text": [
            "100%|██████████| 200/200 [00:08<00:00, 22.53it/s]\n",
            "100%|██████████| 47/47 [00:01<00:00, 41.49it/s]\n"
          ]
        },
        {
          "output_type": "stream",
          "name": "stdout",
          "text": [
            "Epoch 34: |Validation acc: 0.572\n",
            "epoch:  35\n"
          ]
        },
        {
          "output_type": "stream",
          "name": "stderr",
          "text": [
            "100%|██████████| 200/200 [00:08<00:00, 22.62it/s]\n",
            "100%|██████████| 47/47 [00:01<00:00, 41.59it/s]\n"
          ]
        },
        {
          "output_type": "stream",
          "name": "stdout",
          "text": [
            "Epoch 35: |Validation acc: 0.565\n",
            "epoch:  36\n"
          ]
        },
        {
          "output_type": "stream",
          "name": "stderr",
          "text": [
            "100%|██████████| 200/200 [00:08<00:00, 22.67it/s]\n",
            "100%|██████████| 47/47 [00:01<00:00, 41.57it/s]\n"
          ]
        },
        {
          "output_type": "stream",
          "name": "stdout",
          "text": [
            "Epoch 36: |Validation acc: 0.5673333333333334\n",
            "epoch:  37\n"
          ]
        },
        {
          "output_type": "stream",
          "name": "stderr",
          "text": [
            "100%|██████████| 200/200 [00:08<00:00, 22.65it/s]\n",
            "100%|██████████| 47/47 [00:01<00:00, 41.69it/s]\n"
          ]
        },
        {
          "output_type": "stream",
          "name": "stdout",
          "text": [
            "Epoch 37: |Validation acc: 0.5783333333333334\n",
            "epoch:  38\n"
          ]
        },
        {
          "output_type": "stream",
          "name": "stderr",
          "text": [
            "100%|██████████| 200/200 [00:08<00:00, 22.67it/s]\n",
            "100%|██████████| 47/47 [00:01<00:00, 41.76it/s]\n"
          ]
        },
        {
          "output_type": "stream",
          "name": "stdout",
          "text": [
            "Epoch 38: |Validation acc: 0.591\n",
            "epoch:  39\n"
          ]
        },
        {
          "output_type": "stream",
          "name": "stderr",
          "text": [
            "100%|██████████| 200/200 [00:08<00:00, 22.66it/s]\n",
            "100%|██████████| 47/47 [00:01<00:00, 42.23it/s]\n"
          ]
        },
        {
          "output_type": "stream",
          "name": "stdout",
          "text": [
            "Epoch 39: |Validation acc: 0.5656666666666667\n",
            "epoch:  40\n"
          ]
        },
        {
          "output_type": "stream",
          "name": "stderr",
          "text": [
            "100%|██████████| 200/200 [00:08<00:00, 22.65it/s]\n",
            "100%|██████████| 47/47 [00:01<00:00, 41.38it/s]\n"
          ]
        },
        {
          "output_type": "stream",
          "name": "stdout",
          "text": [
            "Epoch 40: |Validation acc: 0.572\n",
            "epoch:  41\n"
          ]
        },
        {
          "output_type": "stream",
          "name": "stderr",
          "text": [
            "100%|██████████| 200/200 [00:08<00:00, 22.66it/s]\n",
            "100%|██████████| 47/47 [00:01<00:00, 41.63it/s]\n"
          ]
        },
        {
          "output_type": "stream",
          "name": "stdout",
          "text": [
            "Epoch 41: |Validation acc: 0.577\n",
            "epoch:  42\n"
          ]
        },
        {
          "output_type": "stream",
          "name": "stderr",
          "text": [
            "100%|██████████| 200/200 [00:08<00:00, 22.70it/s]\n",
            "100%|██████████| 47/47 [00:01<00:00, 41.97it/s]\n"
          ]
        },
        {
          "output_type": "stream",
          "name": "stdout",
          "text": [
            "Epoch 42: |Validation acc: 0.588\n",
            "epoch:  43\n"
          ]
        },
        {
          "output_type": "stream",
          "name": "stderr",
          "text": [
            "100%|██████████| 200/200 [00:08<00:00, 22.60it/s]\n",
            "100%|██████████| 47/47 [00:01<00:00, 41.77it/s]\n"
          ]
        },
        {
          "output_type": "stream",
          "name": "stdout",
          "text": [
            "Epoch 43: |Validation acc: 0.589\n",
            "epoch:  44\n"
          ]
        },
        {
          "output_type": "stream",
          "name": "stderr",
          "text": [
            "100%|██████████| 200/200 [00:08<00:00, 22.67it/s]\n",
            "100%|██████████| 47/47 [00:01<00:00, 42.01it/s]\n"
          ]
        },
        {
          "output_type": "stream",
          "name": "stdout",
          "text": [
            "Epoch 44: |Validation acc: 0.5736666666666667\n",
            "epoch:  45\n"
          ]
        },
        {
          "output_type": "stream",
          "name": "stderr",
          "text": [
            "100%|██████████| 200/200 [00:08<00:00, 22.67it/s]\n",
            "100%|██████████| 47/47 [00:01<00:00, 42.15it/s]\n"
          ]
        },
        {
          "output_type": "stream",
          "name": "stdout",
          "text": [
            "Epoch 45: |Validation acc: 0.5746666666666667\n",
            "epoch:  46\n"
          ]
        },
        {
          "output_type": "stream",
          "name": "stderr",
          "text": [
            "100%|██████████| 200/200 [00:08<00:00, 22.62it/s]\n",
            "100%|██████████| 47/47 [00:01<00:00, 41.45it/s]\n"
          ]
        },
        {
          "output_type": "stream",
          "name": "stdout",
          "text": [
            "Epoch 46: |Validation acc: 0.5793333333333334\n",
            "epoch:  47\n"
          ]
        },
        {
          "output_type": "stream",
          "name": "stderr",
          "text": [
            "100%|██████████| 200/200 [00:08<00:00, 22.73it/s]\n",
            "100%|██████████| 47/47 [00:01<00:00, 42.25it/s]\n"
          ]
        },
        {
          "output_type": "stream",
          "name": "stdout",
          "text": [
            "Epoch 47: |Validation acc: 0.5883333333333334\n",
            "epoch:  48\n"
          ]
        },
        {
          "output_type": "stream",
          "name": "stderr",
          "text": [
            "100%|██████████| 200/200 [00:08<00:00, 22.66it/s]\n",
            "100%|██████████| 47/47 [00:01<00:00, 42.30it/s]\n"
          ]
        },
        {
          "output_type": "stream",
          "name": "stdout",
          "text": [
            "Epoch 48: |Validation acc: 0.584\n",
            "epoch:  49\n"
          ]
        },
        {
          "output_type": "stream",
          "name": "stderr",
          "text": [
            "100%|██████████| 200/200 [00:08<00:00, 22.65it/s]\n",
            "100%|██████████| 47/47 [00:01<00:00, 41.86it/s]\n"
          ]
        },
        {
          "output_type": "stream",
          "name": "stdout",
          "text": [
            "Epoch 49: |Validation acc: 0.6023333333333334\n",
            "\n",
            "DONE TRAINING in 1686.8532478809357 seconds!\n",
            "\n"
          ]
        },
        {
          "output_type": "display_data",
          "data": {
            "text/plain": [
              "<Figure size 432x288 with 1 Axes>"
            ],
            "image/png": "[encoded data removed]"
          },
          "metadata": {
            "needs_background": "light"
          }
        },
        {
          "output_type": "display_data",
          "data": {
            "text/plain": [
              "<Figure size 432x288 with 1 Axes>"
            ],
            "image/png": "[encoded data removed]"
          },
          "metadata": {
            "needs_background": "light"
          }
        },
        {
          "output_type": "stream",
          "name": "stdout",
          "text": [
            "Final Validation Accuracy: 0.6023333333333334\n"
          ]
        }
      ]
    },
    {
      "cell_type": "markdown",
      "source": [
        "# Generate Distribution"
      ],
      "metadata": {
        "id": "rMOQpxJbFEce"
      }
    },
    {
      "cell_type": "markdown",
      "source": [
        ""
      ],
      "metadata": {
        "id": "wVi6wsSjFhOt"
      }
    },
    {
      "cell_type": "code",
      "source": [
        "from google.colab import drive\n",
        "drive.mount('/content/gdrive')"
      ],
      "metadata": {
        "colab": {
          "base_uri": "https://localhost:8080/"
        },
        "id": "zeQjCFv1MMZS",
        "outputId": "e926d311-415a-40fe-f3cf-ef2bcb4f9e88"
      },
      "execution_count": 21,
      "outputs": [
        {
          "output_type": "stream",
          "name": "stdout",
          "text": [
            "Mounted at /content/gdrive\n"
          ]
        }
      ]
    },
    {
      "cell_type": "code",
      "source": [
        "img = plt.imread('/content/gdrive/MyDrive/APS360Project_Dataset/testing_stuff/4npg.png')\n",
        "plt.imshow(img)"
      ],
      "metadata": {
        "id": "4QBTQyIKqWKY",
        "colab": {
          "base_uri": "https://localhost:8080/",
          "height": 288
        },
        "outputId": "288c4449-3ab7-49b4-e2c8-d82b73da6dda"
      },
      "execution_count": 22,
      "outputs": [
        {
          "output_type": "execute_result",
          "data": {
            "text/plain": [
              "<matplotlib.image.AxesImage at 0x7eff8168d510>"
            ]
          },
          "metadata": {},
          "execution_count": 22
        },
        {
          "output_type": "display_data",
          "data": {
            "text/plain": [
              "<Figure size 432x288 with 1 Axes>"
            ],
            "image/png": "[encoded data removed]"
          },
          "metadata": {
            "needs_background": "light"
          }
        }
      ]
    },
    {
      "cell_type": "code",
      "source": [
        "window_w = 25  # can be changed\n",
        "#img_to_tensor = transforms.ToTensor()\n",
        "#img2 = img_to_tensor(img)\n",
        "img2 = np.array(img)\n",
        "print(img2.shape)\n",
        "img_c = img2[:,:window_w,:]\n",
        "plt.imshow(img_c)"
      ],
      "metadata": {
        "colab": {
          "base_uri": "https://localhost:8080/",
          "height": 306
        },
        "id": "yn8S5t_DGRmB",
        "outputId": "7e86ea8e-f633-40e8-ab07-33d39da6b591"
      },
      "execution_count": 23,
      "outputs": [
        {
          "output_type": "stream",
          "name": "stdout",
          "text": [
            "(224, 224, 3)\n"
          ]
        },
        {
          "output_type": "execute_result",
          "data": {
            "text/plain": [
              "<matplotlib.image.AxesImage at 0x7eff81675710>"
            ]
          },
          "metadata": {},
          "execution_count": 23
        },
        {
          "output_type": "display_data",
          "data": {
            "text/plain": [
              "<Figure size 432x288 with 1 Axes>"
            ],
            "image/png": "[encoded data removed]"
          },
          "metadata": {
            "needs_background": "light"
          }
        }
      ]
    },
    {
      "cell_type": "code",
      "source": [
        "c_w = torch.from_numpy(img_c).shape[1]\n",
        "c_h = torch.from_numpy(img_c).shape[0]\n",
        "print((\"shape is: {}x{}\").format(c_w, c_h))"
      ],
      "metadata": {
        "id": "iup_V7saqf06",
        "colab": {
          "base_uri": "https://localhost:8080/"
        },
        "outputId": "9559e2e7-05c9-4652-fc3d-81b12270c8c8"
      },
      "execution_count": 24,
      "outputs": [
        {
          "output_type": "stream",
          "name": "stdout",
          "text": [
            "shape is: 25x224\n"
          ]
        }
      ]
    },
    {
      "cell_type": "code",
      "source": [
        "import cv2"
      ],
      "metadata": {
        "id": "uBTcKu1PqjRM"
      },
      "execution_count": 25,
      "outputs": []
    },
    {
      "cell_type": "code",
      "source": [
        "from google.colab import drive\n",
        "drive.mount('/content/gdrive')"
      ],
      "metadata": {
        "id": "O3bcEaJ7qwXK"
      },
      "execution_count": null,
      "outputs": []
    },
    {
      "cell_type": "code",
      "source": [
        "img_windows = []\n",
        "captcha_w = img2.shape[1]\n",
        "transf = transforms.Resize((224, 224))\n",
        "      \n",
        "for i in range(0,captcha_w - window_w):\n",
        "    #print(c_w)\n",
        "    new_img = img2[:,i:(window_w+i),:]\n",
        "    if window_w != 224:\n",
        "        #new_img = transf(new_img)\n",
        "        #new_img = cv2.resize(new_img, (0,0 ), fx=224/window_w, fy=224/c_h)\n",
        "        #print(new_img.shape)\n",
        "\n",
        "\n",
        "        #new_img = np.tile(new_img, (1,9,1))\n",
        "        #new_img = new_img[:,:224,:]\n",
        "\n",
        "        #print(new_img.shape)\n",
        "        new_img = cv2.resize(new_img, (0,0 ), fx=224/window_w, fy=224/c_h)\n",
        "    img_windows.append(new_img)"
      ],
      "metadata": {
        "id": "FC_HchQjqp4V"
      },
      "execution_count": 26,
      "outputs": []
    },
    {
      "cell_type": "code",
      "source": [
        "img_to_tensor = transforms.ToTensor()\n",
        "for i in range(0, len(img_windows)):\n",
        "    img_windows[i] = img_to_tensor(np.array(img_windows[i]))\n",
        "\n",
        "print(img_windows[0].shape)"
      ],
      "metadata": {
        "id": "4zP-xfQCq1zo",
        "colab": {
          "base_uri": "https://localhost:8080/"
        },
        "outputId": "9b182827-ac22-44a7-9028-86681336ca12"
      },
      "execution_count": 27,
      "outputs": [
        {
          "output_type": "stream",
          "name": "stdout",
          "text": [
            "torch.Size([3, 224, 224])\n"
          ]
        }
      ]
    },
    {
      "cell_type": "code",
      "source": [
        "for i in range(0, len(img_windows)):\n",
        "    img_windows[i] = img_windows[i].unsqueeze(0)"
      ],
      "metadata": {
        "id": "A_HrzjlJq37s"
      },
      "execution_count": 28,
      "outputs": []
    },
    {
      "cell_type": "code",
      "source": [
        "model3.cuda()"
      ],
      "metadata": {
        "id": "J3rDHCf3rDoF",
        "colab": {
          "base_uri": "https://localhost:8080/"
        },
        "outputId": "734aab4d-d945-4c5d-93ad-e84c1f797792"
      },
      "execution_count": 29,
      "outputs": [
        {
          "output_type": "execute_result",
          "data": {
            "text/plain": [
              "nn_captcha(\n",
              "  (conv1): Conv2d(3, 10, kernel_size=(3, 3), stride=(1, 1))\n",
              "  (pool): MaxPool2d(kernel_size=2, stride=2, padding=0, dilation=1, ceil_mode=False)\n",
              "  (conv2): Conv2d(10, 10, kernel_size=(5, 5), stride=(1, 1))\n",
              "  (fc1): Linear(in_features=28090, out_features=500, bias=True)\n",
              "  (fc2): Linear(in_features=500, out_features=36, bias=True)\n",
              ")"
            ]
          },
          "metadata": {},
          "execution_count": 29
        }
      ]
    },
    {
      "cell_type": "markdown",
      "source": [
        "This will output a plot of the probability distribution across the image"
      ],
      "metadata": {
        "id": "M_aI0a4zrMA7"
      }
    },
    {
      "cell_type": "code",
      "source": [
        "#will store the probabilities \n",
        "distribution = [[0 for i in range(len(img_windows))] for j in range(36)]  # len(img_windows)x35 to hold all outputs for each window\n",
        "distribution = np.array(distribution)\n",
        "\n",
        "#dist_nosm = [[0 for i in range(len(img_windows))] for j in range(36)]  # len(img_windows)x35 to hold all outputs for each window\n",
        "#dist_nosm = np.array(dist_nosm)\n",
        "\n",
        "iter1 = 0\n",
        "prob_sum = 0\n",
        "for k in range(0, len(img_windows)): # for each window\n",
        "    img_windows[k] = img_windows[k].cuda()\n",
        "    pred = model3(img_windows[k])  #pred has shape 1x35 (will change to 36 once null is added)\n",
        "    #print(len(pred[0]))\n",
        "    for j in range(0, 36): # for each class\n",
        "        #print((\"k: {} | j: {}\").format(k, j))\n",
        "        \n",
        "        pred2 = torch.softmax(pred, dim=1) #apply softmax\n",
        "        if iter1 == 0:\n",
        "            for pr in range(36):\n",
        "                prob_sum = prob_sum + pred2[0][pr]\n",
        "            print((\"total prob is: {}\").format(prob_sum))\n",
        "            iter1 = iter1 + 1\n",
        "        #print(pred2[0][j])\n",
        "        arr = pred2[0][j]*100\n",
        "        distribution[j][k] = arr\n",
        "\n",
        "print(torch.max(torch.from_numpy(distribution)))\n",
        "chars_str = \"abcdefghijklmnopqrstuvwxyz123456789 \"\n",
        "plt.title(\"Character Distribution\")\n",
        "for ch in range(0, 36):\n",
        "    plt.plot(range(len(img_windows)), distribution[ch], label = chars_str[ch])\n",
        "    plt.xlabel(\"Captcha\")\n",
        "    plt.ylabel(\"Prob(%)\")\n",
        "plt.legend()\n",
        "plt.show()"
      ],
      "metadata": {
        "id": "YLva_Ij8rIat",
        "colab": {
          "base_uri": "https://localhost:8080/",
          "height": 632
        },
        "outputId": "d18bfac1-715f-47fc-ee7a-1435be71069c"
      },
      "execution_count": 31,
      "outputs": [
        {
          "output_type": "stream",
          "name": "stdout",
          "text": [
            "total prob is: tensor([1.], device='cuda:0', grad_fn=<AddBackward0>)\n",
            "tensor(100)\n"
          ]
        },
        {
          "output_type": "display_data",
          "data": {
            "text/plain": [
              "<Figure size 432x288 with 1 Axes>"
            ],
            "image/png": "[encoded data removed]"
          },
          "metadata": {
            "needs_background": "light"
          }
        }
      ]
    },
    {
      "cell_type": "markdown",
      "source": [
        "my soul is leaving my body im so tired"
      ],
      "metadata": {
        "id": "76zpv65EN5dm"
      }
    },
    {
      "cell_type": "markdown",
      "source": [
        "## Denoising"
      ],
      "metadata": {
        "id": "-YSEFd0tRObo"
      }
    },
    {
      "cell_type": "markdown",
      "source": [
        "Note that alpha is something I need to tune"
      ],
      "metadata": {
        "id": "aryYCyZeYhWm"
      }
    },
    {
      "cell_type": "code",
      "source": [
        "new_dist = [[0 for i in range(len(img_windows))] for j in range(36)]  # len(img_windows)x35 to hold all outputs for each window\n",
        "new_dist = np.array(new_dist)\n",
        "\n",
        "alpha = 0.5\n",
        "\n",
        "#initialization stuff\n",
        "for i in range(0, 36):\n",
        "    new_dist[i][0] = distribution[i][0]\n",
        "\n",
        "\n",
        "for i in range(0, 36):\n",
        "    for j in range(1, len(new_dist[0])):\n",
        "        new_dist[i][j] = alpha*distribution[i][j] + (1-alpha)*new_dist[i][j-1]\n",
        "\n",
        "\n",
        "plt.title(\"Character Distribution\")\n",
        "for ch in range(0, 36):\n",
        "    plt.plot(range(len(img_windows)), new_dist[ch])\n",
        "    plt.xlabel(\"Captcha\")\n",
        "    plt.ylabel(\"Prob\")\n",
        "plt.show()"
      ],
      "metadata": {
        "colab": {
          "base_uri": "https://localhost:8080/",
          "height": 295
        },
        "id": "WcL_Abe2RQN7",
        "outputId": "ce2ace4c-98e4-4967-ce43-4630b2f167f7"
      },
      "execution_count": 33,
      "outputs": [
        {
          "output_type": "display_data",
          "data": {
            "text/plain": [
              "<Figure size 432x288 with 1 Axes>"
            ],
            "image/png": "[encoded data removed]"
          },
          "metadata": {
            "needs_background": "light"
          }
        }
      ]
    },
    {
      "cell_type": "markdown",
      "source": [
        "# Conventional Alg Part: Bazillionth Attempt "
      ],
      "metadata": {
        "id": "zNtGOJH9Xu-O"
      }
    },
    {
      "cell_type": "code",
      "source": [
        "import scipy.signal"
      ],
      "metadata": {
        "id": "Gl1ZNdz2X1nh"
      },
      "execution_count": 35,
      "outputs": []
    },
    {
      "cell_type": "markdown",
      "source": [
        "### Without Denoising"
      ],
      "metadata": {
        "id": "pd5tZ1rgX8m-"
      }
    },
    {
      "cell_type": "code",
      "source": [
        "chars_str = \"abcdefghijklmnopqrstuvwxyz123456789 \"\n",
        "threshold= 0.85\n",
        "max_prob = torch.max(torch.from_numpy(distribution))\n",
        "#print(max_prob)\n",
        "peaks_inf = [[-1 for i in range(len(img_windows))] for j in range(36)]\n",
        "\n",
        "for i in range(len(chars_str)-1): ##isolate peaks, ignore null\n",
        "    peak, prop = scipy.signal.find_peaks(x = distribution[i], height = 0.9*max_prob.item())\n",
        "    for j in range(len(peak)):\n",
        "        #print(peak[j])\n",
        "        #print(len(peak))\n",
        "        #print(j)\n",
        "        peaks_inf[i][peak[j]] = 1  #indicate peak\n",
        "        #peaks_inf[peak[j]] = prop[\"peak_heights\"][peak[j]]\n",
        "    #print(peaks_inf[i])\n",
        "\n",
        "captcha_str = ''\n",
        "for k in range(len(img_windows)): # for each column \n",
        "    max_val = -1\n",
        "    max_index = -1\n",
        "    for x in range(len(chars_str)-1):\n",
        "        if peaks_inf[x][k] == 1:  #if there even is a peak \n",
        "          if distribution[x][k] > max_val: #access indices of distribution \n",
        "              max_val = distribution[x][k]\n",
        "              max_index = x\n",
        "    if max_val != -1:\n",
        "        captcha_str = captcha_str + chars_str[max_index]\n",
        " \n",
        "    \n",
        "print((\"captca is: {}\").format(captcha_str))"
      ],
      "metadata": {
        "colab": {
          "base_uri": "https://localhost:8080/"
        },
        "id": "JsTA4Y0EYLjD",
        "outputId": "7e73f8bc-71f4-43ca-df7a-fc13f374b555"
      },
      "execution_count": 39,
      "outputs": [
        {
          "output_type": "stream",
          "name": "stdout",
          "text": [
            "captca is: 8peyja2xjgt\n"
          ]
        }
      ]
    },
    {
      "cell_type": "markdown",
      "source": [
        "### With Denoising"
      ],
      "metadata": {
        "id": "Ceb1DRFhYK69"
      }
    },
    {
      "cell_type": "code",
      "source": [
        "chars_str = \"abcdefghijklmnopqrstuvwxyz123456789 \"\n",
        "threshold= 0.85\n",
        "max_prob = torch.max(torch.from_numpy(distribution))\n",
        "#print(max_prob)\n",
        "peaks_inf = [[-1 for i in range(len(img_windows))] for j in range(36)]\n",
        "\n",
        "for i in range(len(chars_str)-1): ##isolate peaks, ignore null\n",
        "    peak, prop = scipy.signal.find_peaks(x = new_dist[i], height = 0.8*max_prob.item())\n",
        "    for j in range(len(peak)):\n",
        "        #print(peak[j])\n",
        "        #print(len(peak))\n",
        "        #print(j)\n",
        "        peaks_inf[i][peak[j]] = 1  #indicate peak\n",
        "        #peaks_inf[peak[j]] = prop[\"peak_heights\"][peak[j]]\n",
        "    #print(peaks_inf[i])\n",
        "\n",
        "captcha_str = ''\n",
        "for k in range(len(img_windows)): # for each column \n",
        "    max_val = -1\n",
        "    max_index = -1\n",
        "    for x in range(len(chars_str)-1):\n",
        "        if peaks_inf[x][k] == 1:  #if there even is a peak \n",
        "          if new_dist[x][k] > max_val: #access indices of distribution \n",
        "              max_val = new_dist[x][k]\n",
        "              max_index = x\n",
        "    if max_val != -1:\n",
        "        captcha_str = captcha_str + chars_str[max_index]\n",
        " \n",
        "    \n",
        "print((\"captca is: {}\").format(captcha_str))"
      ],
      "metadata": {
        "colab": {
          "base_uri": "https://localhost:8080/"
        },
        "id": "D6c-bhgUaAYX",
        "outputId": "554bd98d-2c65-43cc-ded0-a2f255630bab"
      },
      "execution_count": 40,
      "outputs": [
        {
          "output_type": "stream",
          "name": "stdout",
          "text": [
            "captca is: xjgt\n"
          ]
        }
      ]
    },
    {
      "cell_type": "markdown",
      "source": [
        "# Formalizing and combining stuff"
      ],
      "metadata": {
        "id": "fHyN5EkLad1B"
      }
    },
    {
      "cell_type": "markdown",
      "source": [
        "#### P1: Create Functions"
      ],
      "metadata": {
        "id": "c3j4UW2BhN5u"
      }
    },
    {
      "cell_type": "code",
      "source": [
        "# generate windows:\n",
        "def window_gens(img2):\n",
        "    img_windows = []\n",
        "    captcha_w = img2.shape[1]\n",
        "    transf = transforms.Resize((224, 224))\n",
        "          \n",
        "    for i in range(0,captcha_w - window_w):\n",
        "        #print(c_w)\n",
        "        new_img = img2[:,i:(window_w+i),:]\n",
        "        if window_w != 224:\n",
        "            #new_img = transf(new_img)\n",
        "            #new_img = cv2.resize(new_img, (0,0 ), fx=224/window_w, fy=224/c_h)\n",
        "            #print(new_img.shape)\n",
        "\n",
        "\n",
        "            #new_img = np.tile(new_img, (1,9,1))\n",
        "            #new_img = new_img[:,:224,:]\n",
        "\n",
        "            #print(new_img.shape)\n",
        "            new_img = cv2.resize(new_img, (0,0 ), fx=224/window_w, fy=224/c_h)\n",
        "        img_windows.append(new_img)\n",
        "    return img_windows\n",
        "\n",
        "def get_dist(img_windows):\n",
        "    distribution = [[0 for i in range(len(img_windows))] for j in range(36)]  # len(img_windows)x35 to hold all outputs for each window\n",
        "    distribution = np.array(distribution)\n",
        "\n",
        "    #dist_nosm = [[0 for i in range(len(img_windows))] for j in range(36)]  # len(img_windows)x35 to hold all outputs for each window\n",
        "    #dist_nosm = np.array(dist_nosm)\n",
        "\n",
        "    iter1 = 0\n",
        "    prob_sum = 0\n",
        "    for k in range(0, len(img_windows)): # for each window\n",
        "        img_windows[k] = img_windows[k].cuda()\n",
        "        pred = model3(img_windows[k])  #pred has shape 1x35 (will change to 36 once null is added)\n",
        "        #print(len(pred[0]))\n",
        "        for j in range(0, 36): # for each class\n",
        "            #print((\"k: {} | j: {}\").format(k, j))\n",
        "            \n",
        "            pred2 = torch.softmax(pred, dim=1) #apply softmax\n",
        "            if iter1 == 0:\n",
        "                for pr in range(36):\n",
        "                    prob_sum = prob_sum + pred2[0][pr]\n",
        "                #print((\"total prob is: {}\").format(prob_sum))\n",
        "                iter1 = iter1 + 1\n",
        "            #print(pred2[0][j])\n",
        "            arr = pred2[0][j]*100\n",
        "            distribution[j][k] = arr\n",
        "\n",
        "    #print(torch.max(torch.from_numpy(distribution)))\n",
        "    return distribution\n",
        "\n",
        "\n",
        "def denoise_dist(distribution, alpha = 0.5):\n",
        "    new_dist = [[0 for i in range(len(img_windows))] for j in range(36)]  # len(img_windows)x35 to hold all outputs for each window\n",
        "    new_dist = np.array(new_dist)\n",
        "\n",
        "    #initialization stuff\n",
        "    for i in range(0, 36):\n",
        "        new_dist[i][0] = distribution[i][0]\n",
        "\n",
        "\n",
        "    for i in range(0, 36):\n",
        "        for j in range(1, len(new_dist[0])):\n",
        "            new_dist[i][j] = alpha*distribution[i][j] + (1-alpha)*new_dist[i][j-1]\n",
        "    \n",
        "    return new_dist\n",
        "\n",
        "\n",
        "def get_captcha(new_dist, img_windows):\n",
        "    chars_str = \"abcdefghijklmnopqrstuvwxyz123456789 \"\n",
        "    threshold= 0.85\n",
        "    max_prob = torch.max(torch.from_numpy(distribution))\n",
        "    #print(max_prob)\n",
        "    peaks_inf = [[-1 for i in range(len(img_windows))] for j in range(36)]\n",
        "\n",
        "    for i in range(len(chars_str)-1): ##isolate peaks, ignore null\n",
        "        peak, prop = scipy.signal.find_peaks(x = new_dist[i], height = 0.8*max_prob.item())\n",
        "        for j in range(len(peak)):\n",
        "            #print(peak[j])\n",
        "            #print(len(peak))\n",
        "            #print(j)\n",
        "            peaks_inf[i][peak[j]] = 1  #indicate peak\n",
        "            #peaks_inf[peak[j]] = prop[\"peak_heights\"][peak[j]]\n",
        "        #print(peaks_inf[i])\n",
        "\n",
        "    captcha_str = ''\n",
        "    for k in range(len(img_windows)): # for each column \n",
        "        max_val = -1\n",
        "        max_index = -1\n",
        "        for x in range(len(chars_str)-1):\n",
        "            if peaks_inf[x][k] == 1:  #if there even is a peak \n",
        "              if new_dist[x][k] > max_val: #access indices of distribution \n",
        "                  max_val = new_dist[x][k]\n",
        "                  max_index = x\n",
        "        if max_val != -1:\n",
        "            captcha_str = captcha_str + chars_str[max_index]\n",
        "    return captcha_str\n",
        "    \n",
        "#print((\"captca is: {}\").format(captcha_str))"
      ],
      "metadata": {
        "id": "HUu6D-nPhNf9"
      },
      "execution_count": 41,
      "outputs": []
    },
    {
      "cell_type": "code",
      "source": [
        "transform = transforms.Compose(\n",
        "        [transforms.ToTensor(),\n",
        "         transforms.Normalize((0.5, 0.5, 0.5), (0.5, 0.5, 0.5))])\n",
        "\n",
        "testData = torchvision.datasets.ImageFolder('/content/gdrive/MyDrive/APS360Project_Dataset/test1', transform=transform)\n",
        "\n"
      ],
      "metadata": {
        "colab": {
          "base_uri": "https://localhost:8080/",
          "height": 385
        },
        "id": "zTsQ_JZbetmM",
        "outputId": "c1324976-0d60-4bb8-aef9-1261867dd72b"
      },
      "execution_count": 42,
      "outputs": [
        {
          "output_type": "error",
          "ename": "FileNotFoundError",
          "evalue": "ignored",
          "traceback": [
            "\u001b[0;31m---------------------------------------------------------------------------\u001b[0m",
            "\u001b[0;31mFileNotFoundError\u001b[0m                         Traceback (most recent call last)",
            "\u001b[0;32m<ipython-input-42-8b16af0a6438>\u001b[0m in \u001b[0;36m<module>\u001b[0;34m()\u001b[0m\n\u001b[1;32m      3\u001b[0m          transforms.Normalize((0.5, 0.5, 0.5), (0.5, 0.5, 0.5))])\n\u001b[1;32m      4\u001b[0m \u001b[0;34m\u001b[0m\u001b[0m\n\u001b[0;32m----> 5\u001b[0;31m \u001b[0mtestData\u001b[0m \u001b[0;34m=\u001b[0m \u001b[0mtorchvision\u001b[0m\u001b[0;34m.\u001b[0m\u001b[0mdatasets\u001b[0m\u001b[0;34m.\u001b[0m\u001b[0mImageFolder\u001b[0m\u001b[0;34m(\u001b[0m\u001b[0;34m'/content/gdrive/MyDrive/APS360Project_Dataset/test1'\u001b[0m\u001b[0;34m,\u001b[0m \u001b[0mtransform\u001b[0m\u001b[0;34m=\u001b[0m\u001b[0mtransform\u001b[0m\u001b[0;34m)\u001b[0m\u001b[0;34m\u001b[0m\u001b[0;34m\u001b[0m\u001b[0m\n\u001b[0m\u001b[1;32m      6\u001b[0m \u001b[0;34m\u001b[0m\u001b[0m\n",
            "\u001b[0;32m/usr/local/lib/python3.7/dist-packages/torchvision/datasets/folder.py\u001b[0m in \u001b[0;36m__init__\u001b[0;34m(self, root, transform, target_transform, loader, is_valid_file)\u001b[0m\n\u001b[1;32m    311\u001b[0m                                           \u001b[0mtransform\u001b[0m\u001b[0;34m=\u001b[0m\u001b[0mtransform\u001b[0m\u001b[0;34m,\u001b[0m\u001b[0;34m\u001b[0m\u001b[0;34m\u001b[0m\u001b[0m\n\u001b[1;32m    312\u001b[0m                                           \u001b[0mtarget_transform\u001b[0m\u001b[0;34m=\u001b[0m\u001b[0mtarget_transform\u001b[0m\u001b[0;34m,\u001b[0m\u001b[0;34m\u001b[0m\u001b[0;34m\u001b[0m\u001b[0m\n\u001b[0;32m--> 313\u001b[0;31m                                           is_valid_file=is_valid_file)\n\u001b[0m\u001b[1;32m    314\u001b[0m         \u001b[0mself\u001b[0m\u001b[0;34m.\u001b[0m\u001b[0mimgs\u001b[0m \u001b[0;34m=\u001b[0m \u001b[0mself\u001b[0m\u001b[0;34m.\u001b[0m\u001b[0msamples\u001b[0m\u001b[0;34m\u001b[0m\u001b[0;34m\u001b[0m\u001b[0m\n",
            "\u001b[0;32m/usr/local/lib/python3.7/dist-packages/torchvision/datasets/folder.py\u001b[0m in \u001b[0;36m__init__\u001b[0;34m(self, root, loader, extensions, transform, target_transform, is_valid_file)\u001b[0m\n\u001b[1;32m    143\u001b[0m         super(DatasetFolder, self).__init__(root, transform=transform,\n\u001b[1;32m    144\u001b[0m                                             target_transform=target_transform)\n\u001b[0;32m--> 145\u001b[0;31m         \u001b[0mclasses\u001b[0m\u001b[0;34m,\u001b[0m \u001b[0mclass_to_idx\u001b[0m \u001b[0;34m=\u001b[0m \u001b[0mself\u001b[0m\u001b[0;34m.\u001b[0m\u001b[0mfind_classes\u001b[0m\u001b[0;34m(\u001b[0m\u001b[0mself\u001b[0m\u001b[0;34m.\u001b[0m\u001b[0mroot\u001b[0m\u001b[0;34m)\u001b[0m\u001b[0;34m\u001b[0m\u001b[0;34m\u001b[0m\u001b[0m\n\u001b[0m\u001b[1;32m    146\u001b[0m         \u001b[0msamples\u001b[0m \u001b[0;34m=\u001b[0m \u001b[0mself\u001b[0m\u001b[0;34m.\u001b[0m\u001b[0mmake_dataset\u001b[0m\u001b[0;34m(\u001b[0m\u001b[0mself\u001b[0m\u001b[0;34m.\u001b[0m\u001b[0mroot\u001b[0m\u001b[0;34m,\u001b[0m \u001b[0mclass_to_idx\u001b[0m\u001b[0;34m,\u001b[0m \u001b[0mextensions\u001b[0m\u001b[0;34m,\u001b[0m \u001b[0mis_valid_file\u001b[0m\u001b[0;34m)\u001b[0m\u001b[0;34m\u001b[0m\u001b[0;34m\u001b[0m\u001b[0m\n\u001b[1;32m    147\u001b[0m \u001b[0;34m\u001b[0m\u001b[0m\n",
            "\u001b[0;32m/usr/local/lib/python3.7/dist-packages/torchvision/datasets/folder.py\u001b[0m in \u001b[0;36mfind_classes\u001b[0;34m(self, directory)\u001b[0m\n\u001b[1;32m    219\u001b[0m             \u001b[0;34m(\u001b[0m\u001b[0mTuple\u001b[0m\u001b[0;34m[\u001b[0m\u001b[0mList\u001b[0m\u001b[0;34m[\u001b[0m\u001b[0mstr\u001b[0m\u001b[0;34m]\u001b[0m\u001b[0;34m,\u001b[0m \u001b[0mDict\u001b[0m\u001b[0;34m[\u001b[0m\u001b[0mstr\u001b[0m\u001b[0;34m,\u001b[0m \u001b[0mint\u001b[0m\u001b[0;34m]\u001b[0m\u001b[0;34m]\u001b[0m\u001b[0;34m)\u001b[0m\u001b[0;34m:\u001b[0m \u001b[0mList\u001b[0m \u001b[0mof\u001b[0m \u001b[0mall\u001b[0m \u001b[0mclasses\u001b[0m \u001b[0;32mand\u001b[0m \u001b[0mdictionary\u001b[0m \u001b[0mmapping\u001b[0m \u001b[0meach\u001b[0m \u001b[0;32mclass\u001b[0m \u001b[0mto\u001b[0m \u001b[0man\u001b[0m \u001b[0mindex\u001b[0m\u001b[0;34m.\u001b[0m\u001b[0;34m\u001b[0m\u001b[0;34m\u001b[0m\u001b[0m\n\u001b[1;32m    220\u001b[0m         \"\"\"\n\u001b[0;32m--> 221\u001b[0;31m         \u001b[0;32mreturn\u001b[0m \u001b[0mfind_classes\u001b[0m\u001b[0;34m(\u001b[0m\u001b[0mdirectory\u001b[0m\u001b[0;34m)\u001b[0m\u001b[0;34m\u001b[0m\u001b[0;34m\u001b[0m\u001b[0m\n\u001b[0m\u001b[1;32m    222\u001b[0m \u001b[0;34m\u001b[0m\u001b[0m\n\u001b[1;32m    223\u001b[0m     \u001b[0;32mdef\u001b[0m \u001b[0m__getitem__\u001b[0m\u001b[0;34m(\u001b[0m\u001b[0mself\u001b[0m\u001b[0;34m,\u001b[0m \u001b[0mindex\u001b[0m\u001b[0;34m:\u001b[0m \u001b[0mint\u001b[0m\u001b[0;34m)\u001b[0m \u001b[0;34m->\u001b[0m \u001b[0mTuple\u001b[0m\u001b[0;34m[\u001b[0m\u001b[0mAny\u001b[0m\u001b[0;34m,\u001b[0m \u001b[0mAny\u001b[0m\u001b[0;34m]\u001b[0m\u001b[0;34m:\u001b[0m\u001b[0;34m\u001b[0m\u001b[0;34m\u001b[0m\u001b[0m\n",
            "\u001b[0;32m/usr/local/lib/python3.7/dist-packages/torchvision/datasets/folder.py\u001b[0m in \u001b[0;36mfind_classes\u001b[0;34m(directory)\u001b[0m\n\u001b[1;32m     40\u001b[0m     \u001b[0mclasses\u001b[0m \u001b[0;34m=\u001b[0m \u001b[0msorted\u001b[0m\u001b[0;34m(\u001b[0m\u001b[0mentry\u001b[0m\u001b[0;34m.\u001b[0m\u001b[0mname\u001b[0m \u001b[0;32mfor\u001b[0m \u001b[0mentry\u001b[0m \u001b[0;32min\u001b[0m \u001b[0mos\u001b[0m\u001b[0;34m.\u001b[0m\u001b[0mscandir\u001b[0m\u001b[0;34m(\u001b[0m\u001b[0mdirectory\u001b[0m\u001b[0;34m)\u001b[0m \u001b[0;32mif\u001b[0m \u001b[0mentry\u001b[0m\u001b[0;34m.\u001b[0m\u001b[0mis_dir\u001b[0m\u001b[0;34m(\u001b[0m\u001b[0;34m)\u001b[0m\u001b[0;34m)\u001b[0m\u001b[0;34m\u001b[0m\u001b[0;34m\u001b[0m\u001b[0m\n\u001b[1;32m     41\u001b[0m     \u001b[0;32mif\u001b[0m \u001b[0;32mnot\u001b[0m \u001b[0mclasses\u001b[0m\u001b[0;34m:\u001b[0m\u001b[0;34m\u001b[0m\u001b[0;34m\u001b[0m\u001b[0m\n\u001b[0;32m---> 42\u001b[0;31m         \u001b[0;32mraise\u001b[0m \u001b[0mFileNotFoundError\u001b[0m\u001b[0;34m(\u001b[0m\u001b[0;34mf\"Couldn't find any class folder in {directory}.\"\u001b[0m\u001b[0;34m)\u001b[0m\u001b[0;34m\u001b[0m\u001b[0;34m\u001b[0m\u001b[0m\n\u001b[0m\u001b[1;32m     43\u001b[0m \u001b[0;34m\u001b[0m\u001b[0m\n\u001b[1;32m     44\u001b[0m     \u001b[0mclass_to_idx\u001b[0m \u001b[0;34m=\u001b[0m \u001b[0;34m{\u001b[0m\u001b[0mcls_name\u001b[0m\u001b[0;34m:\u001b[0m \u001b[0mi\u001b[0m \u001b[0;32mfor\u001b[0m \u001b[0mi\u001b[0m\u001b[0;34m,\u001b[0m \u001b[0mcls_name\u001b[0m \u001b[0;32min\u001b[0m \u001b[0menumerate\u001b[0m\u001b[0;34m(\u001b[0m\u001b[0mclasses\u001b[0m\u001b[0;34m)\u001b[0m\u001b[0;34m}\u001b[0m\u001b[0;34m\u001b[0m\u001b[0;34m\u001b[0m\u001b[0m\n",
            "\u001b[0;31mFileNotFoundError\u001b[0m: Couldn't find any class folder in /content/gdrive/MyDrive/APS360Project_Dataset/test1."
          ]
        }
      ]
    },
    {
      "cell_type": "code",
      "source": [
        "#Modifying Trevor's Script \n",
        "\n",
        "class RawSet():\n",
        "    def __init__(self, size):\n",
        "        self.size = size\n",
        "        self.IC = ImageCaptcha()\n",
        "        self.transform = transforms.Compose([\n",
        "            transforms.Resize((224, 224)),\n",
        "            transforms.ToTensor()\n",
        "        ])\n",
        "    def __getitem__(self, index):\n",
        "        label = get_random_string(8)\n",
        "        data = self.IC.generate_image(label)\n",
        "        data = self.transform(data)\n",
        "        label = label.lower().replace(\" \", \"\")\n",
        "        label += \" \" * (8 - len(label))\n",
        "\n",
        "        labelTensor = strToInd(label)\n",
        "        \n",
        "        return data, labelTensor\n",
        "\n",
        "    def __len__(self):\n",
        "        return self.size"
      ],
      "metadata": {
        "id": "9Gf70J58qj8A"
      },
      "execution_count": 52,
      "outputs": []
    },
    {
      "cell_type": "code",
      "source": [
        "test_set = RawSet(100)"
      ],
      "metadata": {
        "id": "xaeAl2oEqulW"
      },
      "execution_count": 53,
      "outputs": []
    },
    {
      "cell_type": "code",
      "source": [
        "for i in range(len(test_set)):\n",
        "    img = test_set[i][0]\n",
        "    lbl = test_set[i][1] # this is a tensor\n",
        "\n",
        "    lbl_str = ''\n",
        "    for index in range(len(lbl)):\n",
        "        lbl_str = lbl_str + chars_str[lbl[index]]\n",
        "\n",
        "    wins = window_gens(np.array(img))\n",
        "    #print(wins[0].shape)\n",
        "    #img_to_tensor = transforms.ToTensor()\n",
        "    #for i in range(0, len(wins)):\n",
        "    #    wins[i] = img_to_tensor(np.array(wins[i]))\n",
        "\n",
        "    for i in range(0, len((wins))):\n",
        "        wins[i] = torch.from_numpy(wins[i]).unsqueeze(0)\n",
        "\n",
        "    model3.cuda()\n",
        "    #print(wins[0].shape)\n",
        "    raw_dist = get_dist(wins)\n",
        "    d_dist = denoise_dist(raw_dist, alpha = 0.5)\n",
        "    final_cap = get_captcha(d_dist, wins)\n",
        "\n",
        "    p_lbl = lbl\n",
        "    p_cap = final_cap\n",
        "    for n1 in range(8 - len(lbl)): # pad to make character comparison easier\n",
        "        p_lbl = p_lbl + \" \"\n",
        "    \n",
        "\n",
        "    for n2 in range(8 - len(final_cap)): # pad to make character comparison easier\n",
        "        p_cap = p_cap + \" \"\n",
        "\n",
        "    #geting accuracy\n",
        "    correct_chars = 0\n",
        "    for ch in range(8):\n",
        "        if p_cap[ch] == p_lbl[ch]:\n",
        "            correct_chars = correct_chars + 1\n",
        "\n",
        "    percent_corr = correct_chars/8.0\n",
        "    print((\"Input Captcha (label) was {} | Output Captcha was {} | % characters correct are {}\").format(lbl_str, final_cap, percent_corr))\n",
        "    "
      ],
      "metadata": {
        "colab": {
          "base_uri": "https://localhost:8080/"
        },
        "id": "zNiD3y-UlOU4",
        "outputId": "122465ec-89e5-40f7-8bd8-d241e9760293"
      },
      "execution_count": 64,
      "outputs": [
        {
          "output_type": "stream",
          "name": "stdout",
          "text": [
            "Input Captcha (label) was bjs3wm   | Output Captcha was j | % characters correct are 0.0\n",
            "Input Captcha (label) was gb5no3eh | Output Captcha was rkr | % characters correct are 0.0\n",
            "Input Captcha (label) was zgqxy7e  | Output Captcha was  | % characters correct are 0.0\n",
            "Input Captcha (label) was ythwkn18 | Output Captcha was ttttt | % characters correct are 0.0\n",
            "Input Captcha (label) was fiac4d   | Output Captcha was  | % characters correct are 0.0\n",
            "Input Captcha (label) was wva7ds6r | Output Captcha was jt | % characters correct are 0.0\n",
            "Input Captcha (label) was itzmqy   | Output Captcha was  | % characters correct are 0.0\n",
            "Input Captcha (label) was 1qefsrso | Output Captcha was r | % characters correct are 0.0\n",
            "Input Captcha (label) was q5nt2del | Output Captcha was tt | % characters correct are 0.0\n",
            "Input Captcha (label) was bfrmlxb  | Output Captcha was jwp7 | % characters correct are 0.0\n",
            "Input Captcha (label) was bc4fkra  | Output Captcha was livt | % characters correct are 0.0\n",
            "Input Captcha (label) was 9cjj6b   | Output Captcha was  | % characters correct are 0.0\n",
            "Input Captcha (label) was qhja9if  | Output Captcha was lvt7 | % characters correct are 0.0\n",
            "Input Captcha (label) was nmldxq5  | Output Captcha was lhjf | % characters correct are 0.0\n",
            "Input Captcha (label) was ss9dzu   | Output Captcha was j | % characters correct are 0.0\n",
            "Input Captcha (label) was cexut4f2 | Output Captcha was bhf | % characters correct are 0.0\n",
            "Input Captcha (label) was uhksubzd | Output Captcha was jpt | % characters correct are 0.0\n",
            "Input Captcha (label) was ae4uyks  | Output Captcha was ttu | % characters correct are 0.0\n",
            "Input Captcha (label) was bqkmed88 | Output Captcha was j7 | % characters correct are 0.0\n",
            "Input Captcha (label) was bffmdkz  | Output Captcha was tjw7tt | % characters correct are 0.0\n",
            "Input Captcha (label) was e74hikh6 | Output Captcha was jjjj | % characters correct are 0.0\n",
            "Input Captcha (label) was wrtyft4u | Output Captcha was lv | % characters correct are 0.0\n",
            "Input Captcha (label) was ek4bkk2o | Output Captcha was trvtu | % characters correct are 0.0\n",
            "Input Captcha (label) was axqaxa   | Output Captcha was j | % characters correct are 0.0\n",
            "Input Captcha (label) was mtbz     | Output Captcha was t | % characters correct are 0.0\n",
            "Input Captcha (label) was yzmfjuc  | Output Captcha was ttt | % characters correct are 0.0\n",
            "Input Captcha (label) was 5jdgb19  | Output Captcha was  | % characters correct are 0.0\n",
            "Input Captcha (label) was ckourhak | Output Captcha was  | % characters correct are 0.0\n",
            "Input Captcha (label) was tt9mvyzx | Output Captcha was t | % characters correct are 0.0\n",
            "Input Captcha (label) was zo2lwic  | Output Captcha was titt | % characters correct are 0.0\n",
            "Input Captcha (label) was mxoebex  | Output Captcha was ljjtt | % characters correct are 0.0\n",
            "Input Captcha (label) was nbjzqw   | Output Captcha was j | % characters correct are 0.0\n",
            "Input Captcha (label) was nbdoktqy | Output Captcha was tjkit7 | % characters correct are 0.0\n",
            "Input Captcha (label) was ms9faiy7 | Output Captcha was lifrbvt | % characters correct are 0.0\n",
            "Input Captcha (label) was q9d8qv   | Output Captcha was wp7 | % characters correct are 0.0\n",
            "Input Captcha (label) was hodqhl   | Output Captcha was  | % characters correct are 0.0\n",
            "Input Captcha (label) was dzuwvk   | Output Captcha was jj | % characters correct are 0.0\n",
            "Input Captcha (label) was lhj8rpk7 | Output Captcha was jytjt7 | % characters correct are 0.0\n",
            "Input Captcha (label) was mp5hxb   | Output Captcha was kut | % characters correct are 0.0\n",
            "Input Captcha (label) was hoiimvt  | Output Captcha was ijiv7 | % characters correct are 0.0\n",
            "Input Captcha (label) was brfupte  | Output Captcha was lpl | % characters correct are 0.0\n",
            "Input Captcha (label) was bbqs6q   | Output Captcha was  | % characters correct are 0.0\n",
            "Input Captcha (label) was wxjkyfb  | Output Captcha was j | % characters correct are 0.0\n",
            "Input Captcha (label) was hkw46rw3 | Output Captcha was  | % characters correct are 0.0\n",
            "Input Captcha (label) was yfzryoug | Output Captcha was pp | % characters correct are 0.0\n",
            "Input Captcha (label) was tuxuirj9 | Output Captcha was lvy7 | % characters correct are 0.0\n",
            "Input Captcha (label) was wq1ekhf  | Output Captcha was ivyjpp | % characters correct are 0.0\n",
            "Input Captcha (label) was ebnmsyx  | Output Captcha was pt | % characters correct are 0.0\n",
            "Input Captcha (label) was xkyfcycd | Output Captcha was  | % characters correct are 0.0\n",
            "Input Captcha (label) was wwwzycdg | Output Captcha was  | % characters correct are 0.0\n",
            "Input Captcha (label) was mqf8jcyy | Output Captcha was ttt | % characters correct are 0.0\n",
            "Input Captcha (label) was xgc39mtt | Output Captcha was  | % characters correct are 0.0\n",
            "Input Captcha (label) was keyhfih4 | Output Captcha was tfn | % characters correct are 0.0\n",
            "Input Captcha (label) was asegszp  | Output Captcha was jvt | % characters correct are 0.0\n",
            "Input Captcha (label) was y9tvfel  | Output Captcha was j7j77tt | % characters correct are 0.0\n",
            "Input Captcha (label) was cbpzr8d  | Output Captcha was f7t | % characters correct are 0.0\n",
            "Input Captcha (label) was eer77ru8 | Output Captcha was  | % characters correct are 0.0\n",
            "Input Captcha (label) was fpfwsswk | Output Captcha was j1ttj7t | % characters correct are 0.0\n",
            "Input Captcha (label) was utsmmpk  | Output Captcha was  | % characters correct are 0.0\n",
            "Input Captcha (label) was zcxgk5l  | Output Captcha was tt | % characters correct are 0.0\n",
            "Input Captcha (label) was pmxqun   | Output Captcha was jkw7 | % characters correct are 0.0\n",
            "Input Captcha (label) was pv7xnsq  | Output Captcha was ilp | % characters correct are 0.0\n",
            "Input Captcha (label) was 2yyjuog  | Output Captcha was guvwppp | % characters correct are 0.0\n",
            "Input Captcha (label) was aiu6ueh  | Output Captcha was ji1pitijt | % characters correct are 0.0\n",
            "Input Captcha (label) was gzt9v8lm | Output Captcha was li11tt | % characters correct are 0.0\n",
            "Input Captcha (label) was stmuzao  | Output Captcha was 1jj7yy | % characters correct are 0.0\n",
            "Input Captcha (label) was olzwr7r  | Output Captcha was jjiihj | % characters correct are 0.0\n",
            "Input Captcha (label) was 6h7qjfix | Output Captcha was hfbr | % characters correct are 0.0\n",
            "Input Captcha (label) was ygrkmstm | Output Captcha was jvyt7jo | % characters correct are 0.0\n",
            "Input Captcha (label) was 1huxgvx  | Output Captcha was jjjt | % characters correct are 0.0\n",
            "Input Captcha (label) was wv8it2   | Output Captcha was  | % characters correct are 0.0\n",
            "Input Captcha (label) was hetdut   | Output Captcha was  | % characters correct are 0.0\n",
            "Input Captcha (label) was ix1zsbb  | Output Captcha was jlvpp | % characters correct are 0.0\n",
            "Input Captcha (label) was z1dxbbte | Output Captcha was v | % characters correct are 0.0\n",
            "Input Captcha (label) was hwr43fx  | Output Captcha was  | % characters correct are 0.0\n",
            "Input Captcha (label) was pl5rjev  | Output Captcha was j7f7j7 | % characters correct are 0.0\n",
            "Input Captcha (label) was f9termd  | Output Captcha was liwp7jt7jwp7 | % characters correct are 0.0\n",
            "Input Captcha (label) was or1mcr6h | Output Captcha was 1j7j71t | % characters correct are 0.0\n",
            "Input Captcha (label) was gsezlvu  | Output Captcha was ltj | % characters correct are 0.0\n",
            "Input Captcha (label) was isl6ihti | Output Captcha was ujwp7jvy | % characters correct are 0.0\n",
            "Input Captcha (label) was dkafogyd | Output Captcha was ij7ft7tt | % characters correct are 0.0\n",
            "Input Captcha (label) was 62zrmbdt | Output Captcha was loiibyt7 | % characters correct are 0.0\n",
            "Input Captcha (label) was edrneunn | Output Captcha was zllvpft | % characters correct are 0.0\n",
            "Input Captcha (label) was n5q7mrq  | Output Captcha was luuhn7nt | % characters correct are 0.0\n",
            "Input Captcha (label) was yeeh5yy  | Output Captcha was j1p72jj7jy7tp | % characters correct are 0.0\n",
            "Input Captcha (label) was mos6efa  | Output Captcha was quuq | % characters correct are 0.0\n",
            "Input Captcha (label) was bjtscf6  | Output Captcha was tt | % characters correct are 0.0\n",
            "Input Captcha (label) was lh3gd6zn | Output Captcha was  | % characters correct are 0.0\n",
            "Input Captcha (label) was sprorc   | Output Captcha was uvruv | % characters correct are 0.0\n",
            "Input Captcha (label) was 1pw26nuq | Output Captcha was jjt | % characters correct are 0.0\n",
            "Input Captcha (label) was lsg1j    | Output Captcha was u | % characters correct are 0.0\n",
            "Input Captcha (label) was zzltcx   | Output Captcha was jpjyip7 | % characters correct are 0.0\n",
            "Input Captcha (label) was g2k5brx  | Output Captcha was tl | % characters correct are 0.0\n",
            "Input Captcha (label) was rfzz7dym | Output Captcha was ljp7 | % characters correct are 0.0\n",
            "Input Captcha (label) was 7hjgyy   | Output Captcha was rrt | % characters correct are 0.0\n",
            "Input Captcha (label) was tfptoaab | Output Captcha was jy7lj7iwrf | % characters correct are 0.0\n",
            "Input Captcha (label) was sqf9z98  | Output Captcha was lf | % characters correct are 0.0\n",
            "Input Captcha (label) was aefyfhr  | Output Captcha was jpjiwp7 | % characters correct are 0.0\n",
            "Input Captcha (label) was ir1sfweu | Output Captcha was  | % characters correct are 0.0\n",
            "Input Captcha (label) was oizwc9va | Output Captcha was  | % characters correct are 0.0\n"
          ]
        }
      ]
    }
  ]
}